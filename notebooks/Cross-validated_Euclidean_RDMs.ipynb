{
 "cells": [
  {
   "cell_type": "code",
   "execution_count": 34,
   "metadata": {
    "tags": []
   },
   "outputs": [],
   "source": [
    "import pandas as pd\n",
    "import numpy as np\n",
    "import networkx as nx\n",
    "import os\n",
    "import numpy as np\n",
    "from nilearn.image import load_img, math_img, new_img_like, concat_imgs, mean_img, index_img\n",
    "from nilearn import plotting\n",
    "import matplotlib.pyplot as plt\n",
    "from functools import lru_cache\n",
    "import seaborn as sns\n",
    "from sklearn.svm import LinearSVC\n",
    "from sklearn.model_selection import LeaveOneOut, LeaveOneGroupOut, cross_val_score, cross_val_predict\n",
    "from sklearn.utils import parallel_backend\n",
    "from scipy.ndimage import binary_dilation\n",
    "from scipy.spatial.distance import squareform\n",
    "from scipy.spatial.distance import cdist\n",
    "from scipy.stats import rankdata, ttest_ind, ttest_rel\n",
    "from matplotlib.patches import Rectangle\n",
    "\n",
    "import matplotlib as mpl\n",
    "mpl.rcParams['pdf.fonttype'] = 42\n",
    "mpl.rcParams.update({'font.size': 12})\n",
    "%matplotlib inline"
   ]
  },
  {
   "cell_type": "code",
   "execution_count": 35,
   "metadata": {
    "tags": []
   },
   "outputs": [
    {
     "data": {
      "text/plain": [
       "393"
      ]
     },
     "execution_count": 35,
     "metadata": {},
     "output_type": "execute_result"
    }
   ],
   "source": [
    "import gc\n",
    "gc.collect()"
   ]
  },
  {
   "cell_type": "markdown",
   "metadata": {},
   "source": [
    "Load Data"
   ]
  },
  {
   "cell_type": "code",
   "execution_count": 36,
   "metadata": {
    "tags": []
   },
   "outputs": [],
   "source": [
    "# base_path = '/Users/ari/mnt/cbica-cluster/project'\n",
    "project_dir = '/Users/ari/GraphLearn'\n",
    "# project_dir = '/Volumes/GraphLearning'\n",
    "\n",
    "data_dir = f'{project_dir}/data'"
   ]
  },
  {
   "cell_type": "code",
   "execution_count": 37,
   "metadata": {
    "tags": []
   },
   "outputs": [],
   "source": [
    "from roi_loader import Loader\n",
    "loader = Loader(project_dir)\n",
    "\n",
    "from graphs import (\n",
    "    modular,\n",
    "    ring_lattice,\n",
    "    graph_df,\n",
    "    subjects,\n",
    "    subjects_lattice,\n",
    "    subjects_modular\n",
    ")"
   ]
  },
  {
   "cell_type": "markdown",
   "metadata": {},
   "source": [
    "# Load Results"
   ]
  },
  {
   "cell_type": "code",
   "execution_count": 38,
   "metadata": {
    "tags": []
   },
   "outputs": [],
   "source": [
    "modular_offdiag_on = nx.to_numpy_array(modular)\n",
    "modular_offdiag_off = 1 - nx.to_numpy_array(modular) - np.eye(15)\n",
    "\n",
    "lattice_offdiag_on = nx.to_numpy_array(ring_lattice)\n",
    "lattice_offdiag_off = 1 - nx.to_numpy_array(ring_lattice) - np.eye(15)"
   ]
  },
  {
   "cell_type": "code",
   "execution_count": 39,
   "metadata": {
    "tags": []
   },
   "outputs": [
    {
     "name": "stdout",
     "output_type": "stream",
     "text": [
      "All Subjects:\n",
      "   Subject    Graph\n",
      "0   GLS003  Modular\n",
      "1   GLS004  Modular\n",
      "2   GLS005  Lattice\n",
      "3   GLS006  Lattice\n",
      "4   GLS008  Modular\n",
      "5   GLS009  Lattice\n",
      "6   GLS010  Modular\n",
      "7   GLS011  Modular\n",
      "8   GLS013  Modular\n",
      "9   GLS014  Lattice\n",
      "11  GLS017  Lattice\n",
      "12  GLS018  Modular\n",
      "13  GLS019  Modular\n",
      "14  GLS020  Lattice\n",
      "15  GLS021  Lattice\n",
      "16  GLS022  Modular\n",
      "17  GLS023  Modular\n",
      "18  GLS024  Lattice\n",
      "19  GLS025  Modular\n",
      "20  GLS026  Modular\n",
      "21  GLS027  Lattice\n",
      "22  GLS028  Lattice\n",
      "23  GLS030  Lattice\n",
      "24  GLS033  Lattice\n",
      "27  GLS037  Modular\n",
      "28  GLS038  Modular\n",
      "29  GLS039  Modular\n",
      "30  GLS040  Lattice\n",
      "32  GLS043  Lattice\n",
      "33  GLS044  Modular\n",
      "34  GLS045  Lattice\n",
      "Modular:\n",
      "['GLS003', 'GLS004', 'GLS008', 'GLS010', 'GLS011', 'GLS013', 'GLS018', 'GLS019', 'GLS022', 'GLS023', 'GLS025', 'GLS026', 'GLS037', 'GLS038', 'GLS039', 'GLS044']\n",
      "Lattice:\n",
      "['GLS005', 'GLS006', 'GLS009', 'GLS014', 'GLS017', 'GLS020', 'GLS021', 'GLS024', 'GLS027', 'GLS028', 'GLS030', 'GLS033', 'GLS040', 'GLS043', 'GLS045']\n"
     ]
    }
   ],
   "source": [
    "subjects = {}\n",
    "subjects['all'] = ['GLS003', 'GLS004', 'GLS005', 'GLS006',\n",
    "                   'GLS008', 'GLS009', 'GLS010', 'GLS011',\n",
    "                   'GLS013', 'GLS014', 'GLS017', 'GLS018',\n",
    "                   'GLS019', 'GLS020', 'GLS021', 'GLS022',\n",
    "                   'GLS023', 'GLS024', 'GLS025', 'GLS026',\n",
    "                   'GLS027', 'GLS028', 'GLS030', 'GLS033',\n",
    "                   'GLS037', 'GLS038', 'GLS039', 'GLS040',\n",
    "                   'GLS043', 'GLS044', 'GLS045']\n",
    "graph = [['GLS003', 'Modular'], ['GLS004', 'Modular'], ['GLS005', 'Lattice'],\n",
    "         ['GLS006', 'Lattice'], ['GLS008', 'Modular'], ['GLS009', 'Lattice'],\n",
    "         ['GLS010', 'Modular'], ['GLS011', 'Modular'], ['GLS013', 'Modular'],\n",
    "         ['GLS014', 'Lattice'], ['GLS016', 'Modular'], ['GLS017', 'Lattice'],\n",
    "         ['GLS018', 'Modular'], ['GLS019', 'Modular'], ['GLS020', 'Lattice'],\n",
    "         ['GLS021', 'Lattice'], ['GLS022', 'Modular'], ['GLS023', 'Modular'],\n",
    "         ['GLS024', 'Lattice'], ['GLS025', 'Modular'], ['GLS026', 'Modular'],\n",
    "         ['GLS027', 'Lattice'], ['GLS028', 'Lattice'], ['GLS030', 'Lattice'],\n",
    "         ['GLS033', 'Lattice'], ['GLS034', 'Lattice'], ['GLS036', 'Modular'],\n",
    "         ['GLS037', 'Modular'], ['GLS038', 'Modular'], ['GLS039', 'Modular'],\n",
    "         ['GLS040', 'Lattice'], ['GLS041', 'Lattice'], ['GLS043', 'Lattice'],\n",
    "         ['GLS044', 'Modular'], ['GLS045', 'Lattice'],\n",
    "         ]\n",
    "graph_dict = {}\n",
    "for (s, g) in graph:\n",
    "    if s in subjects['all']:\n",
    "        graph_dict[s] = g\n",
    "graph_df = pd.DataFrame(graph, columns=['Subject', 'Graph'])\n",
    "graph_df = graph_df[graph_df.Subject.isin(subjects['all'])]\n",
    "\n",
    "print('All Subjects:')\n",
    "print(graph_df)\n",
    "\n",
    "subjects['Modular'] = list(graph_df[graph_df.Graph == 'Modular'].Subject.values)\n",
    "subjects['Lattice'] = list(graph_df[graph_df.Graph == 'Lattice'].Subject.values)\n",
    "\n",
    "print('Modular:')\n",
    "print(subjects['Modular'])\n",
    "\n",
    "print('Lattice:')\n",
    "print(subjects['Lattice'])"
   ]
  },
  {
   "cell_type": "markdown",
   "metadata": {},
   "source": [
    "## Matrices to transform shapes and movements"
   ]
  },
  {
   "cell_type": "code",
   "execution_count": 40,
   "metadata": {
    "tags": []
   },
   "outputs": [],
   "source": [
    "node_to_shape = dict()  # [shape0, shape1, etc]\n",
    "shape_to_node = dict()\n",
    "node_to_shape_square = dict()\n",
    "shape_to_node_square = dict()\n",
    "for subject in subjects['all']:\n",
    "    filename = f'{data_dir}/sub-{subject}/ses-2/func/sub-{subject}_ses-2_task-graphrepresentation_run-1_events.tsv'\n",
    "    data = pd.read_csv(filename, sep ='\\t')\n",
    "    node_to_shape[subject] = data.groupby('shape', sort=True)['node'].first().values\n",
    "    shape_to_node[subject] = np.argsort(node_to_shape[subject])\n",
    "    node_to_shape_square[subject] = squareform(squareform(range(105))[node_to_shape[subject], :][:, node_to_shape[subject]])\n",
    "    shape_to_node_square[subject] = squareform(squareform(range(105))[shape_to_node[subject], :][:, shape_to_node[subject]])"
   ]
  },
  {
   "cell_type": "code",
   "execution_count": 41,
   "metadata": {
    "tags": []
   },
   "outputs": [],
   "source": [
    "movement_order = [\n",
    "    '[10000]',\n",
    "    '[01000]',\n",
    "    '[00100]',\n",
    "    '[00010]',\n",
    "    '[00001]',\n",
    "    '[11000]',\n",
    "    '[01100]',\n",
    "    '[00110]',\n",
    "    '[00011]',\n",
    "    '[10100]',\n",
    "    '[01010]',\n",
    "    '[00101]',\n",
    "    '[10010]',\n",
    "    '[01001]',\n",
    "    '[10001]',\n",
    "]\n",
    "node_to_movement = dict()\n",
    "movement_to_node = dict()\n",
    "node_to_movement_square = dict()\n",
    "movement_to_node_square = dict()\n",
    "for subject in subjects['all']:\n",
    "    filename = f'{data_dir}/sub-{subject}/ses-2/func/sub-{subject}_ses-2_task-graphrepresentation_run-1_events.tsv'\n",
    "    data = pd.read_csv(filename, sep ='\\t')\n",
    "    node_to_movement[subject] = data.groupby('movement_correct', sort=True)['node'].first()[movement_order].values\n",
    "    movement_to_node[subject] = np.argsort(node_to_movement[subject])\n",
    "    node_to_movement_square[subject] = squareform(squareform(range(105))[node_to_movement[subject], :][:, node_to_movement[subject]])\n",
    "    movement_to_node_square[subject] = squareform(squareform(range(105))[movement_to_node[subject], :][:, movement_to_node[subject]])"
   ]
  },
  {
   "cell_type": "code",
   "execution_count": 42,
   "metadata": {
    "tags": []
   },
   "outputs": [],
   "source": [
    "results = dict()\n",
    "rois = [\n",
    "        'loc-localized-lh-200',\n",
    "        'loc-localized-both-600',\n",
    "        'postcentral-lh', \n",
    "        'postcentral-both', \n",
    "        'precentral-lh'\n",
    "        ]\n",
    "method = 'block'\n",
    "subtract_mean = False\n",
    "rescale = False\n",
    "# First, load all inital results\n",
    "for subject in subjects['all']:\n",
    "    for roi in rois:\n",
    "        data = np.load(f'{project_dir}/derived/crossval_euclidean_mats/sub-{subject}/sub-{subject}_rescale-{rescale}_subtract-mean-{subtract_mean}_cross-val-euclidean-squared_{roi}_zstats_{method}-avg.npy')\n",
    "        results[(subject, roi, method, 'node')] = data\n",
    "# Next, compute shape and movement orderings\n",
    "for subject in subjects['all']:\n",
    "    for roi in rois:\n",
    "        results[(subject, roi, 'block', 'shape')] = results[(subject, roi, 'block', 'node')][node_to_shape[subject], :][:, node_to_shape[subject]]\n",
    "        results[(subject, roi, 'block', 'movement')] = results[(subject, roi, 'block', 'node')][node_to_movement[subject], :][:, node_to_movement[subject]]"
   ]
  },
  {
   "cell_type": "code",
   "execution_count": 43,
   "metadata": {
    "tags": []
   },
   "outputs": [],
   "source": [
    "for subject in subjects['all']:\n",
    "    for roi in rois:\n",
    "        for ordering in ['node', 'shape', 'movement']:\n",
    "            results[(subject, roi, 'offdiag-max', ordering)] = results[(subject, roi, 'block', ordering)] / np.max(results[(subject, roi, 'block', ordering)][np.where(1 - np.eye(15))])"
   ]
  },
  {
   "cell_type": "code",
   "execution_count": 44,
   "metadata": {
    "tags": []
   },
   "outputs": [],
   "source": [
    "results_mean = dict()\n",
    "for roi in rois:\n",
    "    for method in ['block', 'offdiag-max']:\n",
    "        for graph in ['Modular', 'Lattice', 'all']:\n",
    "            for ordering in ['node', 'shape', 'movement']:\n",
    "                results_mean[(roi, method, graph, ordering)] = np.mean([results[(subject, roi, method, ordering)] for subject in subjects[graph]], 0)"
   ]
  },
  {
   "cell_type": "code",
   "execution_count": 45,
   "metadata": {
    "tags": []
   },
   "outputs": [],
   "source": [
    "sns.set()"
   ]
  },
  {
   "cell_type": "markdown",
   "metadata": {},
   "source": [
    "# Split Representational Similarity Matrices"
   ]
  },
  {
   "cell_type": "markdown",
   "metadata": {},
   "source": [
    "## Fig. 3c"
   ]
  },
  {
   "cell_type": "code",
   "execution_count": 13,
   "metadata": {},
   "outputs": [
    {
     "data": {
      "image/png": "[encoded data removed]",
      "text/plain": [
       "<Figure size 241.2x241.2 with 2 Axes>"
      ]
     },
     "metadata": {
      "image/png": {
       "height": 206,
       "width": 237
      }
     },
     "output_type": "display_data"
    }
   ],
   "source": [
    "# sns.set()\n",
    "sns.set_style(\"ticks\")\n",
    "sns.set_context(\"paper\", rc={'font.family': ['sans-serif'],\n",
    "                             'font.sans-serif': ['Helvetica'],\n",
    "                             \"font.size\": 7,\n",
    "                             \"axes.titlesize\": 7,\n",
    "                             \"axes.labelsize\": 7,\n",
    "                             \"xtick.labelsize\": 7,\n",
    "                             \"ytick.labelsize\": 7,\n",
    "                             'legend.fontsize': 7,\n",
    "                             'legend.title_fontsize': 7}) \n",
    "\n",
    "method = 'offdiag-max'\n",
    "\n",
    "triu = np.triu(np.ones((15, 15)), 0)\n",
    "tril = np.tril(np.ones((15, 15)), -1)\n",
    "\n",
    "roi = 'postcentral-lh'\n",
    "ordering = 'movement'\n",
    "\n",
    "f, ax = plt.subplots(figsize=(3.35, 3.35))\n",
    "modular_lower = results_mean[(roi, method, 'Modular', ordering)] * tril\n",
    "lattice_upper = results_mean[(roi, method, 'Lattice', ordering)] * triu\n",
    "# modular_lower[np.where(np.eye(15))] = np.nan\n",
    "# lattice_upper[np.where(np.eye(15))] = np.nan\n",
    "\n",
    "sns.heatmap(modular_lower + lattice_upper, ax=ax, square=True, \n",
    "            cbar_kws={'label': 'Distance'},\n",
    "            vmin=0,\n",
    "#                     cmap=pal,\n",
    "#                     vmin=vmin, vmax=vmax,\n",
    "#                     center=0\n",
    "           )\n",
    "ax.set_title(f'Average RDM, Postcentral Gyrus, Left')\n",
    "ax.invert_yaxis()\n",
    "ax.set_ylabel(f'Motor Movement (Modular Subjects)')\n",
    "ax.set_xlabel(f'Motor Movement (Lattice Subjects)')\n",
    "# f.tight_layout()\n",
    "f.savefig('images/RDM_Postcentral.pdf')"
   ]
  },
  {
   "cell_type": "markdown",
   "metadata": {},
   "source": [
    "## Fig 4c"
   ]
  },
  {
   "cell_type": "code",
   "execution_count": 14,
   "metadata": {},
   "outputs": [
    {
     "data": {
      "image/png": "[encoded data removed]",
      "text/plain": [
       "<Figure size 223.2x223.2 with 2 Axes>"
      ]
     },
     "metadata": {
      "image/png": {
       "height": 194,
       "width": 225
      }
     },
     "output_type": "display_data"
    }
   ],
   "source": [
    "sns.set()\n",
    "sns.set_style(\"ticks\")\n",
    "sns.set_context(\"paper\", rc={'font.family': ['sans-serif'],\n",
    "                             'font.sans-serif': ['Helvetica'],\n",
    "                             \"font.size\": 7,\n",
    "                             \"axes.titlesize\": 7,\n",
    "                             \"axes.labelsize\": 7,\n",
    "                             \"xtick.labelsize\": 7,\n",
    "                             \"ytick.labelsize\": 7,\n",
    "                             'legend.fontsize': 7,\n",
    "                             'legend.title_fontsize': 7}) \n",
    "\n",
    "method = 'offdiag-max'\n",
    "# method = 'block'\n",
    "\n",
    "triu = np.triu(np.ones((15, 15)), 1)\n",
    "tril = np.tril(np.ones((15, 15)), -1)\n",
    "\n",
    "roi = 'loc-localized-lh-200'\n",
    "ordering = 'shape'\n",
    "\n",
    "f, ax = plt.subplots(figsize=(3.1, 3.1))\n",
    "modular_lower = results_mean[(roi, method, 'Modular', ordering)] * tril\n",
    "lattice_upper = results_mean[(roi, method, 'Lattice', ordering)] * triu\n",
    "# modular_lower[np.where(np.eye(15))] = np.nan\n",
    "# lattice_upper[np.where(np.eye(15))] = np.nan\n",
    "\n",
    "sns.heatmap(modular_lower + lattice_upper, ax=ax, square=True, \n",
    "#             cbar_kws={'label': 'Mean Similarity Matrix, LOC, Left'},\n",
    "            cbar_kws={'label': 'Distance'},\n",
    "            vmin=0,\n",
    "#                     cmap=pal,\n",
    "#                     vmin=vmin, vmax=vmax,\n",
    "#                     center=0\n",
    "           )\n",
    "ax.set_title(f'Average RDM, Lateral Occipital Cortex, Left')\n",
    "ax.invert_yaxis()\n",
    "ax.set_ylabel(f'Shape (Modular Subjects)')\n",
    "ax.set_xlabel(f'Shape (Lattice Subjects)')\n",
    "# f.tight_layout()\n",
    "f.savefig('images/RDM_LOC.pdf')"
   ]
  },
  {
   "cell_type": "markdown",
   "metadata": {},
   "source": [
    "## Stats: Test for finger difference effect"
   ]
  },
  {
   "cell_type": "code",
   "execution_count": 13,
   "metadata": {
    "tags": []
   },
   "outputs": [
    {
     "data": {
      "text/plain": [
       "<Axes: >"
      ]
     },
     "execution_count": 13,
     "metadata": {},
     "output_type": "execute_result"
    },
    {
     "data": {
      "image/png": "[encoded data removed]",
      "text/plain": [
       "<Figure size 640x480 with 2 Axes>"
      ]
     },
     "metadata": {},
     "output_type": "display_data"
    }
   ],
   "source": [
    "rdm = results_mean[('postcentral-lh', 'offdiag-max', 'all', 'movement')]\n",
    "sns.heatmap(rdm)"
   ]
  },
  {
   "cell_type": "code",
   "execution_count": 14,
   "metadata": {
    "tags": []
   },
   "outputs": [],
   "source": [
    "f1 = rdm[np.where(np.triu(np.ones((5, 5)), 1))]\n",
    "f1v2 = rdm[:5, 5:].flatten()\n",
    "f2 = rdm[5:, 5:][np.where(np.triu(np.ones((10, 10)), 1))]"
   ]
  },
  {
   "cell_type": "code",
   "execution_count": 31,
   "metadata": {
    "tags": []
   },
   "outputs": [
    {
     "data": {
      "text/plain": [
       "<Axes: >"
      ]
     },
     "execution_count": 31,
     "metadata": {},
     "output_type": "execute_result"
    },
    {
     "data": {
      "image/png": "[encoded data removed]",
      "text/plain": [
       "<Figure size 640x480 with 2 Axes>"
      ]
     },
     "metadata": {},
     "output_type": "display_data"
    }
   ],
   "source": [
    "rdm_ex = np.zeros((15,15))\n",
    "rdm_ex[np.where(np.triu(np.ones((5, 5)), 1))] = 1.0\n",
    "rdm_ex[:5, 5:] = 2.0\n",
    "rdm_ex[5:, 5:][np.where(np.triu(np.ones((10, 10)), 1))] = 3.0\n",
    "sns.heatmap(rdm_ex)"
   ]
  },
  {
   "cell_type": "code",
   "execution_count": 15,
   "metadata": {
    "tags": []
   },
   "outputs": [
    {
     "data": {
      "text/plain": [
       "Ttest_indResult(statistic=4.695825531157248, pvalue=1.6702615024343865e-05)"
      ]
     },
     "execution_count": 15,
     "metadata": {},
     "output_type": "execute_result"
    }
   ],
   "source": [
    "ttest_ind(f1v2, f1)"
   ]
  },
  {
   "cell_type": "code",
   "execution_count": 32,
   "metadata": {
    "tags": []
   },
   "outputs": [
    {
     "name": "stdout",
     "output_type": "stream",
     "text": [
      "dof=58\n"
     ]
    }
   ],
   "source": [
    "print(f\"dof={len(f1v2) + len(f1) - 2}\")"
   ]
  },
  {
   "cell_type": "code",
   "execution_count": 18,
   "metadata": {},
   "outputs": [
    {
     "data": {
      "text/plain": [
       "Ttest_indResult(statistic=9.451550628385174, pvalue=2.9592024631160586e-15)"
      ]
     },
     "execution_count": 18,
     "metadata": {},
     "output_type": "execute_result"
    }
   ],
   "source": [
    "ttest_ind(f1v2, f2)"
   ]
  },
  {
   "cell_type": "code",
   "execution_count": 33,
   "metadata": {
    "tags": []
   },
   "outputs": [
    {
     "name": "stdout",
     "output_type": "stream",
     "text": [
      "dof=93\n"
     ]
    }
   ],
   "source": [
    "print(f\"dof={len(f1v2) + len(f2) - 2}\")"
   ]
  },
  {
   "cell_type": "markdown",
   "metadata": {},
   "source": [
    "# Fig 5c: Inter- and Intrapattern Distance"
   ]
  },
  {
   "cell_type": "code",
   "execution_count": 49,
   "metadata": {
    "tags": []
   },
   "outputs": [
    {
     "data": {
      "image/png": "[encoded data removed]",
      "text/plain": [
       "<Figure size 150x300 with 1 Axes>"
      ]
     },
     "metadata": {},
     "output_type": "display_data"
    }
   ],
   "source": [
    "dfs = []\n",
    "for roi in ['loc-localized-both-600']:\n",
    "    for graph in ['Modular', 'Lattice']:\n",
    "        offdiag = [squareform(results[(subject, roi, 'block', 'node')]).mean() for subject in subjects[graph]]\n",
    "        dfs.append(pd.DataFrame(dict(values=offdiag, graph=graph, roi=roi)))\n",
    "df = pd.concat(dfs)\n",
    "\n",
    "sns.set()\n",
    "sns.set_style(\"ticks\")\n",
    "sns.set_context(\"paper\", rc={'font.family': ['sans-serif'],\n",
    "                             'font.sans-serif': ['Ariel'],\n",
    "                             \"font.size\": 7,\n",
    "                             \"axes.titlesize\": 7,\n",
    "                             \"axes.labelsize\": 7,\n",
    "                             \"xtick.labelsize\": 7,\n",
    "                             \"ytick.labelsize\": 7,\n",
    "                             'legend.fontsize': 7,\n",
    "                             'legend.title_fontsize': 7}) \n",
    "axis_color = \"#2B2B2B\"\n",
    "g = sns.catplot(data=df,\n",
    "            x='graph',\n",
    "            y='values',\n",
    "            col='roi',\n",
    "            kind='box',\n",
    "            height=3,\n",
    "            aspect=0.5,\n",
    "            sharey=False,\n",
    "            )\n",
    "# Basic Formatting\n",
    "\n",
    "g.set(ylabel='Average Pattern Distance')\n",
    "g.set(xlabel='Interpattern Distance')\n",
    "g.set(xticks=[])\n",
    "g.set(title=None)\n",
    "# Add chance line\n",
    "transAxes = g.axes.flat[0].transAxes\n",
    "baseline = 1/15.0\n",
    "chance_box_height = 0.05\n",
    "text_xloc = 0.06\n",
    "# Add axis cut\n",
    "g.axes.flat[0].add_patch(Rectangle([-0.005, 0.035], 0.01, 0.02, edgecolor='white', alpha=1, facecolor=\"white\", zorder=100, clip_on=False, transform=transAxes))\n",
    "g.axes.flat[0].add_patch(Rectangle([-0.02, 0.025], 0.04, 0.001, edgecolor=axis_color, alpha=1, facecolor=axis_color, zorder=101, clip_on=False, angle=20, transform=transAxes))\n",
    "g.axes.flat[0].add_patch(Rectangle([-0.02, 0.05], 0.04, 0.001, edgecolor=axis_color, alpha=1, facecolor=axis_color, zorder=101, clip_on=False, angle=20, transform=transAxes))\n",
    "# And set bottom axis to 0\n",
    "yticks = g.axes.flat[0].get_yticks()\n",
    "yticks = np.concatenate(([g.axes.flat[0].get_ylim()[0]], yticks[1:-1]))\n",
    "yticklabels = [f'{int(x)}' for x in yticks]\n",
    "yticklabels[0] = '0'\n",
    "g.set(yticks=yticks)\n",
    "g.set(yticklabels=yticklabels)\n",
    "g.savefig('images/interpattern_distance.pdf')"
   ]
  },
  {
   "cell_type": "code",
   "execution_count": 63,
   "metadata": {
    "tags": []
   },
   "outputs": [
    {
     "data": {
      "text/plain": [
       "Ttest_indResult(statistic=3.0378362550997826, pvalue=0.005002639299346406)"
      ]
     },
     "execution_count": 63,
     "metadata": {},
     "output_type": "execute_result"
    }
   ],
   "source": [
    "ttest_ind(df[df.graph == \"Modular\"][\"values\"], df[df.graph == \"Lattice\"][\"values\"])"
   ]
  },
  {
   "cell_type": "code",
   "execution_count": 71,
   "metadata": {
    "tags": []
   },
   "outputs": [
    {
     "name": "stdout",
     "output_type": "stream",
     "text": [
      "dof = 29\n"
     ]
    }
   ],
   "source": [
    "print(f\"dof = {len(df) - 2}\")"
   ]
  },
  {
   "cell_type": "code",
   "execution_count": 64,
   "metadata": {
    "tags": []
   },
   "outputs": [],
   "source": [
    "def load_block_avg_pattern(subject_id, roi, rescale=False, subtract_mean=False):\n",
    "    block_avg_pattern = np.load(f'{project_dir}/derived/crossval_euclidean_mats/sub-{subject_id}/sub-{subject_id}_rescale-{rescale}_subtract-mean-{subtract_mean}_cross-val-euclidean-squared_{roi}_zstats_block-avg-pattern.npy')\n",
    "    return block_avg_pattern"
   ]
  },
  {
   "cell_type": "code",
   "execution_count": 65,
   "metadata": {
    "tags": []
   },
   "outputs": [
    {
     "data": {
      "image/png": "[encoded data removed]",
      "text/plain": [
       "<Figure size 150x300 with 1 Axes>"
      ]
     },
     "metadata": {},
     "output_type": "display_data"
    }
   ],
   "source": [
    "plot_rc = {'font.family': ['sans-serif'],\n",
    "           'font.sans-serif': ['Arial'],\n",
    "           'font.size': 7,\n",
    "           'axes.titlesize': 7,\n",
    "           'axes.labelsize': 7,\n",
    "           'xtick.labelsize': 7,\n",
    "           'ytick.labelsize': 7,\n",
    "           'legend.fontsize': 7,\n",
    "           'legend.title_fontsize': 7}\n",
    "dfs = []\n",
    "roi = 'loc-localized-both-600'\n",
    "kind = 'mean-pattern'\n",
    "comparison = 'pearson'\n",
    "\n",
    "diag_dfs = []\n",
    "modular_dists = np.zeros(16)\n",
    "lattice_dists = np.zeros(15)\n",
    "for node in range(15):\n",
    "    for s, subject in enumerate(subjects['Modular']):\n",
    "        pattern = load_block_avg_pattern(subject, roi, rescale=rescale, subtract_mean=subtract_mean)\n",
    "        dists = cdist(pattern[:, node, :], pattern[:, node, :], metric='sqeuclidean')\n",
    "        modular_dists[s] += dists[np.where(np.triu(np.ones((8, 8)), 1))].mean()\n",
    "    for s, subject in enumerate(subjects['Lattice']):\n",
    "        pattern = load_block_avg_pattern(subject, roi, rescale=rescale, subtract_mean=subtract_mean)\n",
    "        dists = cdist(pattern[:, node, :], pattern[:, node, :], metric='sqeuclidean')\n",
    "        lattice_dists[s] += dists[np.where(np.triu(np.ones((8, 8)), 1))].mean()\n",
    "modular_dists /= (15 * len(subjects_modular))\n",
    "lattice_dists /= (15 * len(subjects_lattice))\n",
    "diag_dfs.append(pd.DataFrame(dict(dist=modular_dists, graph='Modular', roi=roi, kind='Pattern Distance')))\n",
    "diag_dfs.append(pd.DataFrame(dict(dist=lattice_dists, graph='Lattice', roi=roi, kind='Pattern Distance')))\n",
    "diag_df = pd.concat(diag_dfs)\n",
    "\n",
    "sns.set()\n",
    "sns.set_style(\"ticks\")\n",
    "sns.set_context(\"paper\", rc=plot_rc)\n",
    "axis_color = \"#2B2B2B\"\n",
    "\n",
    "g2 = sns.catplot(data=(diag_df\n",
    "                      .replace({'Lattice': 'Ring Lattice'})\n",
    "                      .rename(columns={'graph': 'Graph'})\n",
    "                     ),\n",
    "                x='kind',\n",
    "                y='dist',\n",
    "                hue='Graph',\n",
    "#                 row='comparison',\n",
    "                legend_out=False,\n",
    "                height=3,\n",
    "                aspect=0.5,\n",
    "                kind='box')\n",
    "g2.set(title=None)\n",
    "g2.set(xlabel=None)\n",
    "g2.set(ylim=(10, 60))\n",
    "g2.set(ylabel='Intra-Pattern Mean Euclidean Distance')\n",
    "plt.legend(title='Graph', loc=(0.05, 0.15))\n",
    "transAxes = g2.axes.flat[0].transAxes\n",
    "# Add axis cut\n",
    "g2.axes.flat[0].add_patch(Rectangle([-0.005, 0.035], 0.01, 0.02, edgecolor='white', alpha=1, facecolor=\"white\", zorder=100, clip_on=False, transform=transAxes))\n",
    "g2.axes.flat[0].add_patch(Rectangle([-0.02, 0.025], 0.04, 0.001, edgecolor=axis_color, alpha=1, facecolor=axis_color, zorder=101, clip_on=False, angle=20, transform=transAxes))\n",
    "g2.axes.flat[0].add_patch(Rectangle([-0.02, 0.05], 0.04, 0.001, edgecolor=axis_color, alpha=1, facecolor=axis_color, zorder=101, clip_on=False, angle=20, transform=transAxes))\n",
    "# And set bottom axis to 0\n",
    "yticks = g2.axes.flat[0].get_yticks()\n",
    "# yticks = np.concatenate(([0.03], yticks[2:]))\n",
    "yticklabels = [f'{int(x)}' for x in yticks]\n",
    "yticklabels[0] = '0'\n",
    "g2.set(yticks=yticks)\n",
    "g2.set(yticklabels=yticklabels)\n",
    "# Save\n",
    "g2.savefig('images/intrasubject_pattern_distance.pdf')"
   ]
  },
  {
   "cell_type": "code",
   "execution_count": 69,
   "metadata": {
    "tags": []
   },
   "outputs": [
    {
     "data": {
      "text/plain": [
       "Ttest_indResult(statistic=-3.597202314704651, pvalue=0.0011795585343102532)"
      ]
     },
     "execution_count": 69,
     "metadata": {},
     "output_type": "execute_result"
    }
   ],
   "source": [
    "ttest_ind(diag_df[diag_df.graph == \"Modular\"][\"dist\"], diag_df[diag_df.graph == \"Lattice\"][\"dist\"])"
   ]
  },
  {
   "cell_type": "code",
   "execution_count": 72,
   "metadata": {
    "tags": []
   },
   "outputs": [
    {
     "name": "stdout",
     "output_type": "stream",
     "text": [
      "dof = 29\n"
     ]
    }
   ],
   "source": [
    "print(f\"dof = {len(diag_df) - 2}\")"
   ]
  },
  {
   "cell_type": "code",
   "execution_count": null,
   "metadata": {},
   "outputs": [],
   "source": []
  }
 ],
 "metadata": {
  "kernelspec": {
   "display_name": "Python 3 (ipykernel)",
   "language": "python",
   "name": "python3"
  },
  "language_info": {
   "codemirror_mode": {
    "name": "ipython",
    "version": 3
   },
   "file_extension": ".py",
   "mimetype": "text/x-python",
   "name": "python",
   "nbconvert_exporter": "python",
   "pygments_lexer": "ipython3",
   "version": "3.11.0"
  },
  "toc-autonumbering": false,
  "toc-showcode": false,
  "toc-showmarkdowntxt": true,
  "toc-showtags": false
 },
 "nbformat": 4,
 "nbformat_minor": 4
}
