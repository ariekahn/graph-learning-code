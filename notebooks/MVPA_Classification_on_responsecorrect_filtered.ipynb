{
 "cells": [
  {
   "cell_type": "markdown",
   "metadata": {},
   "source": [
    "This is more or less a copy of `Behavior_and_MVPA_Classification`, only without the behavioral analyses, and with the classifier result switched to one trained only on correct trials"
   ]
  },
  {
   "cell_type": "markdown",
   "metadata": {},
   "source": [
    "# Preliminary stuff"
   ]
  },
  {
   "cell_type": "code",
   "execution_count": 1,
   "metadata": {
    "tags": []
   },
   "outputs": [],
   "source": [
    "import numpy as np\n",
    "import pandas as pd\n",
    "from collections import Counter\n",
    "import networkx as nx\n",
    "import os.path\n",
    "import matplotlib.pyplot as plt\n",
    "import seaborn as sns\n",
    "from scipy.stats import ttest_ind, ttest_1samp, pearsonr, kendalltau\n",
    "import matplotlib\n",
    "import statsmodels.formula.api as smf\n",
    "from matplotlib.patches import Rectangle\n",
    "import matplotlib.transforms as transforms\n",
    "from nilearn import surface, plotting\n",
    "from graphs import (\n",
    "    modular,\n",
    "    ring_lattice,\n",
    "    graph_df,\n",
    "    subjects,\n",
    "    subjects_lattice,\n",
    "    subjects_modular\n",
    ")\n",
    "from roi_loader import Loader\n",
    "import matplotlib as mpl\n",
    "\n",
    "mpl.rcParams['pdf.fonttype'] = 42\n",
    "matplotlib.rcParams.update({'font.size': 12})\n",
    "# %config InlineBackend.figure_format = 'retina'\n",
    "# matplotlib.rcParams.update({'font.sans-serif': \"Helvetica\"})\n",
    "# matplotlib.rcParams.update({'font.serif': \"Times\"})\n",
    "%matplotlib inline\n",
    "# %config InlineBackend.figure_format='retina' "
   ]
  },
  {
   "cell_type": "code",
   "execution_count": 2,
   "metadata": {
    "tags": []
   },
   "outputs": [],
   "source": [
    "project_dir = os.path.expanduser('~/GraphLearn')\n",
    "data_dir = f'{project_dir}/data'\n",
    "loader = Loader(project_dir)"
   ]
  },
  {
   "cell_type": "markdown",
   "metadata": {},
   "source": [
    "## Load MVPA Results\n",
    "\n",
    "Results are saved as dataframes, indexed by:\n",
    "\n",
    "**classifier**:\n",
    "What the analysis attemped to classify\n",
    "\n",
    "**rescale**: Whether each parameter estimate was scaled to 0\n",
    "\n",
    "**subtract_mean**: Zero-center parameter estimates for each voxel within a block"
   ]
  },
  {
   "cell_type": "code",
   "execution_count": 3,
   "metadata": {
    "tags": []
   },
   "outputs": [],
   "source": [
    "classifier_names = (\n",
    "    'node_correct',\n",
    ")"
   ]
  },
  {
   "cell_type": "code",
   "execution_count": 4,
   "metadata": {
    "tags": []
   },
   "outputs": [],
   "source": [
    "rois = (\n",
    "    'postcentral-lh',\n",
    "    'postcentral-rh',\n",
    "    'postcentral-both',\n",
    "    'precentral-lh',\n",
    "    'precentral-rh',\n",
    "    'precentral-both',\n",
    "    'loc-localized',\n",
    "    'loc-localized-lh',\n",
    "    'loc-localized-rh',\n",
    "    'hippocampus-lh',\n",
    "    'hippocampus-rh',\n",
    "    'hippocampus-both',\n",
    "    'entorhinal-lh',\n",
    "    'entorhinal-rh',\n",
    "    'entorhinal-both',\n",
    ")"
   ]
  },
  {
   "cell_type": "code",
   "execution_count": 5,
   "metadata": {
    "tags": []
   },
   "outputs": [],
   "source": [
    "pe_params = [\n",
    "    (True, True),\n",
    "]"
   ]
  },
  {
   "cell_type": "code",
   "execution_count": 6,
   "metadata": {
    "tags": []
   },
   "outputs": [
    {
     "name": "stdout",
     "output_type": "stream",
     "text": [
      "Loading postcentral-lh...\n",
      "Loading node_correct...\n",
      "Loading postcentral-rh...\n",
      "Loading node_correct...\n",
      "Loading postcentral-both...\n",
      "Loading node_correct...\n",
      "Loading precentral-lh...\n",
      "Loading node_correct...\n",
      "Loading precentral-rh...\n",
      "Loading node_correct...\n",
      "Loading precentral-both...\n",
      "Loading node_correct...\n",
      "Loading loc-localized...\n",
      "Loading node_correct...\n",
      "Loading loc-localized-lh...\n",
      "Loading node_correct...\n",
      "Loading loc-localized-rh...\n",
      "Loading node_correct...\n",
      "Loading hippocampus-lh...\n",
      "Loading node_correct...\n",
      "Loading hippocampus-rh...\n",
      "Loading node_correct...\n",
      "Loading hippocampus-both...\n",
      "Loading node_correct...\n",
      "Loading entorhinal-lh...\n",
      "Loading node_correct...\n",
      "Loading entorhinal-rh...\n",
      "Loading node_correct...\n",
      "Loading entorhinal-both...\n",
      "Loading node_correct...\n",
      "Done\n"
     ]
    }
   ],
   "source": [
    "results_list = []\n",
    "mvpa_dir = 'mvpa_classifier'\n",
    "for rescale, subtract_mean in pe_params:\n",
    "    for roi in rois:\n",
    "        print(f'Loading {roi}...')\n",
    "        for classifier in classifier_names:\n",
    "            print(f'Loading {classifier}...')\n",
    "            for subject in subjects:\n",
    "                df = pd.read_csv(f'{project_dir}/derived/{mvpa_dir}/sub-{subject}/sub-{subject}_rescale-{rescale}_subtract-mean-{subtract_mean}_zstats_{roi}_predictions-{classifier}.csv.gz', index_col=0)\n",
    "                df['classifier'] = classifier\n",
    "                df['roi'] = roi\n",
    "                df['subtract_mean'] = subtract_mean\n",
    "                df['rescale'] = rescale\n",
    "                results_list.append(df)\n",
    "print('Done')"
   ]
  },
  {
   "cell_type": "code",
   "execution_count": 7,
   "metadata": {
    "tags": []
   },
   "outputs": [],
   "source": [
    "results = pd.concat(results_list)\n",
    "n_features_list = ['0', '10', '20', '50', '100', '200', '400', '600', '800']\n",
    "results['voxels'] = pd.Categorical(results['voxels'].astype('Int16').fillna(0).astype(str), n_features_list)"
   ]
  },
  {
   "cell_type": "markdown",
   "metadata": {},
   "source": [
    "## Verify Graph assignments"
   ]
  },
  {
   "cell_type": "code",
   "execution_count": 8,
   "metadata": {
    "tags": []
   },
   "outputs": [
    {
     "name": "stdout",
     "output_type": "stream",
     "text": [
      "Modular: 16\n",
      "Lattice: 15\n"
     ]
    }
   ],
   "source": [
    "# results = results_loc[('node', True, True)]\n",
    "m_subjects = results[results['graph'] == 'Modular']['subject'].unique()\n",
    "l_subjects = results[results['graph'] == 'Lattice']['subject'].unique()\n",
    "print(f'Modular: {len(m_subjects)}')\n",
    "print(f'Lattice: {len(l_subjects)}')"
   ]
  },
  {
   "cell_type": "markdown",
   "metadata": {},
   "source": [
    "# Behavior"
   ]
  },
  {
   "cell_type": "markdown",
   "metadata": {},
   "source": [
    "Tuples of classifier name, and chance performance.\n",
    "\n",
    "\n",
    "Here 'node' is predicting the current node based on our BOLD data,\n",
    "and we expect chance to be a random guess with 15 stimuli, or 1 / 15"
   ]
  },
  {
   "cell_type": "code",
   "execution_count": 9,
   "metadata": {
    "tags": []
   },
   "outputs": [],
   "source": [
    "classifiers = [\n",
    "    ('node_correct', 1/15.0),\n",
    "]"
   ]
  },
  {
   "cell_type": "markdown",
   "metadata": {},
   "source": [
    "Some shortcuts to load dataframes of data for:\n",
    "1. Session one learning: `session_one`\n",
    "2. Session one recall: `session_checks`\n",
    "3. session two recall: `sessions_two`"
   ]
  },
  {
   "cell_type": "code",
   "execution_count": 10,
   "metadata": {
    "tags": []
   },
   "outputs": [],
   "source": [
    "session_one = loader.load_session_one(subjects)\n",
    "session_two = loader.load_session_two(subjects)\n",
    "session_checks = loader.load_checks(subjects)"
   ]
  },
  {
   "cell_type": "markdown",
   "metadata": {},
   "source": [
    "tag which trials are cross-cluster"
   ]
  },
  {
   "cell_type": "code",
   "execution_count": 18,
   "metadata": {
    "tags": []
   },
   "outputs": [],
   "source": [
    "is_modular = session_one['graph'] == 'Modular'\n",
    "cluster_1 = is_modular & (session_one['node'] < 5)\n",
    "cluster_2 = is_modular & (session_one['node'] > 4) & (session_one['node'] < 10)\n",
    "cluster_3 = is_modular & (session_one['node'] > 9)\n",
    "\n",
    "session_one['cluster'] = np.NaN\n",
    "session_one.loc[cluster_1, 'cluster'] = 1\n",
    "session_one.loc[cluster_2, 'cluster'] = 2\n",
    "session_one.loc[cluster_3, 'cluster'] = 3\n",
    "\n",
    "same_cluster = session_one['cluster'].shift(1) == session_one['cluster']\n",
    "same_block = session_one['run'].shift(1) == session_one['run']\n",
    "cross_cluster = is_modular & ~same_cluster & same_block\n",
    "session_one['cross_cluster'] = cross_cluster"
   ]
  },
  {
   "cell_type": "markdown",
   "metadata": {},
   "source": [
    "Flag some trials as invalid, if any of:\n",
    "1. response time is less than 100ms\n",
    "2. response time is more than 5 seconds\n",
    "3. response time is more than 3 SDs away from that subject's mean\n",
    "4. the response was incorrect"
   ]
  },
  {
   "cell_type": "code",
   "execution_count": 20,
   "metadata": {
    "tags": []
   },
   "outputs": [],
   "source": [
    "session_one['response_time_zscored'] = session_one.groupby(['subject', 'correct'])['response_time'].transform(lambda x: (x - x.mean())/x.std())\n",
    "session_one['valid'] = (\n",
    "   (session_one['response_time_zscored'].abs() < 3) \n",
    "   & session_one['correct'] \n",
    "   & (session_one['response_time'] > 0.1)\n",
    "   & (session_one['response_time'] < 5)\n",
    "#     & (session_one['response_time'] > 0.5)\n",
    ")\n",
    "session_one['rt_only_valid'] = (\n",
    "   (session_one['response_time_zscored'].abs() < 3) \n",
    "   & (session_one['response_time'] > 0.1)\n",
    "   & (session_one['response_time'] < 5)\n",
    ")\n",
    "session_one['session'] = 'one'\n",
    "\n",
    "session_two['valid'] = (\n",
    "   (~np.isnan(session_two.response_time))\n",
    "   & session_two['correct']\n",
    "#     & (session_two['response_time'] > 0.5)\n",
    ")\n",
    "session_two['session'] = 'two'\n",
    "\n",
    "session_checks['session'] = 'check'\n",
    "session_checks['valid'] = (~np.isnan(session_checks.response_time)) & session_checks['correct']"
   ]
  },
  {
   "cell_type": "markdown",
   "metadata": {},
   "source": [
    "combine them all into a single dataframe"
   ]
  },
  {
   "cell_type": "code",
   "execution_count": 21,
   "metadata": {
    "tags": []
   },
   "outputs": [],
   "source": [
    "sessions_all = pd.concat((session_one, session_two, session_checks)).reset_index(drop=True)"
   ]
  },
  {
   "cell_type": "markdown",
   "metadata": {},
   "source": [
    "Set up plotting style"
   ]
  },
  {
   "cell_type": "code",
   "execution_count": 22,
   "metadata": {
    "tags": []
   },
   "outputs": [],
   "source": [
    "sns.set()\n",
    "sns.set_style(\"ticks\")\n",
    "sns.set_context(\"paper\", rc={'font.family': ['sans-serif'],\n",
    "                             'font.sans-serif': ['Arial'],\n",
    "                             \"font.size\": 7,\n",
    "                             \"axes.titlesize\": 7,\n",
    "                             \"axes.labelsize\": 7,\n",
    "                             \"xtick.labelsize\": 7,\n",
    "                             \"ytick.labelsize\": 7,\n",
    "                             'legend.fontsize': 7,\n",
    "                             'legend.title_fontsize': 7,\n",
    "                             \"lines.linewidth\": 0.5\n",
    "                            }\n",
    "               ) \n",
    "axis_color = \"#2B2B2B\""
   ]
  },
  {
   "cell_type": "markdown",
   "metadata": {},
   "source": [
    "# Classification and Behavior"
   ]
  },
  {
   "cell_type": "markdown",
   "metadata": {},
   "source": [
    "Derive our per-subject response time and accuracy measures"
   ]
  },
  {
   "cell_type": "code",
   "execution_count": 23,
   "metadata": {
    "tags": []
   },
   "outputs": [],
   "source": [
    "response_times = sessions_all.loc[lambda x: x.valid].groupby(['session', 'subject'])['response_time'].mean().reset_index()\n",
    "accuracies = sessions_all.groupby(['session', 'subject'])['correct'].mean().rename('response_accuracy').reset_index()"
   ]
  },
  {
   "cell_type": "markdown",
   "metadata": {},
   "source": [
    "Combine with classification accuracy results"
   ]
  },
  {
   "cell_type": "code",
   "execution_count": 24,
   "metadata": {
    "tags": []
   },
   "outputs": [],
   "source": [
    "classification_vs_response_accuracy = (\n",
    "    results\n",
    "    .loc[lambda x: ((x.voxels == '0') | \n",
    "                    ((x.roi != \"loc-localized\") & (x.voxels == \"200\")) | \n",
    "                    ((x.roi == \"loc-localized\") & (x.voxels == \"600\")))]\n",
    "    .query(f'classifier == \"{classifier}\"')\n",
    "    .query(f'rescale == {rescale}')\n",
    "    .query(f'subtract_mean == {subtract_mean}')\n",
    "    .groupby(['subject', 'roi', 'graph'])['correct_prediction']\n",
    "    .mean()\n",
    "    .dropna()\n",
    "    .rename('classification_accuracy')\n",
    "    .reset_index()\n",
    "    .merge(accuracies, how='left')\n",
    ")"
   ]
  },
  {
   "cell_type": "code",
   "execution_count": 25,
   "metadata": {
    "tags": []
   },
   "outputs": [],
   "source": [
    "classification_vs_response_time = (\n",
    "    results\n",
    "    .query('correct')\n",
    "    .loc[lambda x: ((x.voxels == '0') | \n",
    "                    ((x.roi != \"loc-localized\") & (x.voxels == \"200\")) | \n",
    "                    ((x.roi == \"loc-localized\") & (x.voxels == \"600\")))]\n",
    "    .query(f'classifier == \"{classifier}\"')\n",
    "    .query(f'rescale == {rescale}')\n",
    "    .query('correct == True')\n",
    "    .query(f'subtract_mean == {subtract_mean}')\n",
    "    .groupby(['subject', 'roi', 'graph'])['correct_prediction']\n",
    "    .mean()\n",
    "    .dropna()\n",
    "    .rename('classification_accuracy')\n",
    "    .reset_index()\n",
    "    .merge(response_times, how='left')\n",
    ")"
   ]
  },
  {
   "cell_type": "code",
   "execution_count": 26,
   "metadata": {
    "tags": []
   },
   "outputs": [],
   "source": [
    "classifier = 'node_correct'\n",
    "rescale=True\n",
    "subtract_mean=True\n",
    "acc_df = (results\n",
    "          .loc[lambda x: (((x.voxels == \"0\"))\n",
    "                          | ((x.roi != \"loc-localized\") & (x.voxels == \"200\"))\n",
    "                          | ((x.roi == \"loc-localized\") & (x.voxels == \"400\")))]\n",
    "          .query('correct == True')\n",
    "          .query(f'classifier == \"{classifier}\"')\n",
    "          .query(f'rescale == {rescale}')\n",
    "          .query(f'subtract_mean == {subtract_mean}')\n",
    "          .groupby(['subject', 'roi', 'graph'])['correct_prediction']\n",
    "          .mean()\n",
    "          .dropna()\n",
    "          .rename('Classification Accuracy')\n",
    "          .reset_index()\n",
    "         )\n",
    "plot_rc = {'font.family': ['sans-serif'],\n",
    "           'font.sans-serif': ['Arial'],\n",
    "           'font.size': 7,\n",
    "           'axes.titlesize': 7,\n",
    "           'axes.labelsize': 7,\n",
    "           'xtick.labelsize': 7,\n",
    "           'ytick.labelsize': 7,\n",
    "           'legend.fontsize': 7,\n",
    "           'legend.title_fontsize': 7}"
   ]
  },
  {
   "cell_type": "markdown",
   "metadata": {},
   "source": [
    "# Postcentral Gyrus: Classification and Behavior"
   ]
  },
  {
   "cell_type": "code",
   "execution_count": 27,
   "metadata": {
    "tags": []
   },
   "outputs": [
    {
     "name": "stdout",
     "output_type": "stream",
     "text": [
      "Minimum classification accuracy: 0.066\n",
      "Maximum classification accuracy: 0.190\n"
     ]
    }
   ],
   "source": [
    "postcentral_classification_min = (acc_df\n",
    " .loc[lambda x: (x.roi == 'postcentral-both')]\n",
    ").min()['Classification Accuracy']\n",
    "\n",
    "postcentral_classification_max = (acc_df\n",
    " .loc[lambda x: (x.roi == 'postcentral-both')]\n",
    ").max()['Classification Accuracy']\n",
    "\n",
    "print(f'Minimum classification accuracy: {postcentral_classification_min:0.3f}')\n",
    "print(f'Maximum classification accuracy: {postcentral_classification_max:0.3f}')"
   ]
  },
  {
   "cell_type": "markdown",
   "metadata": {},
   "source": [
    "## Postcentral Gyrus boxplots"
   ]
  },
  {
   "cell_type": "code",
   "execution_count": 28,
   "metadata": {},
   "outputs": [
    {
     "data": {
      "text/plain": [
       "<seaborn.axisgrid.FacetGrid at 0x2a92c7ed0>"
      ]
     },
     "execution_count": 28,
     "metadata": {},
     "output_type": "execute_result"
    },
    {
     "data": {
      "image/png": "[encoded data removed]",
      "text/plain": [
       "<Figure size 300x300 with 1 Axes>"
      ]
     },
     "metadata": {},
     "output_type": "display_data"
    }
   ],
   "source": [
    "sns.set()\n",
    "sns.set_style(\"ticks\")\n",
    "sns.set_context(\"paper\", rc=plot_rc)\n",
    "g = sns.catplot(data=(acc_df\n",
    "                      .loc[lambda x: (x.roi == 'postcentral-lh') | (x.roi == 'postcentral-rh') | (x.roi == 'postcentral-both')]\n",
    "                      .replace({'Lattice': 'Ring Lattice'})\n",
    "                      .replace({'postcentral-lh': 'Left',\n",
    "                                'postcentral-rh': 'Right',\n",
    "                                'postcentral-both': 'Bilateral'})\n",
    "                      .rename(columns={'graph': 'Graph'})\n",
    "                     ),\n",
    "                x='roi',\n",
    "                y='Classification Accuracy',\n",
    "                hue='Graph',\n",
    "                order=['Left', 'Right', 'Bilateral'],\n",
    "                height=3,\n",
    "                legend_out=False,\n",
    "                palette='muted',\n",
    "                kind='box')\n",
    "# Basic Formatting\n",
    "g.set(xlabel=None)\n",
    "g.set(title=None)\n",
    "g.set(ylim=(0.04, 0.19))\n",
    "\n",
    "# Add chance line\n",
    "transAxes = g.axes.flat[0].transAxes\n",
    "baseline = 1/15.0\n",
    "baseline_axis = g.axes.flat[0].transLimits.transform((0, baseline))[1]  # Get baseline in axis coordinates\n",
    "chance_box_height = 0.12\n",
    "chance_box_width = 0.3\n",
    "chance_text_center = baseline_axis - 0.035  # vertical center of chance text\n",
    "roi_text_center = baseline_axis - 0.115  # vertical center of roi label\n",
    "text_xloc = 0.05  # X location of ROI and chance text box, in axis coordinates\n",
    "g.axes.flat[0].axhline(y=baseline, linestyle='--', color='black', label='Chance')\n",
    "g.axes.flat[0].text(text_xloc, roi_text_center, 'Postcentral Gyrus, Trained on Correct Trials', transform=transAxes)\n",
    "g.axes.flat[0].add_patch(Rectangle([text_xloc, baseline_axis - chance_box_height/2], chance_box_width, chance_box_height, transform=transAxes, edgecolor='Black', alpha=1, facecolor=\"white\", zorder=100))\n",
    "g.axes.flat[0].text(text_xloc + 0.01, chance_text_center, 'Chance Level\\nClassification', zorder=101, transform=transAxes)\n",
    "\n",
    "# Add axis cut\n",
    "g.axes.flat[0].add_patch(Rectangle([-0.005, 0.035], 0.01, 0.02, edgecolor='white', alpha=1, facecolor=\"white\", zorder=100, clip_on=False, transform=transAxes))\n",
    "g.axes.flat[0].add_patch(Rectangle([-0.02, 0.025], 0.04, 0.001, edgecolor=axis_color, alpha=1, facecolor=axis_color, zorder=101, clip_on=False, angle=20, transform=transAxes))\n",
    "g.axes.flat[0].add_patch(Rectangle([-0.02, 0.05], 0.04, 0.001, edgecolor=axis_color, alpha=1, facecolor=axis_color, zorder=101, clip_on=False, angle=20, transform=transAxes))\n",
    "\n",
    "# And set bottom axis to 0\n",
    "yticks = g.axes.flat[0].get_yticks()\n",
    "yticks = np.concatenate(([g.axes.flat[0].get_ylim()[0]], yticks[1:-1]))\n",
    "yticklabels = [f'{x:0.2f}' for x in yticks]\n",
    "yticklabels[0] = '0'\n",
    "g.set(yticks=yticks)\n",
    "g.set(yticklabels=yticklabels)\n",
    "\n",
    "# Save\n",
    "# g.savefig('images/classification_postcentral_rois_boxplot.pdf')"
   ]
  },
  {
   "cell_type": "markdown",
   "metadata": {},
   "source": [
    "## Stats: Hemispheric classification diferences"
   ]
  },
  {
   "cell_type": "markdown",
   "metadata": {},
   "source": [
    "Is the difference between left and right hemispheres significant?"
   ]
  },
  {
   "cell_type": "markdown",
   "metadata": {
    "tags": []
   },
   "source": [
    "Two-sided paired t-test"
   ]
  },
  {
   "cell_type": "code",
   "execution_count": 29,
   "metadata": {
    "tags": []
   },
   "outputs": [
    {
     "name": "stdout",
     "output_type": "stream",
     "text": [
      "Postcentral, Left vs. Right Classification Accuracy\n"
     ]
    },
    {
     "data": {
      "text/plain": [
       "TtestResult(statistic=6.595984609829273, pvalue=2.670572370731573e-07, df=30)"
      ]
     },
     "execution_count": 29,
     "metadata": {},
     "output_type": "execute_result"
    }
   ],
   "source": [
    "from scipy.stats import ttest_rel\n",
    "x1 = (acc_df\n",
    "                      .loc[lambda x: (x.roi == 'postcentral-lh')]\n",
    "                     )['Classification Accuracy'].values\n",
    "x2 = (acc_df\n",
    "                      .loc[lambda x: (x.roi == 'postcentral-rh')]\n",
    "                     )['Classification Accuracy'].values\n",
    "print('Postcentral, Left vs. Right Classification Accuracy')\n",
    "ttest_rel(x1, x2)"
   ]
  },
  {
   "cell_type": "markdown",
   "metadata": {},
   "source": [
    "What about between left and bilateral?"
   ]
  },
  {
   "cell_type": "code",
   "execution_count": 119,
   "metadata": {
    "tags": []
   },
   "outputs": [
    {
     "name": "stdout",
     "output_type": "stream",
     "text": [
      "Postcentral, Bilateral vs. Left Classification Accuracy\n",
      "TtestResult(statistic=-0.6374418700626101, pvalue=0.5286723974012844, df=30)\n"
     ]
    }
   ],
   "source": [
    "from scipy.stats import ttest_rel\n",
    "x1 = (acc_df\n",
    "                      .loc[lambda x: (x.roi == 'postcentral-both')]\n",
    "                     )['Classification Accuracy'].values\n",
    "x2 = (acc_df\n",
    "                      .loc[lambda x: (x.roi == 'postcentral-lh')]\n",
    "                     )['Classification Accuracy'].values\n",
    "print('Postcentral, Bilateral vs. Left Classification Accuracy')\n",
    "print(ttest_rel(x1, x2))"
   ]
  },
  {
   "cell_type": "markdown",
   "metadata": {},
   "source": [
    "## Figure 3b: Postcentral Gyrus classification vs. response time"
   ]
  },
  {
   "cell_type": "code",
   "execution_count": 36,
   "metadata": {},
   "outputs": [
    {
     "name": "stderr",
     "output_type": "stream",
     "text": [
      "/Users/arik/.pyenv/versions/miniconda3-latest/envs/jupyter/lib/python3.11/site-packages/seaborn/regression.py:598: UserWarning: legend_out is deprecated from the `lmplot` function signature. Please update your code to pass it using `facet_kws`.\n",
      "  warnings.warn(msg, UserWarning)\n"
     ]
    },
    {
     "data": {
      "text/plain": [
       "<seaborn.axisgrid.FacetGrid at 0x28e9e1310>"
      ]
     },
     "execution_count": 36,
     "metadata": {},
     "output_type": "execute_result"
    },
    {
     "data": {
      "image/png": "[encoded data removed]",
      "text/plain": [
       "<Figure size 300x300 with 1 Axes>"
      ]
     },
     "metadata": {},
     "output_type": "display_data"
    }
   ],
   "source": [
    "# sns.set()\n",
    "sns.set_style(\"ticks\")\n",
    "sns.set_context(\"paper\", rc=plot_rc)\n",
    "\n",
    "g = sns.lmplot(data=(classification_vs_response_time\n",
    "                     .loc[lambda x: x.session == 'two']\n",
    "                     .loc[lambda x: x.roi == 'postcentral-both']\n",
    "                     .replace({'Lattice': 'Ring Lattice'})\n",
    "                     .rename(columns={'graph': 'Graph'})\n",
    "                    ),\n",
    "               x='response_time',\n",
    "               y='classification_accuracy',\n",
    "               hue='Graph',\n",
    "               height=3, # Gives width of 3in\n",
    "               scatter_kws={\"s\": 10},\n",
    "               legend_out=False,\n",
    "               palette='muted',\n",
    "               fit_reg=True)\n",
    "# Basic Formatting\n",
    "g.set(xlabel='Response Time')\n",
    "g.set(ylabel='Classification Accuracy')\n",
    "g.set(title=None)\n",
    "g.set(xlim=(0.69, 1.2))\n",
    "g.set(ylim=(0.04, 0.19))\n",
    "plt.legend(loc='upper left', title='Graph')\n",
    "\n",
    "# Add chance line\n",
    "transAxes = g.axes.flat[0].transAxes\n",
    "baseline_axis = g.axes.flat[0].transLimits.transform((0, baseline))[1]  # Get baseline in axis coordinates\n",
    "baseline = 1/15.0\n",
    "chance_box_height = 0.12\n",
    "chance_box_width = 0.3\n",
    "chance_text_center = baseline_axis - 0.035  # vertical center of chance text\n",
    "roi_text_center = baseline_axis - 0.115  # vertical center of roi label\n",
    "text_xloc = 0.62  # X location of ROI and chance text box, in axis coordinates\n",
    "g.axes.flat[0].axhline(y=baseline, linestyle='--', color='black', label='Chance')\n",
    "g.axes.flat[0].text(text_xloc - 0.25, roi_text_center, 'Postcentral Gyrus, Bilateral, Trained on Correct Trials', transform=transAxes)\n",
    "g.axes.flat[0].add_patch(Rectangle([text_xloc, baseline_axis - chance_box_height/2], chance_box_width, chance_box_height, transform=transAxes, edgecolor='Black', alpha=1, facecolor=\"white\", zorder=100))\n",
    "g.axes.flat[0].text(text_xloc + 0.01, chance_text_center, 'Chance Level\\nClassification', zorder=101, transform=transAxes)\n",
    "\n",
    "# Add axis cut\n",
    "g.axes.flat[0].add_patch(Rectangle([-0.005, 0.035], 0.01, 0.02, edgecolor='white', alpha=1, facecolor=\"white\", zorder=100, clip_on=False, transform=transAxes))\n",
    "g.axes.flat[0].add_patch(Rectangle([-0.02, 0.025], 0.04, 0.001, edgecolor=axis_color, alpha=1, facecolor=axis_color, zorder=101, clip_on=False, angle=20, transform=transAxes))\n",
    "g.axes.flat[0].add_patch(Rectangle([-0.02, 0.05], 0.04, 0.001, edgecolor=axis_color, alpha=1, facecolor=axis_color, zorder=101, clip_on=False, angle=20, transform=transAxes))\n",
    "\n",
    "# And set bottom axis to 0\n",
    "yticks = g.axes.flat[0].get_yticks()\n",
    "yticks = np.concatenate(([g.axes.flat[0].get_ylim()[0]], yticks[1:-1]))\n",
    "yticklabels = [f'{x:0.2f}' for x in yticks]\n",
    "yticklabels[0] = '0'\n",
    "g.set(yticks=yticks)\n",
    "g.set(yticklabels=yticklabels)\n",
    "# Save\n",
    "# g.savefig('images/classification_vs_response_time_session_two_postcentral_combined.pdf')"
   ]
  },
  {
   "cell_type": "markdown",
   "metadata": {},
   "source": [
    "## Stats: Postcentral gyrus classification accuracy vs. response time"
   ]
  },
  {
   "cell_type": "code",
   "execution_count": 37,
   "metadata": {},
   "outputs": [
    {
     "name": "stdout",
     "output_type": "stream",
     "text": [
      "                               OLS Regression Results                              \n",
      "===================================================================================\n",
      "Dep. Variable:     classification_accuracy   R-squared:                       0.188\n",
      "Model:                                 OLS   Adj. R-squared:                  0.097\n",
      "Method:                      Least Squares   F-statistic:                     2.077\n",
      "Date:                     Mon, 12 Feb 2024   Prob (F-statistic):              0.127\n",
      "Time:                             10:29:52   Log-Likelihood:                 73.349\n",
      "No. Observations:                       31   AIC:                            -138.7\n",
      "Df Residuals:                           27   BIC:                            -133.0\n",
      "Df Model:                                3                                         \n",
      "Covariance Type:                 nonrobust                                         \n",
      "=========================================================================================================\n",
      "                                            coef    std err          t      P>|t|      [0.025      0.975]\n",
      "---------------------------------------------------------------------------------------------------------\n",
      "Intercept                                 0.1308      0.009     13.794      0.000       0.111       0.150\n",
      "graph[T.Modular]                          0.0019      0.012      0.158      0.875      -0.022       0.026\n",
      "zscore_response_time                      0.0159      0.010      1.586      0.124      -0.005       0.036\n",
      "zscore_response_time:graph[T.Modular]    -0.0028      0.012     -0.222      0.826      -0.028       0.023\n",
      "==============================================================================\n",
      "Omnibus:                        5.687   Durbin-Watson:                   2.149\n",
      "Prob(Omnibus):                  0.058   Jarque-Bera (JB):                3.988\n",
      "Skew:                           0.748   Prob(JB):                        0.136\n",
      "Kurtosis:                       3.922   Cond. No.                         6.28\n",
      "==============================================================================\n",
      "\n",
      "Notes:\n",
      "[1] Standard Errors assume that the covariance matrix of the errors is correctly specified.\n"
     ]
    }
   ],
   "source": [
    "classification_vs_response_time['zscore_response_time'] = ((classification_vs_response_time['response_time'] -\n",
    "                                                            classification_vs_response_time['response_time'].mean()) /\n",
    "                                                           classification_vs_response_time['response_time'].std())\n",
    "\n",
    "roi = 'postcentral-both'\n",
    "mod = smf.ols(formula='classification_accuracy ~ zscore_response_time * graph',\n",
    "              data=(classification_vs_response_time\n",
    "                 .loc[lambda x: x.session == 'two']\n",
    "                 .loc[lambda x: x.roi == roi]\n",
    "                )\n",
    "             )\n",
    "res = mod.fit()\n",
    "print(res.summary())"
   ]
  },
  {
   "cell_type": "markdown",
   "metadata": {},
   "source": [
    "## Stats: Postcentral gyrus classification accuracy vs. response accuracy"
   ]
  },
  {
   "cell_type": "code",
   "execution_count": 38,
   "metadata": {},
   "outputs": [
    {
     "name": "stdout",
     "output_type": "stream",
     "text": [
      "                               OLS Regression Results                              \n",
      "===================================================================================\n",
      "Dep. Variable:     classification_accuracy   R-squared:                       0.143\n",
      "Model:                                 OLS   Adj. R-squared:                  0.048\n",
      "Method:                      Least Squares   F-statistic:                     1.503\n",
      "Date:                     Mon, 12 Feb 2024   Prob (F-statistic):              0.236\n",
      "Time:                             10:30:12   Log-Likelihood:                 72.524\n",
      "No. Observations:                       31   AIC:                            -137.0\n",
      "Df Residuals:                           27   BIC:                            -131.3\n",
      "Df Model:                                3                                         \n",
      "Covariance Type:                 nonrobust                                         \n",
      "======================================================================================================\n",
      "                                         coef    std err          t      P>|t|      [0.025      0.975]\n",
      "------------------------------------------------------------------------------------------------------\n",
      "Intercept                              0.1135      0.079      1.444      0.160      -0.048       0.275\n",
      "graph[T.Modular]                       0.1780      0.115      1.553      0.132      -0.057       0.413\n",
      "response_accuracy                      0.0068      0.089      0.077      0.939      -0.175       0.189\n",
      "response_accuracy:graph[T.Modular]    -0.1933      0.129     -1.497      0.146      -0.458       0.072\n",
      "==============================================================================\n",
      "Omnibus:                        9.245   Durbin-Watson:                   2.082\n",
      "Prob(Omnibus):                  0.010   Jarque-Bera (JB):                8.794\n",
      "Skew:                           0.851   Prob(JB):                       0.0123\n",
      "Kurtosis:                       4.978   Cond. No.                         66.9\n",
      "==============================================================================\n",
      "\n",
      "Notes:\n",
      "[1] Standard Errors assume that the covariance matrix of the errors is correctly specified.\n"
     ]
    }
   ],
   "source": [
    "roi = 'postcentral-both'\n",
    "mod = smf.ols(formula='classification_accuracy ~ response_accuracy * graph',\n",
    "              data=(classification_vs_response_accuracy\n",
    "                 .loc[lambda x: x.session == 'two']\n",
    "                 .loc[lambda x: x.roi == roi]\n",
    "                )\n",
    "             )\n",
    "res = mod.fit()\n",
    "print(res.summary())"
   ]
  },
  {
   "cell_type": "markdown",
   "metadata": {},
   "source": [
    "# LOC: Classification and Behavior"
   ]
  },
  {
   "cell_type": "code",
   "execution_count": 39,
   "metadata": {},
   "outputs": [
    {
     "name": "stdout",
     "output_type": "stream",
     "text": [
      "Minimum classification accuracy: 0.154\n",
      "Maximum classification accuracy: 0.396\n"
     ]
    }
   ],
   "source": [
    "loc_classification_min = (acc_df\n",
    " .loc[lambda x: (x.roi == 'loc-localized')]\n",
    ").min()['Classification Accuracy']\n",
    "\n",
    "loc_classification_max = (acc_df\n",
    " .loc[lambda x: (x.roi == 'loc-localized')]\n",
    ").max()['Classification Accuracy']\n",
    "\n",
    "print(f'Minimum classification accuracy: {loc_classification_min:0.3f}')\n",
    "print(f'Maximum classification accuracy: {loc_classification_max:0.3f}')"
   ]
  },
  {
   "cell_type": "markdown",
   "metadata": {},
   "source": [
    "## Figure 4a: LOC boxplots"
   ]
  },
  {
   "cell_type": "code",
   "execution_count": 40,
   "metadata": {},
   "outputs": [
    {
     "data": {
      "text/plain": [
       "<seaborn.axisgrid.FacetGrid at 0x2ac4f4050>"
      ]
     },
     "execution_count": 40,
     "metadata": {},
     "output_type": "execute_result"
    },
    {
     "data": {
      "image/png": "[encoded data removed]",
      "text/plain": [
       "<Figure size 300x300 with 1 Axes>"
      ]
     },
     "metadata": {},
     "output_type": "display_data"
    }
   ],
   "source": [
    "sns.set()\n",
    "sns.set_style(\"ticks\")\n",
    "sns.set_context(\"paper\", rc=plot_rc)\n",
    "g = sns.catplot(data=(acc_df\n",
    "                      .loc[lambda x: (x.roi == 'loc-localized-lh') | (x.roi == 'loc-localized-rh') | (x.roi == 'loc-localized')]\n",
    "                      .replace({'Lattice': 'Ring Lattice'})\n",
    "                      .replace({'loc-localized-lh': 'Left',\n",
    "                                'loc-localized-rh': 'Right',\n",
    "                                'loc-localized': 'Bilateral'})\n",
    "                      .rename(columns={'graph': 'Graph'})\n",
    "                     ),\n",
    "                x='roi',\n",
    "                y='Classification Accuracy',\n",
    "                hue='Graph',\n",
    "                order=['Left', 'Right', 'Bilateral'],\n",
    "                height=3,\n",
    "                legend_out=False,\n",
    "                palette='muted',\n",
    "                kind='box')\n",
    "# Basic Formatting\n",
    "g.set(xlabel=None)\n",
    "g.set(ylim=(0.03, 0.45))\n",
    "g.set(title=None)\n",
    "# Add chance line\n",
    "transAxes = g.axes.flat[0].transAxes\n",
    "baseline = 1/15.0\n",
    "chance_box_height = 0.05\n",
    "text_xloc = 0.06\n",
    "# Get baseline in axis coordinates\n",
    "baseline_axis = g.axes.flat[0].transLimits.transform((0, baseline))[1]\n",
    "g.axes.flat[0].axhline(y=baseline, linestyle='--', color='black', label='Chance')\n",
    "g.axes.flat[0].text(text_xloc, baseline_axis + 0.05, 'Lateral Occipital Cortex, Trained on Correct Trials', transform=transAxes)\n",
    "g.axes.flat[0].add_patch(Rectangle([text_xloc - 0.01, baseline_axis - chance_box_height/2], 0.533, chance_box_height, transform=transAxes, edgecolor='Black', alpha=1, facecolor=\"white\", zorder=100))\n",
    "g.axes.flat[0].text(text_xloc, baseline_axis - 0.015, 'Chance Level Classification', zorder=101, transform=transAxes)\n",
    "# g.axes.flat[0].axhline(y=baseline, linestyle='--', color='black', label='Chance')\n",
    "# g.axes.flat[0].text(0.13, baseline - 0.0005, 'Chance Level Classification', zorder=101, ha='center')\n",
    "# g.axes.flat[0].add_patch(Rectangle([-0.45, baseline-0.005], 1.16, 0.0155, edgecolor='Black', alpha=1, facecolor=\"white\", zorder=100))\n",
    "# Add axis cut\n",
    "g.axes.flat[0].add_patch(Rectangle([-0.005, 0.035], 0.01, 0.02, edgecolor='white', alpha=1, facecolor=\"white\", zorder=100, clip_on=False, transform=transAxes))\n",
    "g.axes.flat[0].add_patch(Rectangle([-0.02, 0.025], 0.04, 0.001, edgecolor=axis_color, alpha=1, facecolor=axis_color, zorder=101, clip_on=False, angle=20, transform=transAxes))\n",
    "g.axes.flat[0].add_patch(Rectangle([-0.02, 0.05], 0.04, 0.001, edgecolor=axis_color, alpha=1, facecolor=axis_color, zorder=101, clip_on=False, angle=20, transform=transAxes))\n",
    "# And set bottom axis to 0\n",
    "yticks = g.axes.flat[0].get_yticks()\n",
    "yticks = np.concatenate(([0.03], yticks[2:]))\n",
    "yticklabels = [f'{x:0.2f}' for x in yticks]\n",
    "yticklabels[0] = '0'\n",
    "g.set(yticks=yticks)\n",
    "g.set(yticklabels=yticklabels)\n",
    "# Save\n",
    "# g.savefig('images/classification_loc_localized_rois_boxplot.pdf')"
   ]
  },
  {
   "cell_type": "markdown",
   "metadata": {},
   "source": [
    "## Figure 4b: LOC classification vs. response time"
   ]
  },
  {
   "cell_type": "code",
   "execution_count": 41,
   "metadata": {},
   "outputs": [
    {
     "name": "stderr",
     "output_type": "stream",
     "text": [
      "/Users/arik/.pyenv/versions/miniconda3-latest/envs/jupyter/lib/python3.11/site-packages/seaborn/regression.py:598: UserWarning: legend_out is deprecated from the `lmplot` function signature. Please update your code to pass it using `facet_kws`.\n",
      "  warnings.warn(msg, UserWarning)\n"
     ]
    },
    {
     "data": {
      "text/plain": [
       "<seaborn.axisgrid.FacetGrid at 0x2ac540d50>"
      ]
     },
     "execution_count": 41,
     "metadata": {},
     "output_type": "execute_result"
    },
    {
     "data": {
      "image/png": "[encoded data removed]",
      "text/plain": [
       "<Figure size 300x300 with 1 Axes>"
      ]
     },
     "metadata": {},
     "output_type": "display_data"
    }
   ],
   "source": [
    "# sns.set()\n",
    "sns.set_style(\"ticks\")\n",
    "sns.set_context(\"paper\", rc=plot_rc)\n",
    "\n",
    "g = sns.lmplot(data=(classification_vs_response_time\n",
    "                     .loc[lambda x: x.session == 'two']\n",
    "                     .loc[lambda x: x.roi == 'loc-localized']\n",
    "                     .rename(columns={'graph': 'Graph'})\n",
    "                     .replace({'Lattice': 'Ring Lattice'})\n",
    "                    ),\n",
    "               x='response_time',\n",
    "               y='classification_accuracy',\n",
    "               hue='Graph',\n",
    "               height=3, # Gives width of 3in\n",
    "               scatter_kws={\"s\": 10},\n",
    "               legend_out=False,\n",
    "               palette='muted',\n",
    "               fit_reg=True)\n",
    "# Basic Formatting\n",
    "g.set(xlim=(0.69, 1.2))\n",
    "g.set(xlabel='Response Time')\n",
    "g.set(ylabel='Classification Accuracy')\n",
    "g.set(title=None)\n",
    "g.set(ylim=(0.03, 0.45))\n",
    "# Add chance line\n",
    "transAxes = g.axes.flat[0].transAxes\n",
    "baseline = 1/15.0\n",
    "chance_box_height = 0.05\n",
    "text_xloc = 0.06\n",
    "# Get baseline in axis coordinates\n",
    "baseline_axis = g.axes.flat[0].transLimits.transform((0, baseline))[1]\n",
    "g.axes.flat[0].axhline(y=baseline, linestyle='--', color='black', label='Chance')\n",
    "g.axes.flat[0].text(text_xloc, baseline_axis + 0.05, 'Lateral Occipital Cortex, Bilateral', transform=transAxes)\n",
    "g.axes.flat[0].add_patch(Rectangle([text_xloc - 0.01, baseline_axis - chance_box_height/2], 0.533, chance_box_height, transform=transAxes, edgecolor='Black', alpha=1, facecolor=\"white\", zorder=100))\n",
    "g.axes.flat[0].text(text_xloc, baseline_axis - 0.015, 'Chance Level Classification, Trained on Correct Trials', zorder=101, transform=transAxes)\n",
    "# Add axis cut\n",
    "g.axes.flat[0].add_patch(Rectangle([-0.005, 0.035], 0.01, 0.02, edgecolor='white', alpha=1, facecolor=\"white\", zorder=100, clip_on=False, transform=transAxes))\n",
    "g.axes.flat[0].add_patch(Rectangle([-0.02, 0.025], 0.04, 0.001, edgecolor=axis_color, alpha=1, facecolor=axis_color, zorder=101, clip_on=False, angle=20, transform=transAxes))\n",
    "g.axes.flat[0].add_patch(Rectangle([-0.02, 0.05], 0.04, 0.001, edgecolor=axis_color, alpha=1, facecolor=axis_color, zorder=101, clip_on=False, angle=20, transform=transAxes))\n",
    "# And set bottom axis to 0\n",
    "yticks = g.axes.flat[0].get_yticks()\n",
    "yticks = np.concatenate(([0.03], yticks[2:]))\n",
    "yticklabels = [f'{x:0.2f}' for x in yticks]\n",
    "yticklabels[0] = '0'\n",
    "g.set(yticks=yticks)\n",
    "g.set(yticklabels=yticklabels)\n",
    "# Save\n",
    "# g.savefig('images/classification_vs_response_time_session_two_loc_both.pdf')"
   ]
  },
  {
   "cell_type": "markdown",
   "metadata": {},
   "source": [
    "## Stats: LOC classification accuracy vs. response time"
   ]
  },
  {
   "cell_type": "code",
   "execution_count": 42,
   "metadata": {},
   "outputs": [
    {
     "name": "stdout",
     "output_type": "stream",
     "text": [
      "                               OLS Regression Results                              \n",
      "===================================================================================\n",
      "Dep. Variable:     classification_accuracy   R-squared:                       0.402\n",
      "Model:                                 OLS   Adj. R-squared:                  0.335\n",
      "Method:                      Least Squares   F-statistic:                     6.043\n",
      "Date:                     Mon, 12 Feb 2024   Prob (F-statistic):            0.00276\n",
      "Time:                             10:30:27   Log-Likelihood:                 53.354\n",
      "No. Observations:                       31   AIC:                            -98.71\n",
      "Df Residuals:                           27   BIC:                            -92.97\n",
      "Df Model:                                3                                         \n",
      "Covariance Type:                 nonrobust                                         \n",
      "=========================================================================================================\n",
      "                                            coef    std err          t      P>|t|      [0.025      0.975]\n",
      "---------------------------------------------------------------------------------------------------------\n",
      "Intercept                                 0.2472      0.018     13.682      0.000       0.210       0.284\n",
      "graph[T.Modular]                          0.0547      0.023      2.428      0.022       0.008       0.101\n",
      "zscore_response_time                      0.0256      0.019      1.341      0.191      -0.014       0.065\n",
      "zscore_response_time:graph[T.Modular]    -0.0045      0.024     -0.190      0.851      -0.053       0.044\n",
      "==============================================================================\n",
      "Omnibus:                        0.871   Durbin-Watson:                   1.824\n",
      "Prob(Omnibus):                  0.647   Jarque-Bera (JB):                0.714\n",
      "Skew:                           0.353   Prob(JB):                        0.700\n",
      "Kurtosis:                       2.765   Cond. No.                         6.28\n",
      "==============================================================================\n",
      "\n",
      "Notes:\n",
      "[1] Standard Errors assume that the covariance matrix of the errors is correctly specified.\n"
     ]
    }
   ],
   "source": [
    "classification_vs_response_time['zscore_response_time'] = ((classification_vs_response_time['response_time'] -\n",
    "                                                            classification_vs_response_time['response_time'].mean()) /\n",
    "                                                           classification_vs_response_time['response_time'].std())\n",
    "\n",
    "roi = 'loc-localized'\n",
    "mod = smf.ols(formula='classification_accuracy ~ zscore_response_time * graph',\n",
    "              data=(classification_vs_response_time\n",
    "                 .loc[lambda x: x.session == 'two']\n",
    "                 .loc[lambda x: x.roi == roi]\n",
    "                )\n",
    "             )\n",
    "res = mod.fit()\n",
    "print(res.summary())"
   ]
  },
  {
   "cell_type": "markdown",
   "metadata": {},
   "source": [
    "## Stats: LOC classification accuracy vs. response accuracy"
   ]
  },
  {
   "cell_type": "code",
   "execution_count": 43,
   "metadata": {},
   "outputs": [
    {
     "name": "stdout",
     "output_type": "stream",
     "text": [
      "                               OLS Regression Results                              \n",
      "===================================================================================\n",
      "Dep. Variable:     classification_accuracy   R-squared:                       0.316\n",
      "Model:                                 OLS   Adj. R-squared:                  0.240\n",
      "Method:                      Least Squares   F-statistic:                     4.162\n",
      "Date:                     Mon, 12 Feb 2024   Prob (F-statistic):             0.0151\n",
      "Time:                             10:30:32   Log-Likelihood:                 51.284\n",
      "No. Observations:                       31   AIC:                            -94.57\n",
      "Df Residuals:                           27   BIC:                            -88.83\n",
      "Df Model:                                3                                         \n",
      "Covariance Type:                 nonrobust                                         \n",
      "======================================================================================================\n",
      "                                         coef    std err          t      P>|t|      [0.025      0.975]\n",
      "------------------------------------------------------------------------------------------------------\n",
      "Intercept                              0.2605      0.156      1.670      0.106      -0.060       0.581\n",
      "graph[T.Modular]                       0.0830      0.228      0.365      0.718      -0.384       0.550\n",
      "response_accuracy                     -0.0355      0.176     -0.202      0.842      -0.396       0.325\n",
      "response_accuracy:graph[T.Modular]    -0.0229      0.256     -0.089      0.930      -0.549       0.503\n",
      "==============================================================================\n",
      "Omnibus:                        3.083   Durbin-Watson:                   2.032\n",
      "Prob(Omnibus):                  0.214   Jarque-Bera (JB):                2.186\n",
      "Skew:                           0.649   Prob(JB):                        0.335\n",
      "Kurtosis:                       3.100   Cond. No.                         66.9\n",
      "==============================================================================\n",
      "\n",
      "Notes:\n",
      "[1] Standard Errors assume that the covariance matrix of the errors is correctly specified.\n"
     ]
    }
   ],
   "source": [
    "roi = 'loc-localized'\n",
    "mod = smf.ols(formula='classification_accuracy ~ response_accuracy * graph',\n",
    "              data=(classification_vs_response_accuracy\n",
    "                 .loc[lambda x: x.session == 'two']\n",
    "                 .loc[lambda x: x.roi == roi]\n",
    "                )\n",
    "             )\n",
    "res = mod.fit()\n",
    "print(res.summary())"
   ]
  },
  {
   "cell_type": "markdown",
   "metadata": {},
   "source": [
    "## ANOVA: Classification Accuracy differs between graphs"
   ]
  },
  {
   "cell_type": "markdown",
   "metadata": {},
   "source": [
    "Do we observe higher classification accuracy in participants trained on the modular graph than in participants trained on the lattice graph?\n",
    "\n",
    "We're looking at both ROI and Graph as factors"
   ]
  },
  {
   "cell_type": "markdown",
   "metadata": {},
   "source": [
    "Note this section is being run in R. It may be easier to separately export the CSV and then run the analysis in RStudio, etc, but here I'm using rpy2 to directly interface between R and python"
   ]
  },
  {
   "cell_type": "code",
   "execution_count": 44,
   "metadata": {
    "tags": []
   },
   "outputs": [
    {
     "name": "stderr",
     "output_type": "stream",
     "text": [
      "R[write to console]: \n",
      "Attaching package: ‘dplyr’\n",
      "\n",
      "\n",
      "R[write to console]: The following objects are masked from ‘package:stats’:\n",
      "\n",
      "    filter, lag\n",
      "\n",
      "\n",
      "R[write to console]: The following objects are masked from ‘package:base’:\n",
      "\n",
      "    intersect, setdiff, setequal, union\n",
      "\n",
      "\n",
      "R[write to console]: \n",
      "Attaching package: ‘rstatix’\n",
      "\n",
      "\n",
      "R[write to console]: The following object is masked from ‘package:stats’:\n",
      "\n",
      "    filter\n",
      "\n",
      "\n"
     ]
    },
    {
     "name": "stdout",
     "output_type": "stream",
     "text": [
      "[1] \"Postcentral\"\n",
      "ANOVA Table (type III tests)\n",
      "\n",
      "     Effect DFn DFd      F        p p<.05   ges\n",
      "1     graph   1  29  0.933 3.42e-01       0.023\n",
      "2       roi   2  58 34.502 1.34e-10     * 0.248\n",
      "3 graph:roi   2  58  0.679 5.11e-01       0.006\n",
      "[1] \"LOC\"\n",
      "ANOVA Table (type III tests)\n",
      "\n",
      "     Effect DFn DFd      F        p p<.05   ges\n",
      "1     graph   1  29 18.488 1.76e-04     * 0.318\n",
      "2       roi   2  58 77.532 4.10e-17     * 0.417\n",
      "3 graph:roi   2  58  1.564 2.18e-01       0.014\n"
     ]
    }
   ],
   "source": [
    "import rpy2\n",
    "import rpy2.robjects as robjects\n",
    "from rpy2.robjects.packages import importr\n",
    "\n",
    "robjects.r(\"\"\"\n",
    "get_confint <- function(model) {\n",
    "  return(get_confint_summary(summary(model)))\n",
    "}\n",
    "\n",
    "get_confint_summary <- function(summary) {\n",
    "  coefficients <- summary$coefficients\n",
    "  \n",
    "  lb <- coefficients[,c(\"Estimate\")] - 1.96*coefficients[,c(\"Std. Error\")]\n",
    "  ub <- coefficients[,c(\"Estimate\")] + 1.96*coefficients[,c(\"Std. Error\")]\n",
    "  \n",
    "  coef.start <- coefficients[,1:2]\n",
    "  coef.end <- coefficients[,3:dim(coefficients)[[2]]]\n",
    "  \n",
    "  coef.start <- cbind(coef.start, lb)\n",
    "  colnames(coef.start)[[length(colnames(coef.start))]] <- \"95% Conf. Int.\"\n",
    "  \n",
    "  coef.start <- cbind(coef.start, ub) \n",
    "  colnames(coef.start)[[length(colnames(coef.start))]] <- \"\"\n",
    "  \n",
    "  coef.start <- cbind(coef.start, coef.end)\n",
    "  \n",
    "  \n",
    "  coef.start <- as_tibble(coef.start, rownames=\"Variable\")\n",
    "  \n",
    "  coef.start <-\n",
    "    coef.start %>%\n",
    "    mutate(Sig. = if_else(`Pr(>|t|)` < 0.1, \".\", \"\")) %>%\n",
    "    mutate(Sig. = if_else(`Pr(>|t|)` < 0.05, \"*\", Sig.)) %>%\n",
    "    mutate(Sig. = if_else(`Pr(>|t|)` < 0.01, \"**\", Sig.)) %>%\n",
    "    mutate(Sig. = if_else(`Pr(>|t|)` < 0.001, \"***\", Sig.))\n",
    "  \n",
    "  colnames(coef.start)[[1]] <- \" \"\n",
    "  colnames(coef.start)[[5]] <- \" \"\n",
    "  \n",
    "  return(coef.start)\n",
    "}\n",
    "\"\"\")\n",
    "\n",
    "df = classification_vs_response_time.loc[lambda x: (x.roi.isin(['postcentral-rh', 'postcentral-lh', 'postcentral-both'])) & (x.session == 'two')]\n",
    "df.to_csv('data/classification_vs_response_time_postcentral.csv', index=False)\n",
    "df = classification_vs_response_time.loc[lambda x: (x.roi.isin(['loc-localized-rh', 'loc-localized-lh', 'loc-localized'])) & (x.session == 'two')]\n",
    "df.to_csv('data/classification_vs_response_time_loc-localized.csv', index=False)\n",
    "\n",
    "rstring=\"\"\"\n",
    "    cluster_test <- function(){\n",
    "        library(xtable)\n",
    "        library(readr)\n",
    "        library(tibble)\n",
    "        library(dplyr)\n",
    "        library(rstatix)\n",
    "        data <- read_csv('data/classification_vs_response_time_postcentral.csv', col_types='fffdfddd')\n",
    "        # Two-way mixed ANOVA test\n",
    "        res.aov <- anova_test(\n",
    "          data = data, dv = classification_accuracy, wid = subject,\n",
    "          between = graph, within = roi\n",
    "          )\n",
    "        print('Postcentral')\n",
    "        print(get_anova_table(res.aov))\n",
    "        data <- read_csv('data/classification_vs_response_time_loc-localized.csv', col_types='fffdfddd')\n",
    "        # Two-way mixed ANOVA test\n",
    "        res.aov  <- anova_test(\n",
    "          data = data, dv = classification_accuracy, wid = subject,\n",
    "          between = graph, within = roi\n",
    "          )\n",
    "        print('LOC')\n",
    "        print(get_anova_table(res.aov))\n",
    "    }\n",
    "\"\"\"\n",
    "rfunc=robjects.r(rstring)\n",
    "\n",
    "# rdata=ts(traindf.Price.values,frequency=4)\n",
    "r_df=rfunc()"
   ]
  }
 ],
 "metadata": {
  "kernelspec": {
   "display_name": "Python 3 (ipykernel)",
   "language": "python",
   "name": "python3"
  },
  "language_info": {
   "codemirror_mode": {
    "name": "ipython",
    "version": 3
   },
   "file_extension": ".py",
   "mimetype": "text/x-python",
   "name": "python",
   "nbconvert_exporter": "python",
   "pygments_lexer": "ipython3",
   "version": "3.11.7"
  },
  "toc-autonumbering": true,
  "toc-showcode": false,
  "toc-showmarkdowntxt": false,
  "toc-showtags": false
 },
 "nbformat": 4,
 "nbformat_minor": 4
}
