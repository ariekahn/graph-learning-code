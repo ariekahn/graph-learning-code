{
 "cells": [
  {
   "cell_type": "markdown",
   "metadata": {},
   "source": [
    "# Preliminary stuff"
   ]
  },
  {
   "cell_type": "code",
   "execution_count": 13,
   "metadata": {
    "tags": []
   },
   "outputs": [],
   "source": [
    "import numpy as np\n",
    "import pandas as pd\n",
    "from collections import Counter\n",
    "import networkx as nx\n",
    "import os.path\n",
    "import matplotlib.pyplot as plt\n",
    "import seaborn as sns\n",
    "from scipy.stats import ttest_ind, ttest_1samp, pearsonr, kendalltau\n",
    "import matplotlib\n",
    "import statsmodels.formula.api as smf\n",
    "from matplotlib.patches import Rectangle\n",
    "import matplotlib.transforms as transforms\n",
    "from nilearn import surface, plotting\n",
    "from graphs import (\n",
    "    modular,\n",
    "    ring_lattice,\n",
    "    graph_df,\n",
    "    subjects,\n",
    "    subjects_lattice,\n",
    "    subjects_modular\n",
    ")\n",
    "from roi_loader import Loader\n",
    "import matplotlib as mpl\n",
    "\n",
    "mpl.rcParams['pdf.fonttype'] = 42\n",
    "matplotlib.rcParams.update({'font.size': 12})\n",
    "# %config InlineBackend.figure_format = 'retina'\n",
    "# matplotlib.rcParams.update({'font.sans-serif': \"Helvetica\"})\n",
    "# matplotlib.rcParams.update({'font.serif': \"Times\"})\n",
    "%matplotlib inline\n",
    "# %config InlineBackend.figure_format='retina' "
   ]
  },
  {
   "cell_type": "code",
   "execution_count": 14,
   "metadata": {
    "tags": []
   },
   "outputs": [],
   "source": [
    "project_dir = os.path.expanduser('~/GraphLearn')\n",
    "data_dir = f'{project_dir}/data'\n",
    "loader = Loader(project_dir)"
   ]
  },
  {
   "cell_type": "markdown",
   "metadata": {},
   "source": [
    "## Load MVPA Results\n",
    "\n",
    "Results are saved as dataframes, indexed by:\n",
    "\n",
    "**classifier**:\n",
    "What the analysis attemped to classify\n",
    "\n",
    "**rescale**: Whether each parameter estimate was scaled to 0\n",
    "\n",
    "**subtract_mean**: Zero-center parameter estimates for each voxel within a block"
   ]
  },
  {
   "cell_type": "code",
   "execution_count": 15,
   "metadata": {
    "tags": []
   },
   "outputs": [],
   "source": [
    "classifier_names = (\n",
    "    'node',\n",
    ")"
   ]
  },
  {
   "cell_type": "code",
   "execution_count": 16,
   "metadata": {
    "tags": []
   },
   "outputs": [],
   "source": [
    "rois = (\n",
    "    'postcentral-lh',\n",
    "    'postcentral-rh',\n",
    "    'postcentral-both',\n",
    "    'precentral-lh',\n",
    "    'precentral-rh',\n",
    "    'precentral-both',\n",
    "    'loc-localized',\n",
    "    'loc-localized-lh',\n",
    "    'loc-localized-rh',\n",
    "    'hippocampus-lh',\n",
    "    'hippocampus-rh',\n",
    "    'hippocampus-both',\n",
    "    'entorhinal-lh',\n",
    "    'entorhinal-rh',\n",
    "    'entorhinal-both',\n",
    ")"
   ]
  },
  {
   "cell_type": "code",
   "execution_count": 17,
   "metadata": {
    "tags": []
   },
   "outputs": [],
   "source": [
    "pe_params = [\n",
    "    (True, True),\n",
    "]"
   ]
  },
  {
   "cell_type": "code",
   "execution_count": 18,
   "metadata": {
    "tags": []
   },
   "outputs": [
    {
     "name": "stdout",
     "output_type": "stream",
     "text": [
      "Loading postcentral-lh...\n",
      "Loading node...\n",
      "Loading postcentral-rh...\n",
      "Loading node...\n",
      "Loading postcentral-both...\n",
      "Loading node...\n",
      "Loading precentral-lh...\n",
      "Loading node...\n",
      "Loading precentral-rh...\n",
      "Loading node...\n",
      "Loading precentral-both...\n",
      "Loading node...\n",
      "Loading loc-localized...\n",
      "Loading node...\n",
      "Loading loc-localized-lh...\n",
      "Loading node...\n",
      "Loading loc-localized-rh...\n",
      "Loading node...\n",
      "Loading hippocampus-lh...\n",
      "Loading node...\n",
      "Loading hippocampus-rh...\n",
      "Loading node...\n",
      "Loading hippocampus-both...\n",
      "Loading node...\n",
      "Loading entorhinal-lh...\n",
      "Loading node...\n",
      "Loading entorhinal-rh...\n",
      "Loading node...\n",
      "Loading entorhinal-both...\n",
      "Loading node...\n",
      "Done\n"
     ]
    }
   ],
   "source": [
    "results_list = []\n",
    "mvpa_dir = 'mvpa_classifier'\n",
    "for rescale, subtract_mean in pe_params:\n",
    "    for roi in rois:\n",
    "        print(f'Loading {roi}...')\n",
    "        for classifier in classifier_names:\n",
    "            print(f'Loading {classifier}...')\n",
    "            for subject in subjects:\n",
    "                df = pd.read_csv(f'{project_dir}/derived/{mvpa_dir}/sub-{subject}/sub-{subject}_rescale-{rescale}_subtract-mean-{subtract_mean}_zstats_{roi}_predictions-{classifier}.csv.gz', index_col=0)\n",
    "                df['classifier'] = classifier\n",
    "                df['roi'] = roi\n",
    "                df['subtract_mean'] = subtract_mean\n",
    "                df['rescale'] = rescale\n",
    "                results_list.append(df)\n",
    "print('Done')"
   ]
  },
  {
   "cell_type": "code",
   "execution_count": 19,
   "metadata": {
    "tags": []
   },
   "outputs": [],
   "source": [
    "results = pd.concat(results_list)\n",
    "n_features_list = ['0', '10', '20', '50', '100', '200', '400', '600', '800']\n",
    "results['voxels'] = pd.Categorical(results['voxels'].astype('Int16').fillna(0).astype(str), n_features_list)"
   ]
  },
  {
   "cell_type": "markdown",
   "metadata": {},
   "source": [
    "## Verify Graph assignments"
   ]
  },
  {
   "cell_type": "code",
   "execution_count": 20,
   "metadata": {
    "tags": []
   },
   "outputs": [
    {
     "name": "stdout",
     "output_type": "stream",
     "text": [
      "Modular: 16\n",
      "Lattice: 15\n"
     ]
    }
   ],
   "source": [
    "# results = results_loc[('node', True, True)]\n",
    "m_subjects = results[results['graph'] == 'Modular']['subject'].unique()\n",
    "l_subjects = results[results['graph'] == 'Lattice']['subject'].unique()\n",
    "print(f'Modular: {len(m_subjects)}')\n",
    "print(f'Lattice: {len(l_subjects)}')"
   ]
  },
  {
   "cell_type": "markdown",
   "metadata": {},
   "source": [
    "The first set should all look like Modular assignments\n",
    "\n",
    "The second set should all look like Lattice assignments"
   ]
  },
  {
   "cell_type": "code",
   "execution_count": 13,
   "metadata": {},
   "outputs": [
    {
     "data": {
      "image/png": "[encoded data removed]",
      "text/plain": [
       "<Figure size 1600x450 with 16 Axes>"
      ]
     },
     "metadata": {},
     "output_type": "display_data"
    },
    {
     "data": {
      "image/png": "[encoded data removed]",
      "text/plain": [
       "<Figure size 1600x450 with 15 Axes>"
      ]
     },
     "metadata": {},
     "output_type": "display_data"
    }
   ],
   "source": [
    "f, ax = plt.subplots(2, 8, figsize=(16, 4.5))\n",
    "ax = ax.flatten()\n",
    "for i, subject in enumerate(m_subjects):\n",
    "    subset = results[(results['subject'] == subject)]\n",
    "    transition_matrix = subset.groupby(['node', 'node_next'])['subject'].count().unstack()\n",
    "    sns.heatmap(transition_matrix, ax=ax[i], square=True, cbar=False, xticklabels=False, yticklabels=False)\n",
    "    ax[i].set_xlabel('Next Node')\n",
    "    ax[i].set_ylabel('Node')\n",
    "    ax[i].set_title(subject)\n",
    "# Remove extra axes\n",
    "for j in range(i + 1, len(ax)):\n",
    "    f.delaxes(ax[j])\n",
    "f.tight_layout()\n",
    "f.savefig('images/transition_verification_modular.pdf')\n",
    "\n",
    "f, ax = plt.subplots(2, 8, figsize=(16, 4.5))\n",
    "ax = ax.flatten()\n",
    "for i, subject in enumerate(l_subjects):\n",
    "    subset = results[(results['subject'] == subject)]\n",
    "    transition_matrix = subset.groupby(['node', 'node_next'])['subject'].count().unstack()\n",
    "    sns.heatmap(transition_matrix, ax=ax[i], square=True, cbar=False, xticklabels=False, yticklabels=False)\n",
    "    ax[i].set_xlabel('Next Node')\n",
    "    ax[i].set_ylabel('Node')\n",
    "    ax[i].set_title(subject)\n",
    "# Remove extra axes\n",
    "for j in range(i + 1, len(ax)):\n",
    "    f.delaxes(ax[j])\n",
    "f.tight_layout()\n",
    "f.savefig('images/transition_verification_lattice.pdf')"
   ]
  },
  {
   "cell_type": "markdown",
   "metadata": {},
   "source": [
    "# Behavior"
   ]
  },
  {
   "cell_type": "markdown",
   "metadata": {},
   "source": [
    "Tuples of classifier name, and chance performance.\n",
    "\n",
    "\n",
    "Here 'node' is predicting the current node based on our BOLD data,\n",
    "and we expect chance to be a random guess with 15 stimuli, or 1 / 15"
   ]
  },
  {
   "cell_type": "code",
   "execution_count": 21,
   "metadata": {
    "tags": []
   },
   "outputs": [],
   "source": [
    "classifiers = [\n",
    "    ('node', 1/15.0),\n",
    "]"
   ]
  },
  {
   "cell_type": "markdown",
   "metadata": {},
   "source": [
    "Some shortcuts to load dataframes of data for:\n",
    "1. Session one learning: `session_one`\n",
    "2. Session one recall: `session_checks`\n",
    "3. session two recall: `sessions_two`"
   ]
  },
  {
   "cell_type": "code",
   "execution_count": 22,
   "metadata": {
    "tags": []
   },
   "outputs": [],
   "source": [
    "session_one = loader.load_session_one(subjects)\n",
    "session_two = loader.load_session_two(subjects)\n",
    "session_checks = loader.load_checks(subjects)"
   ]
  },
  {
   "cell_type": "markdown",
   "metadata": {},
   "source": [
    "tag which trials are cross-cluster"
   ]
  },
  {
   "cell_type": "code",
   "execution_count": 23,
   "metadata": {
    "tags": []
   },
   "outputs": [],
   "source": [
    "is_modular = session_one['graph'] == 'Modular'\n",
    "cluster_1 = is_modular & (session_one['node'] < 5)\n",
    "cluster_2 = is_modular & (session_one['node'] > 4) & (session_one['node'] < 10)\n",
    "cluster_3 = is_modular & (session_one['node'] > 9)\n",
    "\n",
    "session_one['cluster'] = np.NaN\n",
    "session_one.loc[cluster_1, 'cluster'] = 1\n",
    "session_one.loc[cluster_2, 'cluster'] = 2\n",
    "session_one.loc[cluster_3, 'cluster'] = 3\n",
    "\n",
    "same_cluster = session_one['cluster'].shift(1) == session_one['cluster']\n",
    "same_block = session_one['run'].shift(1) == session_one['run']\n",
    "cross_cluster = is_modular & ~same_cluster & same_block\n",
    "session_one['cross_cluster'] = cross_cluster"
   ]
  },
  {
   "cell_type": "markdown",
   "metadata": {},
   "source": [
    "Flag some trials as invalid, if any of:\n",
    "1. response time is less than 100ms\n",
    "2. response time is more than 5 seconds\n",
    "3. response time is more than 3 SDs away from that subject's mean\n",
    "4. the response was incorrect"
   ]
  },
  {
   "cell_type": "code",
   "execution_count": 24,
   "metadata": {
    "tags": []
   },
   "outputs": [],
   "source": [
    "# rt_z = session_one.groupby(['subject', 'correct'])['response_time'].apply(lambda x: (x - x.mean())/x.std())\n",
    "# session_one['response_time_zscored'] = 0\n",
    "# session_one['response_time_zscored'] = rt_z.reset_index([0,1]).sort_index()['response_time']\n",
    "session_one['response_time_zscored'] = session_one.groupby(['subject', 'correct'])['response_time'].transform(lambda x: (x - x.mean())/x.std())\n",
    "session_one['valid'] = (\n",
    "   (session_one['response_time_zscored'].abs() < 3) \n",
    "   & session_one['correct'] \n",
    "   & (session_one['response_time'] > 0.1)\n",
    "   & (session_one['response_time'] < 5)\n",
    "#     & (session_one['response_time'] > 0.5)\n",
    ")\n",
    "session_one['rt_only_valid'] = (\n",
    "   (session_one['response_time_zscored'].abs() < 3) \n",
    "   & (session_one['response_time'] > 0.1)\n",
    "   & (session_one['response_time'] < 5)\n",
    ")\n",
    "session_one['session'] = 'one'\n",
    "\n",
    "session_two['valid'] = (\n",
    "   (~np.isnan(session_two.response_time))\n",
    "   & session_two['correct']\n",
    "#     & (session_two['response_time'] > 0.5)\n",
    ")\n",
    "session_two['session'] = 'two'\n",
    "\n",
    "session_checks['session'] = 'check'\n",
    "session_checks['valid'] = (~np.isnan(session_checks.response_time)) & session_checks['correct']"
   ]
  },
  {
   "cell_type": "markdown",
   "metadata": {},
   "source": [
    "combine them all into a single dataframe"
   ]
  },
  {
   "cell_type": "code",
   "execution_count": 25,
   "metadata": {
    "tags": []
   },
   "outputs": [],
   "source": [
    "sessions_all = pd.concat((session_one, session_two, session_checks)).reset_index(drop=True)"
   ]
  },
  {
   "cell_type": "markdown",
   "metadata": {},
   "source": [
    "Set up plotting style"
   ]
  },
  {
   "cell_type": "code",
   "execution_count": 26,
   "metadata": {
    "tags": []
   },
   "outputs": [],
   "source": [
    "sns.set()\n",
    "sns.set_style(\"ticks\")\n",
    "sns.set_context(\"paper\", rc={'font.family': ['sans-serif'],\n",
    "                             'font.sans-serif': ['Arial'],\n",
    "                             \"font.size\": 7,\n",
    "                             \"axes.titlesize\": 7,\n",
    "                             \"axes.labelsize\": 7,\n",
    "                             \"xtick.labelsize\": 7,\n",
    "                             \"ytick.labelsize\": 7,\n",
    "                             'legend.fontsize': 7,\n",
    "                             'legend.title_fontsize': 7,\n",
    "                             \"lines.linewidth\": 0.5\n",
    "                            }\n",
    "               ) \n",
    "axis_color = \"#2B2B2B\""
   ]
  },
  {
   "cell_type": "markdown",
   "metadata": {},
   "source": [
    "## Figure 2a: Response time by run"
   ]
  },
  {
   "cell_type": "code",
   "execution_count": 27,
   "metadata": {},
   "outputs": [
    {
     "name": "stderr",
     "output_type": "stream",
     "text": [
      "/Users/arik/.pyenv/versions/miniconda3-latest/envs/jupyter/lib/python3.11/site-packages/seaborn/axisgrid.py:718: UserWarning: Using the pointplot function without specifying `order` is likely to produce an incorrect plot.\n",
      "  warnings.warn(warning)\n"
     ]
    },
    {
     "data": {
      "image/png": "[encoded data removed]",
      "text/plain": [
       "<Figure size 360x150 with 3 Axes>"
      ]
     },
     "metadata": {},
     "output_type": "display_data"
    }
   ],
   "source": [
    "g = sns.catplot(x='run',\n",
    "                y='response_time',\n",
    "                hue='graph',\n",
    "                col='session',\n",
    "                kind=\"point\",\n",
    "                col_order=['one', 'check', 'two'],\n",
    "                hue_order=['Modular', 'Lattice'],\n",
    "#                 markers=['',''],\n",
    "                capsize=.2,\n",
    "                legend=False,\n",
    "                dodge=0.3,\n",
    "                sharex=False,\n",
    "                # lw=0.1,\n",
    "                height=1.5, aspect=.8,\n",
    "                data=(sessions_all\n",
    "                        .loc[lambda x: x.valid]\n",
    "                        )\n",
    "                )\n",
    "g.map(sns.pointplot, 'run', 'response_time', color='black', errorbar=None, linestyles=':', markers=\" \", \n",
    "      # order=['one', 'check', 'two'],\n",
    "     )\n",
    "\n",
    "# handles, labels = g.axes.flat[0].get_legend_handles_labels()\n",
    "# handles.append(r.axes.flat[0].lines[-1])\n",
    "# labels.append('Mean')\n",
    "# plt.legend(handles=handles, labels=labels, title='Graph', loc='right')\n",
    "g.axes.flat[0].text(-0.2, 1.24, 'Session 1, Training')\n",
    "g.axes.flat[1].text(-0.2, 1.24, 'Session 1, Recall')\n",
    "g.axes.flat[2].text(0, 1.24, 'Session 2, Recall')\n",
    "g.set_titles('')\n",
    "g.set(xlabel='Run')\n",
    "g.set(ylabel='Response Time')\n",
    "# Add axis cut\n",
    "g.axes.flat[0].add_patch(Rectangle([-0.57, 0.86], 0.15, 0.02, edgecolor='white', alpha=1, facecolor=\"white\", zorder=100, clip_on=False))\n",
    "g.axes.flat[0].add_patch(Rectangle([-0.57, 0.877], 0.14, 0.004, edgecolor=axis_color, alpha=1, facecolor=axis_color, zorder=101, clip_on=False, angle=4))\n",
    "g.axes.flat[0].add_patch(Rectangle([-0.57, 0.853], 0.14, 0.004, edgecolor=axis_color, alpha=1, facecolor=axis_color, zorder=101, clip_on=False, angle=4))\n",
    "g.axes.flat[1].add_patch(Rectangle([-0.57, 0.86], 0.15, 0.02, edgecolor='white', alpha=1, facecolor=\"white\", zorder=100, clip_on=False))\n",
    "g.axes.flat[1].add_patch(Rectangle([-0.57, 0.877], 0.14, 0.004, edgecolor=axis_color, alpha=1, facecolor=axis_color, zorder=101, clip_on=False, angle=4))\n",
    "g.axes.flat[1].add_patch(Rectangle([-0.57, 0.853], 0.14, 0.004, edgecolor=axis_color, alpha=1, facecolor=axis_color, zorder=101, clip_on=False, angle=4))\n",
    "g.axes.flat[2].add_patch(Rectangle([-0.57, 0.86], 0.15, 0.02, edgecolor='white', alpha=1, facecolor=\"white\", zorder=100, clip_on=False))\n",
    "g.axes.flat[2].add_patch(Rectangle([-0.62, 0.877], 0.24, 0.004, edgecolor=axis_color, alpha=1, facecolor=axis_color, zorder=101, clip_on=False, angle=2.5))\n",
    "g.axes.flat[2].add_patch(Rectangle([-0.62, 0.853], 0.24, 0.004, edgecolor=axis_color, alpha=1, facecolor=axis_color, zorder=101, clip_on=False, angle=2.5))\n",
    "# And set bottom axis to 0\n",
    "yticks = g.axes.flat[0].get_yticks()\n",
    "ylim = g.axes.flat[0].get_ylim()\n",
    "yticks = [ylim[0], 0.9, 1, 1.1, 1.2]\n",
    "yticklabels = [f'{x:0.1f}' for x in yticks]\n",
    "yticklabels[0] = '0'\n",
    "# yticklabels = []\n",
    "# yticks[0] = ylim[0]\n",
    "yticklabels = [f'{x:0.1f}' for x in yticks]\n",
    "yticklabels[0] = '0'\n",
    "g.set(yticks=yticks)\n",
    "g.set(yticklabels=yticklabels)\n",
    "# Save figure\n",
    "g.savefig('images/behavior_response_time.pdf')"
   ]
  },
  {
   "cell_type": "markdown",
   "metadata": {},
   "source": [
    "## Stats: Response time values"
   ]
  },
  {
   "cell_type": "markdown",
   "metadata": {},
   "source": [
    "Reported response time values in the manuscript:\n",
    "1. Separated by graph type\n",
    "2. Combined for both graph types"
   ]
  },
  {
   "cell_type": "code",
   "execution_count": 28,
   "metadata": {},
   "outputs": [
    {
     "data": {
      "text/html": [
       "<div>\n",
       "<style scoped>\n",
       "    .dataframe tbody tr th:only-of-type {\n",
       "        vertical-align: middle;\n",
       "    }\n",
       "\n",
       "    .dataframe tbody tr th {\n",
       "        vertical-align: top;\n",
       "    }\n",
       "\n",
       "    .dataframe thead th {\n",
       "        text-align: right;\n",
       "    }\n",
       "</style>\n",
       "<table border=\"1\" class=\"dataframe\">\n",
       "  <thead>\n",
       "    <tr style=\"text-align: right;\">\n",
       "      <th></th>\n",
       "      <th>run</th>\n",
       "      <th>1</th>\n",
       "      <th>2</th>\n",
       "      <th>3</th>\n",
       "      <th>4</th>\n",
       "      <th>5</th>\n",
       "      <th>6</th>\n",
       "      <th>7</th>\n",
       "      <th>8</th>\n",
       "    </tr>\n",
       "    <tr>\n",
       "      <th>session</th>\n",
       "      <th>graph</th>\n",
       "      <th></th>\n",
       "      <th></th>\n",
       "      <th></th>\n",
       "      <th></th>\n",
       "      <th></th>\n",
       "      <th></th>\n",
       "      <th></th>\n",
       "      <th></th>\n",
       "    </tr>\n",
       "  </thead>\n",
       "  <tbody>\n",
       "    <tr>\n",
       "      <th rowspan=\"2\" valign=\"top\">check</th>\n",
       "      <th>Lattice</th>\n",
       "      <td>1.066407</td>\n",
       "      <td>1.029319</td>\n",
       "      <td>1.015494</td>\n",
       "      <td>0.995552</td>\n",
       "      <td>0.982547</td>\n",
       "      <td>NaN</td>\n",
       "      <td>NaN</td>\n",
       "      <td>NaN</td>\n",
       "    </tr>\n",
       "    <tr>\n",
       "      <th>Modular</th>\n",
       "      <td>1.072393</td>\n",
       "      <td>1.021000</td>\n",
       "      <td>1.031727</td>\n",
       "      <td>0.995944</td>\n",
       "      <td>1.024972</td>\n",
       "      <td>NaN</td>\n",
       "      <td>NaN</td>\n",
       "      <td>NaN</td>\n",
       "    </tr>\n",
       "    <tr>\n",
       "      <th rowspan=\"2\" valign=\"top\">one</th>\n",
       "      <th>Lattice</th>\n",
       "      <td>1.216605</td>\n",
       "      <td>1.116062</td>\n",
       "      <td>1.083084</td>\n",
       "      <td>1.046560</td>\n",
       "      <td>1.022954</td>\n",
       "      <td>NaN</td>\n",
       "      <td>NaN</td>\n",
       "      <td>NaN</td>\n",
       "    </tr>\n",
       "    <tr>\n",
       "      <th>Modular</th>\n",
       "      <td>1.143268</td>\n",
       "      <td>1.069855</td>\n",
       "      <td>1.045962</td>\n",
       "      <td>1.030415</td>\n",
       "      <td>1.004742</td>\n",
       "      <td>NaN</td>\n",
       "      <td>NaN</td>\n",
       "      <td>NaN</td>\n",
       "    </tr>\n",
       "    <tr>\n",
       "      <th rowspan=\"2\" valign=\"top\">two</th>\n",
       "      <th>Lattice</th>\n",
       "      <td>0.945121</td>\n",
       "      <td>0.909205</td>\n",
       "      <td>0.906327</td>\n",
       "      <td>0.899167</td>\n",
       "      <td>0.896245</td>\n",
       "      <td>0.884512</td>\n",
       "      <td>0.884752</td>\n",
       "      <td>0.869282</td>\n",
       "    </tr>\n",
       "    <tr>\n",
       "      <th>Modular</th>\n",
       "      <td>0.994438</td>\n",
       "      <td>0.944872</td>\n",
       "      <td>0.939234</td>\n",
       "      <td>0.939685</td>\n",
       "      <td>0.914384</td>\n",
       "      <td>0.902191</td>\n",
       "      <td>0.910810</td>\n",
       "      <td>0.905819</td>\n",
       "    </tr>\n",
       "  </tbody>\n",
       "</table>\n",
       "</div>"
      ],
      "text/plain": [
       "run                     1         2         3         4         5         6  \\\n",
       "session graph                                                                 \n",
       "check   Lattice  1.066407  1.029319  1.015494  0.995552  0.982547       NaN   \n",
       "        Modular  1.072393  1.021000  1.031727  0.995944  1.024972       NaN   \n",
       "one     Lattice  1.216605  1.116062  1.083084  1.046560  1.022954       NaN   \n",
       "        Modular  1.143268  1.069855  1.045962  1.030415  1.004742       NaN   \n",
       "two     Lattice  0.945121  0.909205  0.906327  0.899167  0.896245  0.884512   \n",
       "        Modular  0.994438  0.944872  0.939234  0.939685  0.914384  0.902191   \n",
       "\n",
       "run                     7         8  \n",
       "session graph                        \n",
       "check   Lattice       NaN       NaN  \n",
       "        Modular       NaN       NaN  \n",
       "one     Lattice       NaN       NaN  \n",
       "        Modular       NaN       NaN  \n",
       "two     Lattice  0.884752  0.869282  \n",
       "        Modular  0.910810  0.905819  "
      ]
     },
     "execution_count": 28,
     "metadata": {},
     "output_type": "execute_result"
    }
   ],
   "source": [
    "sessions_all.loc[lambda x: x.valid].groupby(['session', 'graph', 'run'])['response_time'].mean().unstack()"
   ]
  },
  {
   "cell_type": "code",
   "execution_count": 29,
   "metadata": {},
   "outputs": [
    {
     "data": {
      "text/plain": [
       "subject\n",
       "GLS003    1.251401\n",
       "GLS004    1.158778\n",
       "GLS008    0.967547\n",
       "GLS010    1.203245\n",
       "GLS011    0.942973\n",
       "GLS013    1.387192\n",
       "GLS018    1.045283\n",
       "GLS019    1.065421\n",
       "GLS022    1.026961\n",
       "GLS023    1.117745\n",
       "GLS025    1.156808\n",
       "GLS026    1.123892\n",
       "GLS037    1.281180\n",
       "GLS038    1.125265\n",
       "GLS039    1.188817\n",
       "GLS044    1.249041\n",
       "Name: response_time, dtype: float64"
      ]
     },
     "execution_count": 29,
     "metadata": {},
     "output_type": "execute_result"
    }
   ],
   "source": [
    "sessions_all.loc[lambda x: x.valid].loc[lambda x: x.session == 'one'].loc[lambda x: x.run == 1].loc[lambda x: x.graph == 'Modular'].groupby('subject')['response_time'].mean()"
   ]
  },
  {
   "cell_type": "code",
   "execution_count": 30,
   "metadata": {},
   "outputs": [
    {
     "data": {
      "text/plain": [
       "subject\n",
       "GLS005    1.176922\n",
       "GLS006    1.715807\n",
       "GLS009    1.182368\n",
       "GLS014    1.003401\n",
       "GLS017    1.296729\n",
       "GLS020    1.193309\n",
       "GLS021    1.051919\n",
       "GLS024    0.933230\n",
       "GLS027    1.065678\n",
       "GLS028    1.820765\n",
       "GLS030    1.136891\n",
       "GLS033    0.993413\n",
       "GLS040    1.567027\n",
       "GLS043    0.916288\n",
       "GLS045    1.177519\n",
       "Name: response_time, dtype: float64"
      ]
     },
     "execution_count": 30,
     "metadata": {},
     "output_type": "execute_result"
    }
   ],
   "source": [
    "sessions_all.loc[lambda x: x.valid].loc[lambda x: x.session == 'one'].loc[lambda x: x.run == 1].loc[lambda x: x.graph == 'Lattice'].groupby('subject')['response_time'].mean()"
   ]
  },
  {
   "cell_type": "code",
   "execution_count": 31,
   "metadata": {},
   "outputs": [
    {
     "data": {
      "text/html": [
       "<div>\n",
       "<style scoped>\n",
       "    .dataframe tbody tr th:only-of-type {\n",
       "        vertical-align: middle;\n",
       "    }\n",
       "\n",
       "    .dataframe tbody tr th {\n",
       "        vertical-align: top;\n",
       "    }\n",
       "\n",
       "    .dataframe thead th {\n",
       "        text-align: right;\n",
       "    }\n",
       "</style>\n",
       "<table border=\"1\" class=\"dataframe\">\n",
       "  <thead>\n",
       "    <tr style=\"text-align: right;\">\n",
       "      <th></th>\n",
       "      <th>graph</th>\n",
       "      <th>run</th>\n",
       "      <th>subject</th>\n",
       "      <th>response_time</th>\n",
       "    </tr>\n",
       "  </thead>\n",
       "  <tbody>\n",
       "    <tr>\n",
       "      <th>0</th>\n",
       "      <td>Lattice</td>\n",
       "      <td>1</td>\n",
       "      <td>GLS005</td>\n",
       "      <td>1.176922</td>\n",
       "    </tr>\n",
       "    <tr>\n",
       "      <th>1</th>\n",
       "      <td>Lattice</td>\n",
       "      <td>1</td>\n",
       "      <td>GLS006</td>\n",
       "      <td>1.715807</td>\n",
       "    </tr>\n",
       "    <tr>\n",
       "      <th>2</th>\n",
       "      <td>Lattice</td>\n",
       "      <td>1</td>\n",
       "      <td>GLS009</td>\n",
       "      <td>1.182368</td>\n",
       "    </tr>\n",
       "    <tr>\n",
       "      <th>3</th>\n",
       "      <td>Lattice</td>\n",
       "      <td>1</td>\n",
       "      <td>GLS014</td>\n",
       "      <td>1.003401</td>\n",
       "    </tr>\n",
       "    <tr>\n",
       "      <th>4</th>\n",
       "      <td>Lattice</td>\n",
       "      <td>1</td>\n",
       "      <td>GLS017</td>\n",
       "      <td>1.296729</td>\n",
       "    </tr>\n",
       "    <tr>\n",
       "      <th>...</th>\n",
       "      <td>...</td>\n",
       "      <td>...</td>\n",
       "      <td>...</td>\n",
       "      <td>...</td>\n",
       "    </tr>\n",
       "    <tr>\n",
       "      <th>150</th>\n",
       "      <td>Modular</td>\n",
       "      <td>5</td>\n",
       "      <td>GLS026</td>\n",
       "      <td>0.868493</td>\n",
       "    </tr>\n",
       "    <tr>\n",
       "      <th>151</th>\n",
       "      <td>Modular</td>\n",
       "      <td>5</td>\n",
       "      <td>GLS037</td>\n",
       "      <td>1.161505</td>\n",
       "    </tr>\n",
       "    <tr>\n",
       "      <th>152</th>\n",
       "      <td>Modular</td>\n",
       "      <td>5</td>\n",
       "      <td>GLS038</td>\n",
       "      <td>1.040422</td>\n",
       "    </tr>\n",
       "    <tr>\n",
       "      <th>153</th>\n",
       "      <td>Modular</td>\n",
       "      <td>5</td>\n",
       "      <td>GLS039</td>\n",
       "      <td>1.429076</td>\n",
       "    </tr>\n",
       "    <tr>\n",
       "      <th>154</th>\n",
       "      <td>Modular</td>\n",
       "      <td>5</td>\n",
       "      <td>GLS044</td>\n",
       "      <td>0.973473</td>\n",
       "    </tr>\n",
       "  </tbody>\n",
       "</table>\n",
       "<p>155 rows × 4 columns</p>\n",
       "</div>"
      ],
      "text/plain": [
       "       graph  run subject  response_time\n",
       "0    Lattice    1  GLS005       1.176922\n",
       "1    Lattice    1  GLS006       1.715807\n",
       "2    Lattice    1  GLS009       1.182368\n",
       "3    Lattice    1  GLS014       1.003401\n",
       "4    Lattice    1  GLS017       1.296729\n",
       "..       ...  ...     ...            ...\n",
       "150  Modular    5  GLS026       0.868493\n",
       "151  Modular    5  GLS037       1.161505\n",
       "152  Modular    5  GLS038       1.040422\n",
       "153  Modular    5  GLS039       1.429076\n",
       "154  Modular    5  GLS044       0.973473\n",
       "\n",
       "[155 rows x 4 columns]"
      ]
     },
     "execution_count": 31,
     "metadata": {},
     "output_type": "execute_result"
    }
   ],
   "source": [
    "sessions_all.loc[lambda x: x.valid].loc[lambda x: x.session == 'one'].groupby(['graph', 'run','subject'])['response_time'].mean().reset_index()"
   ]
  },
  {
   "cell_type": "code",
   "execution_count": 32,
   "metadata": {},
   "outputs": [
    {
     "data": {
      "text/html": [
       "<div>\n",
       "<style scoped>\n",
       "    .dataframe tbody tr th:only-of-type {\n",
       "        vertical-align: middle;\n",
       "    }\n",
       "\n",
       "    .dataframe tbody tr th {\n",
       "        vertical-align: top;\n",
       "    }\n",
       "\n",
       "    .dataframe thead th {\n",
       "        text-align: right;\n",
       "    }\n",
       "</style>\n",
       "<table border=\"1\" class=\"dataframe\">\n",
       "  <thead>\n",
       "    <tr style=\"text-align: right;\">\n",
       "      <th></th>\n",
       "      <th>run</th>\n",
       "      <th>1</th>\n",
       "      <th>2</th>\n",
       "      <th>3</th>\n",
       "      <th>4</th>\n",
       "      <th>5</th>\n",
       "      <th>6</th>\n",
       "      <th>7</th>\n",
       "      <th>8</th>\n",
       "    </tr>\n",
       "    <tr>\n",
       "      <th>session</th>\n",
       "      <th>graph</th>\n",
       "      <th></th>\n",
       "      <th></th>\n",
       "      <th></th>\n",
       "      <th></th>\n",
       "      <th></th>\n",
       "      <th></th>\n",
       "      <th></th>\n",
       "      <th></th>\n",
       "    </tr>\n",
       "  </thead>\n",
       "  <tbody>\n",
       "    <tr>\n",
       "      <th rowspan=\"2\" valign=\"top\">check</th>\n",
       "      <th>Lattice</th>\n",
       "      <td>0.296502</td>\n",
       "      <td>0.315895</td>\n",
       "      <td>0.280687</td>\n",
       "      <td>0.280960</td>\n",
       "      <td>0.277199</td>\n",
       "      <td>NaN</td>\n",
       "      <td>NaN</td>\n",
       "      <td>NaN</td>\n",
       "    </tr>\n",
       "    <tr>\n",
       "      <th>Modular</th>\n",
       "      <td>0.274927</td>\n",
       "      <td>0.284357</td>\n",
       "      <td>0.296446</td>\n",
       "      <td>0.300183</td>\n",
       "      <td>0.286670</td>\n",
       "      <td>NaN</td>\n",
       "      <td>NaN</td>\n",
       "      <td>NaN</td>\n",
       "    </tr>\n",
       "    <tr>\n",
       "      <th rowspan=\"2\" valign=\"top\">one</th>\n",
       "      <th>Lattice</th>\n",
       "      <td>0.392413</td>\n",
       "      <td>0.375516</td>\n",
       "      <td>0.328551</td>\n",
       "      <td>0.316593</td>\n",
       "      <td>0.288476</td>\n",
       "      <td>NaN</td>\n",
       "      <td>NaN</td>\n",
       "      <td>NaN</td>\n",
       "    </tr>\n",
       "    <tr>\n",
       "      <th>Modular</th>\n",
       "      <td>0.257952</td>\n",
       "      <td>0.276785</td>\n",
       "      <td>0.275010</td>\n",
       "      <td>0.270736</td>\n",
       "      <td>0.278733</td>\n",
       "      <td>NaN</td>\n",
       "      <td>NaN</td>\n",
       "      <td>NaN</td>\n",
       "    </tr>\n",
       "    <tr>\n",
       "      <th rowspan=\"2\" valign=\"top\">two</th>\n",
       "      <th>Lattice</th>\n",
       "      <td>0.262695</td>\n",
       "      <td>0.249228</td>\n",
       "      <td>0.240730</td>\n",
       "      <td>0.239415</td>\n",
       "      <td>0.238471</td>\n",
       "      <td>0.230044</td>\n",
       "      <td>0.226451</td>\n",
       "      <td>0.221857</td>\n",
       "    </tr>\n",
       "    <tr>\n",
       "      <th>Modular</th>\n",
       "      <td>0.301567</td>\n",
       "      <td>0.284666</td>\n",
       "      <td>0.280207</td>\n",
       "      <td>0.266196</td>\n",
       "      <td>0.257798</td>\n",
       "      <td>0.248304</td>\n",
       "      <td>0.261931</td>\n",
       "      <td>0.242891</td>\n",
       "    </tr>\n",
       "  </tbody>\n",
       "</table>\n",
       "</div>"
      ],
      "text/plain": [
       "run                     1         2         3         4         5         6  \\\n",
       "session graph                                                                 \n",
       "check   Lattice  0.296502  0.315895  0.280687  0.280960  0.277199       NaN   \n",
       "        Modular  0.274927  0.284357  0.296446  0.300183  0.286670       NaN   \n",
       "one     Lattice  0.392413  0.375516  0.328551  0.316593  0.288476       NaN   \n",
       "        Modular  0.257952  0.276785  0.275010  0.270736  0.278733       NaN   \n",
       "two     Lattice  0.262695  0.249228  0.240730  0.239415  0.238471  0.230044   \n",
       "        Modular  0.301567  0.284666  0.280207  0.266196  0.257798  0.248304   \n",
       "\n",
       "run                     7         8  \n",
       "session graph                        \n",
       "check   Lattice       NaN       NaN  \n",
       "        Modular       NaN       NaN  \n",
       "one     Lattice       NaN       NaN  \n",
       "        Modular       NaN       NaN  \n",
       "two     Lattice  0.226451  0.221857  \n",
       "        Modular  0.261931  0.242891  "
      ]
     },
     "execution_count": 32,
     "metadata": {},
     "output_type": "execute_result"
    }
   ],
   "source": [
    "sessions_all.loc[lambda x: x.valid].groupby(['session', 'graph', 'run'])['response_time'].std().unstack()"
   ]
  },
  {
   "cell_type": "code",
   "execution_count": 33,
   "metadata": {},
   "outputs": [
    {
     "data": {
      "text/html": [
       "<div>\n",
       "<style scoped>\n",
       "    .dataframe tbody tr th:only-of-type {\n",
       "        vertical-align: middle;\n",
       "    }\n",
       "\n",
       "    .dataframe tbody tr th {\n",
       "        vertical-align: top;\n",
       "    }\n",
       "\n",
       "    .dataframe thead th {\n",
       "        text-align: right;\n",
       "    }\n",
       "</style>\n",
       "<table border=\"1\" class=\"dataframe\">\n",
       "  <thead>\n",
       "    <tr style=\"text-align: right;\">\n",
       "      <th>run</th>\n",
       "      <th>1</th>\n",
       "      <th>2</th>\n",
       "      <th>3</th>\n",
       "      <th>4</th>\n",
       "      <th>5</th>\n",
       "      <th>6</th>\n",
       "      <th>7</th>\n",
       "      <th>8</th>\n",
       "    </tr>\n",
       "    <tr>\n",
       "      <th>session</th>\n",
       "      <th></th>\n",
       "      <th></th>\n",
       "      <th></th>\n",
       "      <th></th>\n",
       "      <th></th>\n",
       "      <th></th>\n",
       "      <th></th>\n",
       "      <th></th>\n",
       "    </tr>\n",
       "  </thead>\n",
       "  <tbody>\n",
       "    <tr>\n",
       "      <th>check</th>\n",
       "      <td>1.068896</td>\n",
       "      <td>1.025332</td>\n",
       "      <td>1.023142</td>\n",
       "      <td>0.995745</td>\n",
       "      <td>1.004127</td>\n",
       "      <td>NaN</td>\n",
       "      <td>NaN</td>\n",
       "      <td>NaN</td>\n",
       "    </tr>\n",
       "    <tr>\n",
       "      <th>one</th>\n",
       "      <td>1.178375</td>\n",
       "      <td>1.092156</td>\n",
       "      <td>1.063530</td>\n",
       "      <td>1.038205</td>\n",
       "      <td>1.013476</td>\n",
       "      <td>NaN</td>\n",
       "      <td>NaN</td>\n",
       "      <td>NaN</td>\n",
       "    </tr>\n",
       "    <tr>\n",
       "      <th>two</th>\n",
       "      <td>0.970360</td>\n",
       "      <td>0.927557</td>\n",
       "      <td>0.923304</td>\n",
       "      <td>0.920035</td>\n",
       "      <td>0.905642</td>\n",
       "      <td>0.893654</td>\n",
       "      <td>0.89838</td>\n",
       "      <td>0.888164</td>\n",
       "    </tr>\n",
       "  </tbody>\n",
       "</table>\n",
       "</div>"
      ],
      "text/plain": [
       "run             1         2         3         4         5         6        7  \\\n",
       "session                                                                        \n",
       "check    1.068896  1.025332  1.023142  0.995745  1.004127       NaN      NaN   \n",
       "one      1.178375  1.092156  1.063530  1.038205  1.013476       NaN      NaN   \n",
       "two      0.970360  0.927557  0.923304  0.920035  0.905642  0.893654  0.89838   \n",
       "\n",
       "run             8  \n",
       "session            \n",
       "check         NaN  \n",
       "one           NaN  \n",
       "two      0.888164  "
      ]
     },
     "execution_count": 33,
     "metadata": {},
     "output_type": "execute_result"
    }
   ],
   "source": [
    "sessions_all.loc[lambda x: x.valid].groupby(['session', 'run'])['response_time'].mean().unstack()"
   ]
  },
  {
   "cell_type": "markdown",
   "metadata": {},
   "source": [
    "## Figure 2b: Classification Accuracy by run"
   ]
  },
  {
   "cell_type": "markdown",
   "metadata": {},
   "source": [
    "Figure 2b"
   ]
  },
  {
   "cell_type": "code",
   "execution_count": 34,
   "metadata": {},
   "outputs": [
    {
     "name": "stderr",
     "output_type": "stream",
     "text": [
      "/Users/arik/.pyenv/versions/miniconda3-latest/envs/jupyter/lib/python3.11/site-packages/seaborn/axisgrid.py:718: UserWarning: Using the pointplot function without specifying `order` is likely to produce an incorrect plot.\n",
      "  warnings.warn(warning)\n"
     ]
    },
    {
     "data": {
      "image/png": "[encoded data removed]",
      "text/plain": [
       "<Figure size 360x150 with 3 Axes>"
      ]
     },
     "metadata": {},
     "output_type": "display_data"
    }
   ],
   "source": [
    "g = sns.catplot(x='run',\n",
    "            y='correct',\n",
    "            hue='graph',\n",
    "            col='session',\n",
    "            kind=\"point\",\n",
    "            col_order=['one', 'check', 'two'],\n",
    "            hue_order=['Modular', 'Lattice'],\n",
    "            capsize=.2,\n",
    "            dodge=0.3,\n",
    "            sharex=False,\n",
    "            # linewidth=0.1,\n",
    "            legend_out=False,\n",
    "            height=1.5, aspect=.8,\n",
    "            data=(sessions_all\n",
    "                 )\n",
    "            )\n",
    "g.map(sns.pointplot, 'run', 'correct', color='black', errorbar=None, linestyles=':', markers=\"\", label=None)\n",
    "handles, labels = g.axes.flat[0].get_legend_handles_labels()\n",
    "# labels[0] = 'Modular (n=16)'\n",
    "# labels[1] = 'Lattice (n=15)'\n",
    "handles.append(g.axes.flat[0].lines[-1])\n",
    "labels.append('Mean')\n",
    "plt.legend(handles=handles, labels=labels, \n",
    "#            title='Graph', \n",
    "           loc='lower right')\n",
    "g.axes.flat[0].text(-0.2, 1, 'Session 1, Training')\n",
    "g.axes.flat[1].text(-0.2, 1, 'Session 1, Recall')\n",
    "g.axes.flat[2].text(0, 1, 'Session 2, Recall')\n",
    "# g.set(ylim=(0.45, 1.05))\n",
    "g.set_titles('')\n",
    "g.set(xlabel='Run')\n",
    "g.set(ylabel='Response Accuracy')\n",
    "# Add axis cut\n",
    "g.axes.flat[0].add_patch(Rectangle([-0.57, 0.31], 0.15, 0.03, edgecolor='white', alpha=1, facecolor=\"white\", zorder=100, clip_on=False))\n",
    "g.axes.flat[0].add_patch(Rectangle([-0.58, 0.29], 0.16, 0.007, edgecolor=axis_color, alpha=1, facecolor=axis_color, zorder=101, clip_on=False, angle=6))\n",
    "g.axes.flat[0].add_patch(Rectangle([-0.58, 0.33], 0.16, 0.007, edgecolor=axis_color, alpha=1, facecolor=axis_color, zorder=101, clip_on=False, angle=6))\n",
    "g.axes.flat[1].add_patch(Rectangle([-0.57, 0.31], 0.15, 0.03, edgecolor='white', alpha=1, facecolor=\"white\", zorder=100, clip_on=False))\n",
    "g.axes.flat[1].add_patch(Rectangle([-0.58, 0.29], 0.16, 0.007, edgecolor=axis_color, alpha=1, facecolor=axis_color, zorder=101, clip_on=False, angle=6))\n",
    "g.axes.flat[1].add_patch(Rectangle([-0.58, 0.33], 0.16, 0.007, edgecolor=axis_color, alpha=1, facecolor=axis_color, zorder=101, clip_on=False, angle=6))\n",
    "g.axes.flat[2].add_patch(Rectangle([-0.57, 0.31], 0.15, 0.025, edgecolor='white', alpha=1, facecolor=\"white\", zorder=100, clip_on=False))\n",
    "g.axes.flat[2].add_patch(Rectangle([-0.62, 0.29], 0.24, 0.008, edgecolor=axis_color, alpha=1, facecolor=axis_color, zorder=101, clip_on=False, angle=4))\n",
    "g.axes.flat[2].add_patch(Rectangle([-0.62, 0.33], 0.24, 0.008, edgecolor=axis_color, alpha=1, facecolor=axis_color, zorder=101, clip_on=False, angle=4))\n",
    "# And set bottom axis to 0\n",
    "yticks = g.axes.flat[0].get_yticks()[:-1]\n",
    "ylim = g.axes.flat[0].get_ylim()[:-1]\n",
    "yticks[0] = ylim[0]\n",
    "yticklabels = [f'{x:0.1f}' for x in yticks]\n",
    "yticklabels[0] = '0'\n",
    "g.set(yticks=yticks)\n",
    "g.set(yticklabels=yticklabels)\n",
    "# Save figure\n",
    "g.savefig('images/behavior_accuracy.pdf')"
   ]
  },
  {
   "cell_type": "markdown",
   "metadata": {},
   "source": [
    "## Stats: Classification accuracy values"
   ]
  },
  {
   "cell_type": "markdown",
   "metadata": {},
   "source": [
    "Reported accuracy values in the manuscript:\n",
    "1. Separated by graph type\n",
    "2. Combined for both graph types"
   ]
  },
  {
   "cell_type": "code",
   "execution_count": 35,
   "metadata": {},
   "outputs": [
    {
     "data": {
      "text/html": [
       "<div>\n",
       "<style scoped>\n",
       "    .dataframe tbody tr th:only-of-type {\n",
       "        vertical-align: middle;\n",
       "    }\n",
       "\n",
       "    .dataframe tbody tr th {\n",
       "        vertical-align: top;\n",
       "    }\n",
       "\n",
       "    .dataframe thead th {\n",
       "        text-align: right;\n",
       "    }\n",
       "</style>\n",
       "<table border=\"1\" class=\"dataframe\">\n",
       "  <thead>\n",
       "    <tr style=\"text-align: right;\">\n",
       "      <th></th>\n",
       "      <th>run</th>\n",
       "      <th>1</th>\n",
       "      <th>2</th>\n",
       "      <th>3</th>\n",
       "      <th>4</th>\n",
       "      <th>5</th>\n",
       "      <th>6</th>\n",
       "      <th>7</th>\n",
       "      <th>8</th>\n",
       "    </tr>\n",
       "    <tr>\n",
       "      <th>session</th>\n",
       "      <th>graph</th>\n",
       "      <th></th>\n",
       "      <th></th>\n",
       "      <th></th>\n",
       "      <th></th>\n",
       "      <th></th>\n",
       "      <th></th>\n",
       "      <th></th>\n",
       "      <th></th>\n",
       "    </tr>\n",
       "  </thead>\n",
       "  <tbody>\n",
       "    <tr>\n",
       "      <th rowspan=\"2\" valign=\"top\">check</th>\n",
       "      <th>Lattice</th>\n",
       "      <td>0.524444</td>\n",
       "      <td>0.613333</td>\n",
       "      <td>0.693333</td>\n",
       "      <td>0.733333</td>\n",
       "      <td>0.755556</td>\n",
       "      <td>NaN</td>\n",
       "      <td>NaN</td>\n",
       "      <td>NaN</td>\n",
       "    </tr>\n",
       "    <tr>\n",
       "      <th>Modular</th>\n",
       "      <td>0.350000</td>\n",
       "      <td>0.529167</td>\n",
       "      <td>0.579167</td>\n",
       "      <td>0.666667</td>\n",
       "      <td>0.733333</td>\n",
       "      <td>NaN</td>\n",
       "      <td>NaN</td>\n",
       "      <td>NaN</td>\n",
       "    </tr>\n",
       "    <tr>\n",
       "      <th rowspan=\"2\" valign=\"top\">one</th>\n",
       "      <th>Lattice</th>\n",
       "      <td>0.889778</td>\n",
       "      <td>0.886000</td>\n",
       "      <td>0.868222</td>\n",
       "      <td>0.886000</td>\n",
       "      <td>0.881111</td>\n",
       "      <td>NaN</td>\n",
       "      <td>NaN</td>\n",
       "      <td>NaN</td>\n",
       "    </tr>\n",
       "    <tr>\n",
       "      <th>Modular</th>\n",
       "      <td>0.898750</td>\n",
       "      <td>0.888125</td>\n",
       "      <td>0.900833</td>\n",
       "      <td>0.895000</td>\n",
       "      <td>0.900208</td>\n",
       "      <td>NaN</td>\n",
       "      <td>NaN</td>\n",
       "      <td>NaN</td>\n",
       "    </tr>\n",
       "    <tr>\n",
       "      <th rowspan=\"2\" valign=\"top\">two</th>\n",
       "      <th>Lattice</th>\n",
       "      <td>0.714444</td>\n",
       "      <td>0.834444</td>\n",
       "      <td>0.878889</td>\n",
       "      <td>0.895556</td>\n",
       "      <td>0.917778</td>\n",
       "      <td>0.94000</td>\n",
       "      <td>0.933333</td>\n",
       "      <td>0.958889</td>\n",
       "    </tr>\n",
       "    <tr>\n",
       "      <th>Modular</th>\n",
       "      <td>0.702083</td>\n",
       "      <td>0.829167</td>\n",
       "      <td>0.878125</td>\n",
       "      <td>0.891667</td>\n",
       "      <td>0.925000</td>\n",
       "      <td>0.94375</td>\n",
       "      <td>0.959375</td>\n",
       "      <td>0.961458</td>\n",
       "    </tr>\n",
       "  </tbody>\n",
       "</table>\n",
       "</div>"
      ],
      "text/plain": [
       "run                     1         2         3         4         5        6  \\\n",
       "session graph                                                                \n",
       "check   Lattice  0.524444  0.613333  0.693333  0.733333  0.755556      NaN   \n",
       "        Modular  0.350000  0.529167  0.579167  0.666667  0.733333      NaN   \n",
       "one     Lattice  0.889778  0.886000  0.868222  0.886000  0.881111      NaN   \n",
       "        Modular  0.898750  0.888125  0.900833  0.895000  0.900208      NaN   \n",
       "two     Lattice  0.714444  0.834444  0.878889  0.895556  0.917778  0.94000   \n",
       "        Modular  0.702083  0.829167  0.878125  0.891667  0.925000  0.94375   \n",
       "\n",
       "run                     7         8  \n",
       "session graph                        \n",
       "check   Lattice       NaN       NaN  \n",
       "        Modular       NaN       NaN  \n",
       "one     Lattice       NaN       NaN  \n",
       "        Modular       NaN       NaN  \n",
       "two     Lattice  0.933333  0.958889  \n",
       "        Modular  0.959375  0.961458  "
      ]
     },
     "execution_count": 35,
     "metadata": {},
     "output_type": "execute_result"
    }
   ],
   "source": [
    "sessions_all.groupby(['session', 'graph', 'run'])['correct'].mean().unstack()"
   ]
  },
  {
   "cell_type": "code",
   "execution_count": 36,
   "metadata": {},
   "outputs": [
    {
     "data": {
      "text/html": [
       "<div>\n",
       "<style scoped>\n",
       "    .dataframe tbody tr th:only-of-type {\n",
       "        vertical-align: middle;\n",
       "    }\n",
       "\n",
       "    .dataframe tbody tr th {\n",
       "        vertical-align: top;\n",
       "    }\n",
       "\n",
       "    .dataframe thead th {\n",
       "        text-align: right;\n",
       "    }\n",
       "</style>\n",
       "<table border=\"1\" class=\"dataframe\">\n",
       "  <thead>\n",
       "    <tr style=\"text-align: right;\">\n",
       "      <th>run</th>\n",
       "      <th>1</th>\n",
       "      <th>2</th>\n",
       "      <th>3</th>\n",
       "      <th>4</th>\n",
       "      <th>5</th>\n",
       "      <th>6</th>\n",
       "      <th>7</th>\n",
       "      <th>8</th>\n",
       "    </tr>\n",
       "    <tr>\n",
       "      <th>session</th>\n",
       "      <th></th>\n",
       "      <th></th>\n",
       "      <th></th>\n",
       "      <th></th>\n",
       "      <th></th>\n",
       "      <th></th>\n",
       "      <th></th>\n",
       "      <th></th>\n",
       "    </tr>\n",
       "  </thead>\n",
       "  <tbody>\n",
       "    <tr>\n",
       "      <th>check</th>\n",
       "      <td>0.434409</td>\n",
       "      <td>0.569892</td>\n",
       "      <td>0.634409</td>\n",
       "      <td>0.698925</td>\n",
       "      <td>0.744086</td>\n",
       "      <td>NaN</td>\n",
       "      <td>NaN</td>\n",
       "      <td>NaN</td>\n",
       "    </tr>\n",
       "    <tr>\n",
       "      <th>one</th>\n",
       "      <td>0.894409</td>\n",
       "      <td>0.887097</td>\n",
       "      <td>0.885054</td>\n",
       "      <td>0.890645</td>\n",
       "      <td>0.890968</td>\n",
       "      <td>NaN</td>\n",
       "      <td>NaN</td>\n",
       "      <td>NaN</td>\n",
       "    </tr>\n",
       "    <tr>\n",
       "      <th>two</th>\n",
       "      <td>0.708065</td>\n",
       "      <td>0.831720</td>\n",
       "      <td>0.878495</td>\n",
       "      <td>0.893548</td>\n",
       "      <td>0.921505</td>\n",
       "      <td>0.941935</td>\n",
       "      <td>0.946774</td>\n",
       "      <td>0.960215</td>\n",
       "    </tr>\n",
       "  </tbody>\n",
       "</table>\n",
       "</div>"
      ],
      "text/plain": [
       "run             1         2         3         4         5         6         7  \\\n",
       "session                                                                         \n",
       "check    0.434409  0.569892  0.634409  0.698925  0.744086       NaN       NaN   \n",
       "one      0.894409  0.887097  0.885054  0.890645  0.890968       NaN       NaN   \n",
       "two      0.708065  0.831720  0.878495  0.893548  0.921505  0.941935  0.946774   \n",
       "\n",
       "run             8  \n",
       "session            \n",
       "check         NaN  \n",
       "one           NaN  \n",
       "two      0.960215  "
      ]
     },
     "execution_count": 36,
     "metadata": {},
     "output_type": "execute_result"
    }
   ],
   "source": [
    "sessions_all.groupby(['session', 'run'])['correct'].mean().unstack()"
   ]
  },
  {
   "cell_type": "markdown",
   "metadata": {},
   "source": [
    "## RT trends"
   ]
  },
  {
   "cell_type": "code",
   "execution_count": 37,
   "metadata": {},
   "outputs": [
    {
     "data": {
      "text/plain": [
       "<seaborn.axisgrid.FacetGrid at 0x2b2f84410>"
      ]
     },
     "execution_count": 37,
     "metadata": {},
     "output_type": "execute_result"
    },
    {
     "data": {
      "image/png": "[encoded data removed]",
      "text/plain": [
       "<Figure size 1000x500 with 2 Axes>"
      ]
     },
     "metadata": {},
     "output_type": "display_data"
    }
   ],
   "source": [
    "sns.lmplot(\n",
    "    data=(sessions_all\n",
    "          .loc[lambda x: x.valid]\n",
    "          .assign(trial_consecutive_binned=lambda x: np.rint(x.trial_consecutive / 10))\n",
    "          .groupby(['session', 'trial_consecutive_binned'])['response_time'].mean().reset_index()),\n",
    "    x='trial_consecutive_binned', y='response_time', col='session', fit_reg=False, facet_kws={'sharex': False})"
   ]
  },
  {
   "cell_type": "code",
   "execution_count": 38,
   "metadata": {},
   "outputs": [
    {
     "data": {
      "text/plain": [
       "<seaborn.axisgrid.FacetGrid at 0x2b2b180d0>"
      ]
     },
     "execution_count": 38,
     "metadata": {},
     "output_type": "execute_result"
    },
    {
     "data": {
      "image/png": "[encoded data removed]",
      "text/plain": [
       "<Figure size 500x500 with 1 Axes>"
      ]
     },
     "metadata": {},
     "output_type": "display_data"
    }
   ],
   "source": [
    "sns.lmplot(\n",
    "    data=(session_one\n",
    "          .loc[lambda x: x.valid]\n",
    "          .assign(trial_consecutive_binned=lambda x: np.rint(x.trial_consecutive / 10))\n",
    "          .groupby(['trial_consecutive'])['response_time'].mean().reset_index()),\n",
    "    x='trial_consecutive', y='response_time', fit_reg=False, facet_kws={'sharex': False})"
   ]
  },
  {
   "cell_type": "markdown",
   "metadata": {},
   "source": [
    "# Classification and Behavior"
   ]
  },
  {
   "cell_type": "markdown",
   "metadata": {},
   "source": [
    "Derive our per-subject response time and accuracy measures"
   ]
  },
  {
   "cell_type": "code",
   "execution_count": 39,
   "metadata": {
    "tags": []
   },
   "outputs": [],
   "source": [
    "response_times = sessions_all.loc[lambda x: x.valid].groupby(['session', 'subject'])['response_time'].mean().reset_index()\n",
    "accuracies = sessions_all.groupby(['session', 'subject'])['correct'].mean().rename('response_accuracy').reset_index()"
   ]
  },
  {
   "cell_type": "markdown",
   "metadata": {},
   "source": [
    "Combine with classification accuracy results"
   ]
  },
  {
   "cell_type": "code",
   "execution_count": 40,
   "metadata": {
    "tags": []
   },
   "outputs": [],
   "source": [
    "classification_vs_response_accuracy = (\n",
    "    results\n",
    "    .loc[lambda x: ((x.voxels == '0') | \n",
    "                    ((x.roi != \"loc-localized\") & (x.voxels == \"200\")) | \n",
    "                    ((x.roi == \"loc-localized\") & (x.voxels == \"600\")))]\n",
    "    .query(f'classifier == \"{classifier}\"')\n",
    "    .query(f'rescale == {rescale}')\n",
    "    .query(f'subtract_mean == {subtract_mean}')\n",
    "    .groupby(['subject', 'roi', 'graph'])['correct_prediction']\n",
    "    .mean()\n",
    "    .dropna()\n",
    "    .rename('classification_accuracy')\n",
    "    .reset_index()\n",
    "    .merge(accuracies, how='left')\n",
    ")"
   ]
  },
  {
   "cell_type": "code",
   "execution_count": 41,
   "metadata": {
    "tags": []
   },
   "outputs": [],
   "source": [
    "classification_vs_response_time = (\n",
    "    results\n",
    "    .query('correct')\n",
    "    .loc[lambda x: ((x.voxels == '0') | \n",
    "                    ((x.roi != \"loc-localized\") & (x.voxels == \"200\")) | \n",
    "                    ((x.roi == \"loc-localized\") & (x.voxels == \"600\")))]\n",
    "    .query(f'classifier == \"{classifier}\"')\n",
    "    .query(f'rescale == {rescale}')\n",
    "    .query('correct == True')\n",
    "    .query(f'subtract_mean == {subtract_mean}')\n",
    "    .groupby(['subject', 'roi', 'graph'])['correct_prediction']\n",
    "    .mean()\n",
    "    .dropna()\n",
    "    .rename('classification_accuracy')\n",
    "    .reset_index()\n",
    "    .merge(response_times, how='left')\n",
    ")"
   ]
  },
  {
   "cell_type": "code",
   "execution_count": 42,
   "metadata": {
    "tags": []
   },
   "outputs": [],
   "source": [
    "classifier = 'node'\n",
    "rescale=True\n",
    "subtract_mean=True\n",
    "acc_df = (results\n",
    "          .loc[lambda x: (((x.voxels == \"0\"))\n",
    "                          | ((x.roi != \"loc-localized\") & (x.voxels == \"200\"))\n",
    "                          | ((x.roi == \"loc-localized\") & (x.voxels == \"400\")))]\n",
    "          .query('correct == True')\n",
    "          .query(f'classifier == \"{classifier}\"')\n",
    "          .query(f'rescale == {rescale}')\n",
    "          .query(f'subtract_mean == {subtract_mean}')\n",
    "          .groupby(['subject', 'roi', 'graph'])['correct_prediction']\n",
    "          .mean()\n",
    "          .dropna()\n",
    "          .rename('Classification Accuracy')\n",
    "          .reset_index()\n",
    "         )\n",
    "plot_rc = {'font.family': ['sans-serif'],\n",
    "           'font.sans-serif': ['Arial'],\n",
    "           'font.size': 7,\n",
    "           'axes.titlesize': 7,\n",
    "           'axes.labelsize': 7,\n",
    "           'xtick.labelsize': 7,\n",
    "           'ytick.labelsize': 7,\n",
    "           'legend.fontsize': 7,\n",
    "           'legend.title_fontsize': 7}"
   ]
  },
  {
   "cell_type": "markdown",
   "metadata": {},
   "source": [
    "# Postcentral Gyrus: Classification and Behavior"
   ]
  },
  {
   "cell_type": "code",
   "execution_count": 43,
   "metadata": {
    "tags": []
   },
   "outputs": [
    {
     "name": "stdout",
     "output_type": "stream",
     "text": [
      "Minimum classification accuracy: 0.059\n",
      "Maximum classification accuracy: 0.170\n"
     ]
    }
   ],
   "source": [
    "postcentral_classification_min = (acc_df\n",
    " .loc[lambda x: (x.roi == 'postcentral-both')]\n",
    ").min()['Classification Accuracy']\n",
    "\n",
    "postcentral_classification_max = (acc_df\n",
    " .loc[lambda x: (x.roi == 'postcentral-both')]\n",
    ").max()['Classification Accuracy']\n",
    "\n",
    "print(f'Minimum classification accuracy: {postcentral_classification_min:0.3f}')\n",
    "print(f'Maximum classification accuracy: {postcentral_classification_max:0.3f}')"
   ]
  },
  {
   "cell_type": "markdown",
   "metadata": {},
   "source": [
    "## Figure 3a: Postcentral Gyrus boxplots"
   ]
  },
  {
   "cell_type": "code",
   "execution_count": 44,
   "metadata": {},
   "outputs": [
    {
     "data": {
      "image/png": "[encoded data removed]",
      "text/plain": [
       "<Figure size 300x300 with 1 Axes>"
      ]
     },
     "metadata": {},
     "output_type": "display_data"
    }
   ],
   "source": [
    "sns.set()\n",
    "sns.set_style(\"ticks\")\n",
    "sns.set_context(\"paper\", rc=plot_rc)\n",
    "g = sns.catplot(data=(acc_df\n",
    "                      .loc[lambda x: (x.roi == 'postcentral-lh') | (x.roi == 'postcentral-rh') | (x.roi == 'postcentral-both')]\n",
    "                      .replace({'Lattice': 'Ring Lattice'})\n",
    "                      .replace({'postcentral-lh': 'Left',\n",
    "                                'postcentral-rh': 'Right',\n",
    "                                'postcentral-both': 'Bilateral'})\n",
    "                      .rename(columns={'graph': 'Graph'})\n",
    "                     ),\n",
    "                x='roi',\n",
    "                y='Classification Accuracy',\n",
    "                hue='Graph',\n",
    "                order=['Left', 'Right', 'Bilateral'],\n",
    "                height=3,\n",
    "                legend_out=False,\n",
    "                palette='muted',\n",
    "                kind='box')\n",
    "# Basic Formatting\n",
    "g.set(xlabel=None)\n",
    "g.set(title=None)\n",
    "g.set(ylim=(0.04, 0.19))\n",
    "\n",
    "# Add chance line\n",
    "transAxes = g.axes.flat[0].transAxes\n",
    "baseline = 1/15.0\n",
    "baseline_axis = g.axes.flat[0].transLimits.transform((0, baseline))[1]  # Get baseline in axis coordinates\n",
    "chance_box_height = 0.12\n",
    "chance_box_width = 0.3\n",
    "chance_text_center = baseline_axis - 0.035  # vertical center of chance text\n",
    "roi_text_center = baseline_axis - 0.115  # vertical center of roi label\n",
    "text_xloc = 0.05  # X location of ROI and chance text box, in axis coordinates\n",
    "g.axes.flat[0].axhline(y=baseline, linestyle='--', color='black', label='Chance')\n",
    "g.axes.flat[0].text(text_xloc, roi_text_center, 'Postcentral Gyrus', transform=transAxes)\n",
    "g.axes.flat[0].add_patch(Rectangle([text_xloc, baseline_axis - chance_box_height/2], chance_box_width, chance_box_height, transform=transAxes, edgecolor='Black', alpha=1, facecolor=\"white\", zorder=100))\n",
    "g.axes.flat[0].text(text_xloc + 0.01, chance_text_center, 'Chance Level\\nClassification', zorder=101, transform=transAxes)\n",
    "\n",
    "# Add axis cut\n",
    "g.axes.flat[0].add_patch(Rectangle([-0.005, 0.035], 0.01, 0.02, edgecolor='white', alpha=1, facecolor=\"white\", zorder=100, clip_on=False, transform=transAxes))\n",
    "g.axes.flat[0].add_patch(Rectangle([-0.02, 0.025], 0.04, 0.001, edgecolor=axis_color, alpha=1, facecolor=axis_color, zorder=101, clip_on=False, angle=20, transform=transAxes))\n",
    "g.axes.flat[0].add_patch(Rectangle([-0.02, 0.05], 0.04, 0.001, edgecolor=axis_color, alpha=1, facecolor=axis_color, zorder=101, clip_on=False, angle=20, transform=transAxes))\n",
    "\n",
    "# And set bottom axis to 0\n",
    "yticks = g.axes.flat[0].get_yticks()\n",
    "yticks = np.concatenate(([g.axes.flat[0].get_ylim()[0]], yticks[1:-1]))\n",
    "yticklabels = [f'{x:0.2f}' for x in yticks]\n",
    "yticklabels[0] = '0'\n",
    "g.set(yticks=yticks)\n",
    "g.set(yticklabels=yticklabels)\n",
    "\n",
    "# Save\n",
    "g.savefig('images/classification_postcentral_rois_boxplot.pdf')"
   ]
  },
  {
   "cell_type": "markdown",
   "metadata": {},
   "source": [
    "## Stats: Hemispheric classification diferences"
   ]
  },
  {
   "cell_type": "markdown",
   "metadata": {},
   "source": [
    "Is the difference between left and right hemispheres significant?"
   ]
  },
  {
   "cell_type": "markdown",
   "metadata": {
    "tags": []
   },
   "source": [
    "Two-sided paired t-test"
   ]
  },
  {
   "cell_type": "code",
   "execution_count": 45,
   "metadata": {
    "tags": []
   },
   "outputs": [
    {
     "name": "stdout",
     "output_type": "stream",
     "text": [
      "Postcentral, Left vs. Right Classification Accuracy\n"
     ]
    },
    {
     "data": {
      "text/plain": [
       "TtestResult(statistic=6.551950208890071, pvalue=3.014350587580961e-07, df=30)"
      ]
     },
     "execution_count": 45,
     "metadata": {},
     "output_type": "execute_result"
    }
   ],
   "source": [
    "from scipy.stats import ttest_rel\n",
    "x1 = (acc_df\n",
    "                      .loc[lambda x: (x.roi == 'postcentral-lh')]\n",
    "                     )['Classification Accuracy'].values\n",
    "x2 = (acc_df\n",
    "                      .loc[lambda x: (x.roi == 'postcentral-rh')]\n",
    "                     )['Classification Accuracy'].values\n",
    "print('Postcentral, Left vs. Right Classification Accuracy')\n",
    "ttest_rel(x1, x2)"
   ]
  },
  {
   "cell_type": "markdown",
   "metadata": {},
   "source": [
    "What about between left and bilateral?"
   ]
  },
  {
   "cell_type": "code",
   "execution_count": 46,
   "metadata": {
    "tags": []
   },
   "outputs": [
    {
     "name": "stdout",
     "output_type": "stream",
     "text": [
      "Postcentral, Bilateral vs. Left Classification Accuracy\n",
      "TtestResult(statistic=-0.6374418700626101, pvalue=0.5286723974012844, df=30)\n"
     ]
    }
   ],
   "source": [
    "from scipy.stats import ttest_rel\n",
    "x1 = (acc_df\n",
    "                      .loc[lambda x: (x.roi == 'postcentral-both')]\n",
    "                     )['Classification Accuracy'].values\n",
    "x2 = (acc_df\n",
    "                      .loc[lambda x: (x.roi == 'postcentral-lh')]\n",
    "                     )['Classification Accuracy'].values\n",
    "print('Postcentral, Bilateral vs. Left Classification Accuracy')\n",
    "print(ttest_rel(x1, x2))"
   ]
  },
  {
   "cell_type": "markdown",
   "metadata": {},
   "source": [
    "## Figure 3b: Postcentral Gyrus classification vs. response time"
   ]
  },
  {
   "cell_type": "code",
   "execution_count": 47,
   "metadata": {},
   "outputs": [
    {
     "name": "stderr",
     "output_type": "stream",
     "text": [
      "/Users/arik/.pyenv/versions/miniconda3-latest/envs/jupyter/lib/python3.11/site-packages/seaborn/regression.py:598: UserWarning: legend_out is deprecated from the `lmplot` function signature. Please update your code to pass it using `facet_kws`.\n",
      "  warnings.warn(msg, UserWarning)\n"
     ]
    },
    {
     "data": {
      "image/png": "[encoded data removed]",
      "text/plain": [
       "<Figure size 300x300 with 1 Axes>"
      ]
     },
     "metadata": {},
     "output_type": "display_data"
    }
   ],
   "source": [
    "# sns.set()\n",
    "sns.set_style(\"ticks\")\n",
    "sns.set_context(\"paper\", rc=plot_rc)\n",
    "\n",
    "g = sns.lmplot(data=(classification_vs_response_time\n",
    "                     .loc[lambda x: x.session == 'two']\n",
    "                     .loc[lambda x: x.roi == 'postcentral-both']\n",
    "                     .replace({'Lattice': 'Ring Lattice'})\n",
    "                     .rename(columns={'graph': 'Graph'})\n",
    "                    ),\n",
    "               x='response_time',\n",
    "               y='classification_accuracy',\n",
    "               hue='Graph',\n",
    "               height=3, # Gives width of 3in\n",
    "               scatter_kws={\"s\": 10},\n",
    "               legend_out=False,\n",
    "               palette='muted',\n",
    "               fit_reg=True)\n",
    "# Basic Formatting\n",
    "g.set(xlabel='Response Time')\n",
    "g.set(ylabel='Classification Accuracy')\n",
    "g.set(title=None)\n",
    "g.set(xlim=(0.69, 1.2))\n",
    "g.set(ylim=(0.04, 0.19))\n",
    "plt.legend(loc='upper left', title='Graph')\n",
    "\n",
    "# Add chance line\n",
    "transAxes = g.axes.flat[0].transAxes\n",
    "baseline_axis = g.axes.flat[0].transLimits.transform((0, baseline))[1]  # Get baseline in axis coordinates\n",
    "baseline = 1/15.0\n",
    "chance_box_height = 0.12\n",
    "chance_box_width = 0.3\n",
    "chance_text_center = baseline_axis - 0.035  # vertical center of chance text\n",
    "roi_text_center = baseline_axis - 0.115  # vertical center of roi label\n",
    "text_xloc = 0.62  # X location of ROI and chance text box, in axis coordinates\n",
    "g.axes.flat[0].axhline(y=baseline, linestyle='--', color='black', label='Chance')\n",
    "g.axes.flat[0].text(text_xloc - 0.25, roi_text_center, 'Postcentral Gyrus, Bilateral', transform=transAxes)\n",
    "g.axes.flat[0].add_patch(Rectangle([text_xloc, baseline_axis - chance_box_height/2], chance_box_width, chance_box_height, transform=transAxes, edgecolor='Black', alpha=1, facecolor=\"white\", zorder=100))\n",
    "g.axes.flat[0].text(text_xloc + 0.01, chance_text_center, 'Chance Level\\nClassification', zorder=101, transform=transAxes)\n",
    "\n",
    "# Add axis cut\n",
    "g.axes.flat[0].add_patch(Rectangle([-0.005, 0.035], 0.01, 0.02, edgecolor='white', alpha=1, facecolor=\"white\", zorder=100, clip_on=False, transform=transAxes))\n",
    "g.axes.flat[0].add_patch(Rectangle([-0.02, 0.025], 0.04, 0.001, edgecolor=axis_color, alpha=1, facecolor=axis_color, zorder=101, clip_on=False, angle=20, transform=transAxes))\n",
    "g.axes.flat[0].add_patch(Rectangle([-0.02, 0.05], 0.04, 0.001, edgecolor=axis_color, alpha=1, facecolor=axis_color, zorder=101, clip_on=False, angle=20, transform=transAxes))\n",
    "\n",
    "# And set bottom axis to 0\n",
    "yticks = g.axes.flat[0].get_yticks()\n",
    "yticks = np.concatenate(([g.axes.flat[0].get_ylim()[0]], yticks[1:-1]))\n",
    "yticklabels = [f'{x:0.2f}' for x in yticks]\n",
    "yticklabels[0] = '0'\n",
    "g.set(yticks=yticks)\n",
    "g.set(yticklabels=yticklabels)\n",
    "# Save\n",
    "g.savefig('images/classification_vs_response_time_session_two_postcentral_combined.pdf')"
   ]
  },
  {
   "cell_type": "markdown",
   "metadata": {},
   "source": [
    "## Stats: Postcentral gyrus classification accuracy vs. response time"
   ]
  },
  {
   "cell_type": "code",
   "execution_count": 48,
   "metadata": {},
   "outputs": [
    {
     "name": "stdout",
     "output_type": "stream",
     "text": [
      "                               OLS Regression Results                              \n",
      "===================================================================================\n",
      "Dep. Variable:     classification_accuracy   R-squared:                       0.153\n",
      "Model:                                 OLS   Adj. R-squared:                  0.059\n",
      "Method:                      Least Squares   F-statistic:                     1.627\n",
      "Date:                     Mon, 12 Feb 2024   Prob (F-statistic):              0.206\n",
      "Time:                             10:28:33   Log-Likelihood:                 76.776\n",
      "No. Observations:                       31   AIC:                            -145.6\n",
      "Df Residuals:                           27   BIC:                            -139.8\n",
      "Df Model:                                3                                         \n",
      "Covariance Type:                 nonrobust                                         \n",
      "=========================================================================================================\n",
      "                                            coef    std err          t      P>|t|      [0.025      0.975]\n",
      "---------------------------------------------------------------------------------------------------------\n",
      "Intercept                                 0.1339      0.008     15.773      0.000       0.116       0.151\n",
      "graph[T.Modular]                         -0.0117      0.011     -1.108      0.278      -0.033       0.010\n",
      "zscore_response_time                      0.0191      0.009      2.130      0.042       0.001       0.038\n",
      "zscore_response_time:graph[T.Modular]    -0.0152      0.011     -1.362      0.185      -0.038       0.008\n",
      "==============================================================================\n",
      "Omnibus:                        0.871   Durbin-Watson:                   2.325\n",
      "Prob(Omnibus):                  0.647   Jarque-Bera (JB):                0.841\n",
      "Skew:                           0.356   Prob(JB):                        0.657\n",
      "Kurtosis:                       2.620   Cond. No.                         6.28\n",
      "==============================================================================\n",
      "\n",
      "Notes:\n",
      "[1] Standard Errors assume that the covariance matrix of the errors is correctly specified.\n"
     ]
    }
   ],
   "source": [
    "classification_vs_response_time['zscore_response_time'] = ((classification_vs_response_time['response_time'] -\n",
    "                                                            classification_vs_response_time['response_time'].mean()) /\n",
    "                                                           classification_vs_response_time['response_time'].std())\n",
    "\n",
    "roi = 'postcentral-both'\n",
    "mod = smf.ols(formula='classification_accuracy ~ zscore_response_time * graph',\n",
    "              data=(classification_vs_response_time\n",
    "                 .loc[lambda x: x.session == 'two']\n",
    "                 .loc[lambda x: x.roi == roi]\n",
    "                )\n",
    "             )\n",
    "res = mod.fit()\n",
    "print(res.summary())"
   ]
  },
  {
   "cell_type": "markdown",
   "metadata": {},
   "source": [
    "## Stats: Postcentral gyrus classification accuracy vs. response accuracy"
   ]
  },
  {
   "cell_type": "code",
   "execution_count": 49,
   "metadata": {},
   "outputs": [
    {
     "name": "stdout",
     "output_type": "stream",
     "text": [
      "                               OLS Regression Results                              \n",
      "===================================================================================\n",
      "Dep. Variable:     classification_accuracy   R-squared:                       0.020\n",
      "Model:                                 OLS   Adj. R-squared:                 -0.089\n",
      "Method:                      Least Squares   F-statistic:                    0.1803\n",
      "Date:                     Mon, 12 Feb 2024   Prob (F-statistic):              0.909\n",
      "Time:                             10:28:33   Log-Likelihood:                 75.365\n",
      "No. Observations:                       31   AIC:                            -142.7\n",
      "Df Residuals:                           27   BIC:                            -137.0\n",
      "Df Model:                                3                                         \n",
      "Covariance Type:                 nonrobust                                         \n",
      "======================================================================================================\n",
      "                                         coef    std err          t      P>|t|      [0.025      0.975]\n",
      "------------------------------------------------------------------------------------------------------\n",
      "Intercept                              0.1718      0.072      2.395      0.024       0.025       0.319\n",
      "graph[T.Modular]                      -0.0470      0.105     -0.449      0.657      -0.262       0.168\n",
      "response_accuracy                     -0.0592      0.081     -0.732      0.470      -0.225       0.107\n",
      "response_accuracy:graph[T.Modular]     0.0532      0.118      0.452      0.655      -0.189       0.295\n",
      "==============================================================================\n",
      "Omnibus:                        0.850   Durbin-Watson:                   2.162\n",
      "Prob(Omnibus):                  0.654   Jarque-Bera (JB):                0.145\n",
      "Skew:                          -0.031   Prob(JB):                        0.930\n",
      "Kurtosis:                       3.330   Cond. No.                         66.9\n",
      "==============================================================================\n",
      "\n",
      "Notes:\n",
      "[1] Standard Errors assume that the covariance matrix of the errors is correctly specified.\n"
     ]
    }
   ],
   "source": [
    "roi = 'postcentral-both'\n",
    "mod = smf.ols(formula='classification_accuracy ~ response_accuracy * graph',\n",
    "              data=(classification_vs_response_accuracy\n",
    "                 .loc[lambda x: x.session == 'two']\n",
    "                 .loc[lambda x: x.roi == roi]\n",
    "                )\n",
    "             )\n",
    "res = mod.fit()\n",
    "print(res.summary())"
   ]
  },
  {
   "cell_type": "markdown",
   "metadata": {},
   "source": [
    "# LOC: Classification and Behavior"
   ]
  },
  {
   "cell_type": "code",
   "execution_count": 50,
   "metadata": {},
   "outputs": [
    {
     "name": "stdout",
     "output_type": "stream",
     "text": [
      "Minimum classification accuracy: 0.156\n",
      "Maximum classification accuracy: 0.409\n"
     ]
    }
   ],
   "source": [
    "loc_classification_min = (acc_df\n",
    " .loc[lambda x: (x.roi == 'loc-localized')]\n",
    ").min()['Classification Accuracy']\n",
    "\n",
    "loc_classification_max = (acc_df\n",
    " .loc[lambda x: (x.roi == 'loc-localized')]\n",
    ").max()['Classification Accuracy']\n",
    "\n",
    "print(f'Minimum classification accuracy: {loc_classification_min:0.3f}')\n",
    "print(f'Maximum classification accuracy: {loc_classification_max:0.3f}')"
   ]
  },
  {
   "cell_type": "markdown",
   "metadata": {},
   "source": [
    "## Figure 4a: LOC boxplots"
   ]
  },
  {
   "cell_type": "code",
   "execution_count": 51,
   "metadata": {},
   "outputs": [
    {
     "data": {
      "image/png": "[encoded data removed]",
      "text/plain": [
       "<Figure size 300x300 with 1 Axes>"
      ]
     },
     "metadata": {},
     "output_type": "display_data"
    }
   ],
   "source": [
    "sns.set()\n",
    "sns.set_style(\"ticks\")\n",
    "sns.set_context(\"paper\", rc=plot_rc)\n",
    "g = sns.catplot(data=(acc_df\n",
    "                      .loc[lambda x: (x.roi == 'loc-localized-lh') | (x.roi == 'loc-localized-rh') | (x.roi == 'loc-localized')]\n",
    "                      .replace({'Lattice': 'Ring Lattice'})\n",
    "                      .replace({'loc-localized-lh': 'Left',\n",
    "                                'loc-localized-rh': 'Right',\n",
    "                                'loc-localized': 'Bilateral'})\n",
    "                      .rename(columns={'graph': 'Graph'})\n",
    "                     ),\n",
    "                x='roi',\n",
    "                y='Classification Accuracy',\n",
    "                hue='Graph',\n",
    "                order=['Left', 'Right', 'Bilateral'],\n",
    "                height=3,\n",
    "                legend_out=False,\n",
    "                palette='muted',\n",
    "                kind='box')\n",
    "# Basic Formatting\n",
    "g.set(xlabel=None)\n",
    "g.set(ylim=(0.03, 0.45))\n",
    "g.set(title=None)\n",
    "# Add chance line\n",
    "transAxes = g.axes.flat[0].transAxes\n",
    "baseline = 1/15.0\n",
    "chance_box_height = 0.05\n",
    "text_xloc = 0.06\n",
    "# Get baseline in axis coordinates\n",
    "baseline_axis = g.axes.flat[0].transLimits.transform((0, baseline))[1]\n",
    "g.axes.flat[0].axhline(y=baseline, linestyle='--', color='black', label='Chance')\n",
    "g.axes.flat[0].text(text_xloc, baseline_axis + 0.05, 'Lateral Occipital Cortex', transform=transAxes)\n",
    "g.axes.flat[0].add_patch(Rectangle([text_xloc - 0.01, baseline_axis - chance_box_height/2], 0.533, chance_box_height, transform=transAxes, edgecolor='Black', alpha=1, facecolor=\"white\", zorder=100))\n",
    "g.axes.flat[0].text(text_xloc, baseline_axis - 0.015, 'Chance Level Classification', zorder=101, transform=transAxes)\n",
    "# g.axes.flat[0].axhline(y=baseline, linestyle='--', color='black', label='Chance')\n",
    "# g.axes.flat[0].text(0.13, baseline - 0.0005, 'Chance Level Classification', zorder=101, ha='center')\n",
    "# g.axes.flat[0].add_patch(Rectangle([-0.45, baseline-0.005], 1.16, 0.0155, edgecolor='Black', alpha=1, facecolor=\"white\", zorder=100))\n",
    "# Add axis cut\n",
    "g.axes.flat[0].add_patch(Rectangle([-0.005, 0.035], 0.01, 0.02, edgecolor='white', alpha=1, facecolor=\"white\", zorder=100, clip_on=False, transform=transAxes))\n",
    "g.axes.flat[0].add_patch(Rectangle([-0.02, 0.025], 0.04, 0.001, edgecolor=axis_color, alpha=1, facecolor=axis_color, zorder=101, clip_on=False, angle=20, transform=transAxes))\n",
    "g.axes.flat[0].add_patch(Rectangle([-0.02, 0.05], 0.04, 0.001, edgecolor=axis_color, alpha=1, facecolor=axis_color, zorder=101, clip_on=False, angle=20, transform=transAxes))\n",
    "# And set bottom axis to 0\n",
    "yticks = g.axes.flat[0].get_yticks()\n",
    "yticks = np.concatenate(([0.03], yticks[2:]))\n",
    "yticklabels = [f'{x:0.2f}' for x in yticks]\n",
    "yticklabels[0] = '0'\n",
    "g.set(yticks=yticks)\n",
    "g.set(yticklabels=yticklabels)\n",
    "# Save\n",
    "g.savefig('images/classification_loc_localized_rois_boxplot.pdf')"
   ]
  },
  {
   "cell_type": "markdown",
   "metadata": {},
   "source": [
    "## Figure 4b: LOC classification vs. response time"
   ]
  },
  {
   "cell_type": "code",
   "execution_count": 52,
   "metadata": {},
   "outputs": [
    {
     "name": "stderr",
     "output_type": "stream",
     "text": [
      "/Users/arik/.pyenv/versions/miniconda3-latest/envs/jupyter/lib/python3.11/site-packages/seaborn/regression.py:598: UserWarning: legend_out is deprecated from the `lmplot` function signature. Please update your code to pass it using `facet_kws`.\n",
      "  warnings.warn(msg, UserWarning)\n"
     ]
    },
    {
     "data": {
      "image/png": "[encoded data removed]",
      "text/plain": [
       "<Figure size 300x300 with 1 Axes>"
      ]
     },
     "metadata": {},
     "output_type": "display_data"
    }
   ],
   "source": [
    "# sns.set()\n",
    "sns.set_style(\"ticks\")\n",
    "sns.set_context(\"paper\", rc=plot_rc)\n",
    "\n",
    "g = sns.lmplot(data=(classification_vs_response_time\n",
    "                     .loc[lambda x: x.session == 'two']\n",
    "                     .loc[lambda x: x.roi == 'loc-localized']\n",
    "                     .rename(columns={'graph': 'Graph'})\n",
    "                     .replace({'Lattice': 'Ring Lattice'})\n",
    "                    ),\n",
    "               x='response_time',\n",
    "               y='classification_accuracy',\n",
    "               hue='Graph',\n",
    "               height=3, # Gives width of 3in\n",
    "               scatter_kws={\"s\": 10},\n",
    "               legend_out=False,\n",
    "               palette='muted',\n",
    "               fit_reg=True)\n",
    "# Basic Formatting\n",
    "g.set(xlim=(0.69, 1.2))\n",
    "g.set(xlabel='Response Time')\n",
    "g.set(ylabel='Classification Accuracy')\n",
    "g.set(title=None)\n",
    "g.set(ylim=(0.03, 0.45))\n",
    "# Add chance line\n",
    "transAxes = g.axes.flat[0].transAxes\n",
    "baseline = 1/15.0\n",
    "chance_box_height = 0.05\n",
    "text_xloc = 0.06\n",
    "# Get baseline in axis coordinates\n",
    "baseline_axis = g.axes.flat[0].transLimits.transform((0, baseline))[1]\n",
    "g.axes.flat[0].axhline(y=baseline, linestyle='--', color='black', label='Chance')\n",
    "g.axes.flat[0].text(text_xloc, baseline_axis + 0.05, 'Lateral Occipital Cortex, Bilateral', transform=transAxes)\n",
    "g.axes.flat[0].add_patch(Rectangle([text_xloc - 0.01, baseline_axis - chance_box_height/2], 0.533, chance_box_height, transform=transAxes, edgecolor='Black', alpha=1, facecolor=\"white\", zorder=100))\n",
    "g.axes.flat[0].text(text_xloc, baseline_axis - 0.015, 'Chance Level Classification', zorder=101, transform=transAxes)\n",
    "# Add axis cut\n",
    "g.axes.flat[0].add_patch(Rectangle([-0.005, 0.035], 0.01, 0.02, edgecolor='white', alpha=1, facecolor=\"white\", zorder=100, clip_on=False, transform=transAxes))\n",
    "g.axes.flat[0].add_patch(Rectangle([-0.02, 0.025], 0.04, 0.001, edgecolor=axis_color, alpha=1, facecolor=axis_color, zorder=101, clip_on=False, angle=20, transform=transAxes))\n",
    "g.axes.flat[0].add_patch(Rectangle([-0.02, 0.05], 0.04, 0.001, edgecolor=axis_color, alpha=1, facecolor=axis_color, zorder=101, clip_on=False, angle=20, transform=transAxes))\n",
    "# And set bottom axis to 0\n",
    "yticks = g.axes.flat[0].get_yticks()\n",
    "yticks = np.concatenate(([0.03], yticks[2:]))\n",
    "yticklabels = [f'{x:0.2f}' for x in yticks]\n",
    "yticklabels[0] = '0'\n",
    "g.set(yticks=yticks)\n",
    "g.set(yticklabels=yticklabels)\n",
    "# Save\n",
    "g.savefig('images/classification_vs_response_time_session_two_loc_both.pdf')"
   ]
  },
  {
   "cell_type": "markdown",
   "metadata": {},
   "source": [
    "## Stats: LOC classification accuracy vs. response time"
   ]
  },
  {
   "cell_type": "code",
   "execution_count": 53,
   "metadata": {},
   "outputs": [
    {
     "name": "stdout",
     "output_type": "stream",
     "text": [
      "                               OLS Regression Results                              \n",
      "===================================================================================\n",
      "Dep. Variable:     classification_accuracy   R-squared:                       0.338\n",
      "Model:                                 OLS   Adj. R-squared:                  0.265\n",
      "Method:                      Least Squares   F-statistic:                     4.603\n",
      "Date:                     Mon, 12 Feb 2024   Prob (F-statistic):            0.00998\n",
      "Time:                             10:28:33   Log-Likelihood:                 50.542\n",
      "No. Observations:                       31   AIC:                            -93.08\n",
      "Df Residuals:                           27   BIC:                            -87.35\n",
      "Df Model:                                3                                         \n",
      "Covariance Type:                 nonrobust                                         \n",
      "=========================================================================================================\n",
      "                                            coef    std err          t      P>|t|      [0.025      0.975]\n",
      "---------------------------------------------------------------------------------------------------------\n",
      "Intercept                                 0.2496      0.020     12.613      0.000       0.209       0.290\n",
      "graph[T.Modular]                          0.0530      0.025      2.145      0.041       0.002       0.104\n",
      "zscore_response_time                      0.0237      0.021      1.133      0.267      -0.019       0.067\n",
      "zscore_response_time:graph[T.Modular]    -0.0059      0.026     -0.227      0.822      -0.059       0.048\n",
      "==============================================================================\n",
      "Omnibus:                        4.224   Durbin-Watson:                   2.245\n",
      "Prob(Omnibus):                  0.121   Jarque-Bera (JB):                2.747\n",
      "Skew:                           0.670   Prob(JB):                        0.253\n",
      "Kurtosis:                       3.575   Cond. No.                         6.28\n",
      "==============================================================================\n",
      "\n",
      "Notes:\n",
      "[1] Standard Errors assume that the covariance matrix of the errors is correctly specified.\n"
     ]
    }
   ],
   "source": [
    "classification_vs_response_time['zscore_response_time'] = ((classification_vs_response_time['response_time'] -\n",
    "                                                            classification_vs_response_time['response_time'].mean()) /\n",
    "                                                           classification_vs_response_time['response_time'].std())\n",
    "\n",
    "roi = 'loc-localized'\n",
    "mod = smf.ols(formula='classification_accuracy ~ zscore_response_time * graph',\n",
    "              data=(classification_vs_response_time\n",
    "                 .loc[lambda x: x.session == 'two']\n",
    "                 .loc[lambda x: x.roi == roi]\n",
    "                )\n",
    "             )\n",
    "res = mod.fit()\n",
    "print(res.summary())"
   ]
  },
  {
   "cell_type": "markdown",
   "metadata": {},
   "source": [
    "## Stats: LOC classification accuracy vs. response accuracy"
   ]
  },
  {
   "cell_type": "code",
   "execution_count": 54,
   "metadata": {},
   "outputs": [
    {
     "name": "stdout",
     "output_type": "stream",
     "text": [
      "                               OLS Regression Results                              \n",
      "===================================================================================\n",
      "Dep. Variable:     classification_accuracy   R-squared:                       0.296\n",
      "Model:                                 OLS   Adj. R-squared:                  0.218\n",
      "Method:                      Least Squares   F-statistic:                     3.789\n",
      "Date:                     Mon, 12 Feb 2024   Prob (F-statistic):             0.0217\n",
      "Time:                             10:28:33   Log-Likelihood:                 51.021\n",
      "No. Observations:                       31   AIC:                            -94.04\n",
      "Df Residuals:                           27   BIC:                            -88.31\n",
      "Df Model:                                3                                         \n",
      "Covariance Type:                 nonrobust                                         \n",
      "======================================================================================================\n",
      "                                         coef    std err          t      P>|t|      [0.025      0.975]\n",
      "------------------------------------------------------------------------------------------------------\n",
      "Intercept                              0.3806      0.157      2.419      0.023       0.058       0.703\n",
      "graph[T.Modular]                      -0.1221      0.229     -0.532      0.599      -0.593       0.349\n",
      "response_accuracy                     -0.1678      0.177     -0.947      0.352      -0.532       0.196\n",
      "response_accuracy:graph[T.Modular]     0.2036      0.258      0.788      0.437      -0.327       0.734\n",
      "==============================================================================\n",
      "Omnibus:                        3.688   Durbin-Watson:                   2.192\n",
      "Prob(Omnibus):                  0.158   Jarque-Bera (JB):                2.357\n",
      "Skew:                           0.637   Prob(JB):                        0.308\n",
      "Kurtosis:                       3.450   Cond. No.                         66.9\n",
      "==============================================================================\n",
      "\n",
      "Notes:\n",
      "[1] Standard Errors assume that the covariance matrix of the errors is correctly specified.\n"
     ]
    }
   ],
   "source": [
    "roi = 'loc-localized'\n",
    "mod = smf.ols(formula='classification_accuracy ~ response_accuracy * graph',\n",
    "              data=(classification_vs_response_accuracy\n",
    "                 .loc[lambda x: x.session == 'two']\n",
    "                 .loc[lambda x: x.roi == roi]\n",
    "                )\n",
    "             )\n",
    "res = mod.fit()\n",
    "print(res.summary())"
   ]
  },
  {
   "cell_type": "markdown",
   "metadata": {},
   "source": [
    "## ANOVA: Classification Accuracy differs between graphs"
   ]
  },
  {
   "cell_type": "markdown",
   "metadata": {},
   "source": [
    "Do we observe higher classification accuracy in participants trained on the modular graph than in participants trained on the lattice graph?\n",
    "\n",
    "We're looking at both ROI and Graph as factors"
   ]
  },
  {
   "cell_type": "markdown",
   "metadata": {},
   "source": [
    "Note this section is being run in R. It may be easier to separately export the CSV and then run the analysis in RStudio, etc, but here I'm using rpy2 to directly interface between R and python"
   ]
  },
  {
   "cell_type": "code",
   "execution_count": 55,
   "metadata": {
    "tags": []
   },
   "outputs": [
    {
     "name": "stderr",
     "output_type": "stream",
     "text": [
      "R[write to console]: \n",
      "Attaching package: ‘dplyr’\n",
      "\n",
      "\n",
      "R[write to console]: The following objects are masked from ‘package:stats’:\n",
      "\n",
      "    filter, lag\n",
      "\n",
      "\n",
      "R[write to console]: The following objects are masked from ‘package:base’:\n",
      "\n",
      "    intersect, setdiff, setequal, union\n",
      "\n",
      "\n",
      "R[write to console]: \n",
      "Attaching package: ‘rstatix’\n",
      "\n",
      "\n",
      "R[write to console]: The following object is masked from ‘package:stats’:\n",
      "\n",
      "    filter\n",
      "\n",
      "\n"
     ]
    },
    {
     "name": "stdout",
     "output_type": "stream",
     "text": [
      "[1] \"Postcentral\"\n",
      "ANOVA Table (type III tests)\n",
      "\n",
      "     Effect DFn DFd      F        p p<.05   ges\n",
      "1     graph   1  29  0.160 6.92e-01       0.004\n",
      "2       roi   2  58 21.741 9.00e-08     * 0.202\n",
      "3 graph:roi   2  58  0.952 3.92e-01       0.011\n",
      "[1] \"LOC\"\n",
      "ANOVA Table (type III tests)\n",
      "\n",
      "     Effect DFn DFd      F        p p<.05   ges\n",
      "1     graph   1  29 14.140 7.64e-04     * 0.266\n",
      "2       roi   2  58 73.267 1.34e-16     * 0.392\n",
      "3 graph:roi   2  58  1.786 1.77e-01       0.015\n"
     ]
    }
   ],
   "source": [
    "import rpy2\n",
    "import rpy2.robjects as robjects\n",
    "from rpy2.robjects.packages import importr\n",
    "\n",
    "robjects.r(\"\"\"\n",
    "get_confint <- function(model) {\n",
    "  return(get_confint_summary(summary(model)))\n",
    "}\n",
    "\n",
    "get_confint_summary <- function(summary) {\n",
    "  coefficients <- summary$coefficients\n",
    "  \n",
    "  lb <- coefficients[,c(\"Estimate\")] - 1.96*coefficients[,c(\"Std. Error\")]\n",
    "  ub <- coefficients[,c(\"Estimate\")] + 1.96*coefficients[,c(\"Std. Error\")]\n",
    "  \n",
    "  coef.start <- coefficients[,1:2]\n",
    "  coef.end <- coefficients[,3:dim(coefficients)[[2]]]\n",
    "  \n",
    "  coef.start <- cbind(coef.start, lb)\n",
    "  colnames(coef.start)[[length(colnames(coef.start))]] <- \"95% Conf. Int.\"\n",
    "  \n",
    "  coef.start <- cbind(coef.start, ub) \n",
    "  colnames(coef.start)[[length(colnames(coef.start))]] <- \"\"\n",
    "  \n",
    "  coef.start <- cbind(coef.start, coef.end)\n",
    "  \n",
    "  \n",
    "  coef.start <- as_tibble(coef.start, rownames=\"Variable\")\n",
    "  \n",
    "  coef.start <-\n",
    "    coef.start %>%\n",
    "    mutate(Sig. = if_else(`Pr(>|t|)` < 0.1, \".\", \"\")) %>%\n",
    "    mutate(Sig. = if_else(`Pr(>|t|)` < 0.05, \"*\", Sig.)) %>%\n",
    "    mutate(Sig. = if_else(`Pr(>|t|)` < 0.01, \"**\", Sig.)) %>%\n",
    "    mutate(Sig. = if_else(`Pr(>|t|)` < 0.001, \"***\", Sig.))\n",
    "  \n",
    "  colnames(coef.start)[[1]] <- \" \"\n",
    "  colnames(coef.start)[[5]] <- \" \"\n",
    "  \n",
    "  return(coef.start)\n",
    "}\n",
    "\"\"\")\n",
    "\n",
    "df = classification_vs_response_time.loc[lambda x: (x.roi.isin(['postcentral-rh', 'postcentral-lh', 'postcentral-both'])) & (x.session == 'two')]\n",
    "df.to_csv('data/classification_vs_response_time_postcentral.csv', index=False)\n",
    "df = classification_vs_response_time.loc[lambda x: (x.roi.isin(['loc-localized-rh', 'loc-localized-lh', 'loc-localized'])) & (x.session == 'two')]\n",
    "df.to_csv('data/classification_vs_response_time_loc-localized.csv', index=False)\n",
    "\n",
    "rstring=\"\"\"\n",
    "    cluster_test <- function(){\n",
    "        library(xtable)\n",
    "        library(readr)\n",
    "        library(tibble)\n",
    "        library(dplyr)\n",
    "        library(rstatix)\n",
    "        data <- read_csv('data/classification_vs_response_time_postcentral.csv', col_types='fffdfddd')\n",
    "        # Two-way mixed ANOVA test\n",
    "        res.aov <- anova_test(\n",
    "          data = data, dv = classification_accuracy, wid = subject,\n",
    "          between = graph, within = roi\n",
    "          )\n",
    "        print('Postcentral')\n",
    "        print(get_anova_table(res.aov))\n",
    "        data <- read_csv('data/classification_vs_response_time_loc-localized.csv', col_types='fffdfddd')\n",
    "        # Two-way mixed ANOVA test\n",
    "        res.aov  <- anova_test(\n",
    "          data = data, dv = classification_accuracy, wid = subject,\n",
    "          between = graph, within = roi\n",
    "          )\n",
    "        print('LOC')\n",
    "        print(get_anova_table(res.aov))\n",
    "    }\n",
    "\"\"\"\n",
    "rfunc=robjects.r(rstring)\n",
    "\n",
    "# rdata=ts(traindf.Price.values,frequency=4)\n",
    "r_df=rfunc()"
   ]
  },
  {
   "cell_type": "markdown",
   "metadata": {},
   "source": [
    "# Hippocampus"
   ]
  },
  {
   "cell_type": "code",
   "execution_count": 56,
   "metadata": {},
   "outputs": [
    {
     "name": "stdout",
     "output_type": "stream",
     "text": [
      "Minimum classification accuracy: 0.036\n",
      "Maximum classification accuracy: 0.096\n"
     ]
    }
   ],
   "source": [
    "hippocampus_classification_min = (acc_df\n",
    " .loc[lambda x: (x.roi == 'hippocampus-both')]\n",
    ").min()['Classification Accuracy']\n",
    "\n",
    "hippocampus_classification_max = (acc_df\n",
    " .loc[lambda x: (x.roi == 'hippocampus-both')]\n",
    ").max()['Classification Accuracy']\n",
    "\n",
    "print(f'Minimum classification accuracy: {hippocampus_classification_min:0.3f}')\n",
    "print(f'Maximum classification accuracy: {hippocampus_classification_max:0.3f}')"
   ]
  },
  {
   "cell_type": "code",
   "execution_count": 57,
   "metadata": {},
   "outputs": [
    {
     "data": {
      "text/plain": [
       "TtestResult(statistic=2.219822062695115, pvalue=0.04345340315846933, df=14)"
      ]
     },
     "execution_count": 57,
     "metadata": {},
     "output_type": "execute_result"
    }
   ],
   "source": [
    "ttest_1samp(acc_df[(acc_df.roi == \"hippocampus-lh\") & (acc_df.graph == \"Lattice\")][\"Classification Accuracy\"], 1/15.0)"
   ]
  },
  {
   "cell_type": "code",
   "execution_count": 58,
   "metadata": {},
   "outputs": [
    {
     "name": "stdout",
     "output_type": "stream",
     "text": [
      "T-test, loc-localized Modular\n",
      "TtestResult(statistic=0.35851767969994885, pvalue=0.7249517541004203, df=15)\n",
      "T-test, loc-localized Lattice\n",
      "TtestResult(statistic=2.219822062695115, pvalue=0.04345340315846933, df=14)\n",
      "TtestResult(statistic=1.5125891314343654, pvalue=0.14120653836784477, df=29.0)\n"
     ]
    },
    {
     "data": {
      "text/plain": [
       "<seaborn.axisgrid.FacetGrid at 0x2b29f2a90>"
      ]
     },
     "execution_count": 58,
     "metadata": {},
     "output_type": "execute_result"
    },
    {
     "data": {
      "image/png": "[encoded data removed]",
      "text/plain": [
       "<Figure size 300x300 with 1 Axes>"
      ]
     },
     "metadata": {},
     "output_type": "display_data"
    }
   ],
   "source": [
    "sns.set()\n",
    "sns.set_style(\"ticks\")\n",
    "sns.set_context(\"paper\", rc=plot_rc)\n",
    "g = sns.catplot(data=(acc_df\n",
    "                      .loc[lambda x: (x.roi == 'hippocampus-lh') | (x.roi == 'hippocampus-rh') | (x.roi == 'hippocampus-both')]\n",
    "                      .replace({'Lattice': 'Ring Lattice'})\n",
    "                      .replace({'hippocampus-lh': 'Left',\n",
    "                                'hippocampus-rh': 'Right',\n",
    "                                'hippocampus-both': 'Bilateral'})\n",
    "                      .rename(columns={'graph': 'Graph'})\n",
    "                     ),\n",
    "                x='roi',\n",
    "                y='Classification Accuracy',\n",
    "                hue='Graph',\n",
    "                order=['Left', 'Right', 'Bilateral'],\n",
    "                height=3,\n",
    "                legend_out=False,\n",
    "                palette='muted',\n",
    "                kind='box')\n",
    "# Basic Formatting\n",
    "g.set(xlabel=None)\n",
    "g.set(title=None)\n",
    "g.set(ylim=(0.00, 0.12))\n",
    "\n",
    "# Add chance line\n",
    "transAxes = g.axes.flat[0].transAxes\n",
    "baseline = 1/15.0\n",
    "baseline_axis = g.axes.flat[0].transLimits.transform((0, baseline))[1]  # Get baseline in axis coordinates\n",
    "chance_box_height = 0.12\n",
    "chance_box_width = 0.3\n",
    "chance_text_center = baseline_axis - 0.035  # vertical center of chance text\n",
    "roi_text_center = baseline_axis - 0.315  # vertical center of roi label\n",
    "text_xloc = 0.05  # X location of ROI and chance text box, in axis coordinates\n",
    "g.axes.flat[0].axhline(y=baseline, linestyle='--', color='black', label='Chance')\n",
    "g.axes.flat[0].text(text_xloc, roi_text_center, 'hippocampus Gyrus', transform=transAxes)\n",
    "# g.axes.flat[0].add_patch(Rectangle([text_xloc, baseline_axis - chance_box_height/2], chance_box_width, chance_box_height, transform=transAxes, edgecolor='Black', alpha=1, facecolor=\"white\", zorder=100))\n",
    "# g.axes.flat[0].text(text_xloc + 0.01, chance_text_center, 'Chance Level\\nClassification', zorder=101, transform=transAxes)\n",
    "\n",
    "# Add axis cut\n",
    "g.axes.flat[0].add_patch(Rectangle([-0.005, 0.035], 0.01, 0.02, edgecolor='white', alpha=1, facecolor=\"white\", zorder=100, clip_on=False, transform=transAxes))\n",
    "g.axes.flat[0].add_patch(Rectangle([-0.02, 0.025], 0.04, 0.001, edgecolor=axis_color, alpha=1, facecolor=axis_color, zorder=101, clip_on=False, angle=20, transform=transAxes))\n",
    "g.axes.flat[0].add_patch(Rectangle([-0.02, 0.05], 0.04, 0.001, edgecolor=axis_color, alpha=1, facecolor=axis_color, zorder=101, clip_on=False, angle=20, transform=transAxes))\n",
    "\n",
    "# And set bottom axis to 0\n",
    "yticks = g.axes.flat[0].get_yticks()\n",
    "yticks = np.concatenate(([g.axes.flat[0].get_ylim()[0]], yticks[1:-1]))\n",
    "yticklabels = [f'{x:0.2f}' for x in yticks]\n",
    "yticklabels[0] = '0'\n",
    "g.set(yticks=yticks)\n",
    "g.set(yticklabels=yticklabels)\n",
    "\n",
    "# Save\n",
    "g.savefig('images/classification_hippocampus_rois_boxplot.pdf')\n",
    "\n",
    "print(\"T-test, loc-localized Modular\")\n",
    "print(ttest_1samp(acc_df[(acc_df.roi == \"hippocampus-lh\") & (acc_df.graph == \"Modular\")][\"Classification Accuracy\"], 1/15.0))\n",
    "print(\"T-test, loc-localized Lattice\")\n",
    "print(ttest_1samp(acc_df[(acc_df.roi == \"hippocampus-lh\") & (acc_df.graph == \"Lattice\")][\"Classification Accuracy\"], 1/15.0))\n",
    "\n",
    "print(ttest_ind(acc_df[(acc_df.roi == \"hippocampus-lh\") & (acc_df.graph == \"Lattice\")][\"Classification Accuracy\"], acc_df[(acc_df.roi == \"hippocampus-lh\") & (acc_df.graph == \"Modular\")][\"Classification Accuracy\"]))\n",
    "\n",
    "g"
   ]
  },
  {
   "cell_type": "code",
   "execution_count": 59,
   "metadata": {},
   "outputs": [
    {
     "name": "stdout",
     "output_type": "stream",
     "text": [
      "T-test, loc-localized Modular\n",
      "TtestResult(statistic=0.35851767969994885, pvalue=0.7249517541004203, df=15)\n",
      "T-test, loc-localized Lattice\n",
      "TtestResult(statistic=2.219822062695115, pvalue=0.04345340315846933, df=14)\n",
      "TtestResult(statistic=1.5125891314343654, pvalue=0.14120653836784477, df=29.0)\n"
     ]
    }
   ],
   "source": [
    "print(\"T-test, loc-localized Modular\")\n",
    "print(ttest_1samp(acc_df[(acc_df.roi == \"hippocampus-lh\") & (acc_df.graph == \"Modular\")][\"Classification Accuracy\"], 1/15.0))\n",
    "print(\"T-test, loc-localized Lattice\")\n",
    "print(ttest_1samp(acc_df[(acc_df.roi == \"hippocampus-lh\") & (acc_df.graph == \"Lattice\")][\"Classification Accuracy\"], 1/15.0))\n",
    "\n",
    "print(ttest_ind(acc_df[(acc_df.roi == \"hippocampus-lh\") & (acc_df.graph == \"Lattice\")][\"Classification Accuracy\"], acc_df[(acc_df.roi == \"hippocampus-lh\") & (acc_df.graph == \"Modular\")][\"Classification Accuracy\"]))"
   ]
  },
  {
   "cell_type": "code",
   "execution_count": 60,
   "metadata": {},
   "outputs": [
    {
     "name": "stdout",
     "output_type": "stream",
     "text": [
      "[1] \"Hippocampus\"\n",
      "ANOVA Table (type III tests)\n",
      "\n",
      "     Effect DFn DFd     F     p p<.05   ges\n",
      "1     graph   1  29 0.213 0.648       0.003\n",
      "2       roi   2  58 1.417 0.251       0.030\n",
      "3 graph:roi   2  58 1.027 0.365       0.022\n"
     ]
    }
   ],
   "source": [
    "import rpy2\n",
    "import rpy2.robjects as robjects\n",
    "from rpy2.robjects.packages import importr\n",
    "\n",
    "robjects.r(\"\"\"\n",
    "get_confint <- function(model) {\n",
    "  return(get_confint_summary(summary(model)))\n",
    "}\n",
    "\n",
    "get_confint_summary <- function(summary) {\n",
    "  coefficients <- summary$coefficients\n",
    "  \n",
    "  lb <- coefficients[,c(\"Estimate\")] - 1.96*coefficients[,c(\"Std. Error\")]\n",
    "  ub <- coefficients[,c(\"Estimate\")] + 1.96*coefficients[,c(\"Std. Error\")]\n",
    "  \n",
    "  coef.start <- coefficients[,1:2]\n",
    "  coef.end <- coefficients[,3:dim(coefficients)[[2]]]\n",
    "  \n",
    "  coef.start <- cbind(coef.start, lb)\n",
    "  colnames(coef.start)[[length(colnames(coef.start))]] <- \"95% Conf. Int.\"\n",
    "  \n",
    "  coef.start <- cbind(coef.start, ub) \n",
    "  colnames(coef.start)[[length(colnames(coef.start))]] <- \"\"\n",
    "  \n",
    "  coef.start <- cbind(coef.start, coef.end)\n",
    "  \n",
    "  \n",
    "  coef.start <- as_tibble(coef.start, rownames=\"Variable\")\n",
    "  \n",
    "  coef.start <-\n",
    "    coef.start %>%\n",
    "    mutate(Sig. = if_else(`Pr(>|t|)` < 0.1, \".\", \"\")) %>%\n",
    "    mutate(Sig. = if_else(`Pr(>|t|)` < 0.05, \"*\", Sig.)) %>%\n",
    "    mutate(Sig. = if_else(`Pr(>|t|)` < 0.01, \"**\", Sig.)) %>%\n",
    "    mutate(Sig. = if_else(`Pr(>|t|)` < 0.001, \"***\", Sig.))\n",
    "  \n",
    "  colnames(coef.start)[[1]] <- \" \"\n",
    "  colnames(coef.start)[[5]] <- \" \"\n",
    "  \n",
    "  return(coef.start)\n",
    "}\n",
    "\"\"\")\n",
    "\n",
    "df = classification_vs_response_time.loc[lambda x: (x.roi.isin(['hippocampus-rh', 'hippocampus-lh', 'hippocampus-both'])) & (x.session == 'two')]\n",
    "df.to_csv('data/classification_vs_response_time_hippocampus.csv', index=False)\n",
    "\n",
    "rstring=\"\"\"\n",
    "    cluster_test <- function(){\n",
    "        library(xtable)\n",
    "        library(readr)\n",
    "        library(tibble)\n",
    "        library(dplyr)\n",
    "        library(rstatix)\n",
    "        data <- read_csv('data/classification_vs_response_time_hippocampus.csv', col_types='fffdfddd')\n",
    "        # Two-way mixed ANOVA test\n",
    "        res.aov <- anova_test(\n",
    "          data = data, dv = classification_accuracy, wid = subject,\n",
    "          between = graph, within = roi\n",
    "          )\n",
    "        print('Hippocampus')\n",
    "        print(get_anova_table(res.aov))\n",
    "    }\n",
    "\"\"\"\n",
    "rfunc=robjects.r(rstring)\n",
    "\n",
    "# rdata=ts(traindf.Price.values,frequency=4)\n",
    "r_df=rfunc()"
   ]
  },
  {
   "cell_type": "code",
   "execution_count": 61,
   "metadata": {},
   "outputs": [
    {
     "data": {
      "image/png": "[encoded data removed]",
      "text/plain": [
       "<Figure size 300x300 with 1 Axes>"
      ]
     },
     "metadata": {},
     "output_type": "display_data"
    }
   ],
   "source": [
    "sns.set()\n",
    "sns.set_style(\"ticks\")\n",
    "sns.set_context(\"paper\", rc=plot_rc)\n",
    "g = sns.catplot(data=(acc_df\n",
    "                      .loc[lambda x: (x.roi == 'entorhinal-lh') | (x.roi == 'entorhinal-rh') | (x.roi == 'entorhinal-both')]\n",
    "                      .replace({'Lattice': 'Ring Lattice'})\n",
    "                      .replace({'entorhinal-lh': 'Left',\n",
    "                                'entorhinal-rh': 'Right',\n",
    "                                'entorhinal-both': 'Bilateral'})\n",
    "                      .rename(columns={'graph': 'Graph'})\n",
    "                     ),\n",
    "                x='roi',\n",
    "                y='Classification Accuracy',\n",
    "                hue='Graph',\n",
    "                order=['Left', 'Right', 'Bilateral'],\n",
    "                height=3,\n",
    "                legend_out=False,\n",
    "                palette='muted',\n",
    "                kind='box')\n",
    "# Basic Formatting\n",
    "g.set(xlabel=None)\n",
    "g.set(title=None)\n",
    "g.set(ylim=(0.00, 0.14))\n",
    "\n",
    "# Add chance line\n",
    "transAxes = g.axes.flat[0].transAxes\n",
    "baseline = 1/15.0\n",
    "baseline_axis = g.axes.flat[0].transLimits.transform((0, baseline))[1]  # Get baseline in axis coordinates\n",
    "chance_box_height = 0.12\n",
    "chance_box_width = 0.3\n",
    "chance_text_center = baseline_axis - 0.035  # vertical center of chance text\n",
    "roi_text_center = baseline_axis - 0.415  # vertical center of roi label\n",
    "text_xloc = 0.05  # X location of ROI and chance text box, in axis coordinates\n",
    "g.axes.flat[0].axhline(y=baseline, linestyle='--', color='black', label='Chance')\n",
    "g.axes.flat[0].text(text_xloc, roi_text_center, 'entorhinal ctx', transform=transAxes)\n",
    "# g.axes.flat[0].add_patch(Rectangle([text_xloc, baseline_axis - chance_box_height/2], chance_box_width, chance_box_height, transform=transAxes, edgecolor='Black', alpha=1, facecolor=\"white\", zorder=100))\n",
    "# g.axes.flat[0].text(text_xloc + 0.01, chance_text_center, 'Chance Level\\nClassification', zorder=101, transform=transAxes)\n",
    "\n",
    "# Add axis cut\n",
    "g.axes.flat[0].add_patch(Rectangle([-0.005, 0.035], 0.01, 0.02, edgecolor='white', alpha=1, facecolor=\"white\", zorder=100, clip_on=False, transform=transAxes))\n",
    "g.axes.flat[0].add_patch(Rectangle([-0.02, 0.025], 0.04, 0.001, edgecolor=axis_color, alpha=1, facecolor=axis_color, zorder=101, clip_on=False, angle=20, transform=transAxes))\n",
    "g.axes.flat[0].add_patch(Rectangle([-0.02, 0.05], 0.04, 0.001, edgecolor=axis_color, alpha=1, facecolor=axis_color, zorder=101, clip_on=False, angle=20, transform=transAxes))\n",
    "\n",
    "# And set bottom axis to 0\n",
    "yticks = g.axes.flat[0].get_yticks()\n",
    "yticks = np.concatenate(([g.axes.flat[0].get_ylim()[0]], yticks[1:-1]))\n",
    "yticklabels = [f'{x:0.2f}' for x in yticks]\n",
    "yticklabels[0] = '0'\n",
    "g.set(yticks=yticks)\n",
    "g.set(yticklabels=yticklabels)\n",
    "\n",
    "# Save\n",
    "g.savefig('images/classification_entorhinal_rois_boxplot.pdf')"
   ]
  },
  {
   "cell_type": "markdown",
   "metadata": {},
   "source": [
    "# Surprisal Effect (Supplement)"
   ]
  },
  {
   "cell_type": "code",
   "execution_count": 80,
   "metadata": {
    "tags": []
   },
   "outputs": [
    {
     "name": "stdout",
     "output_type": "stream",
     "text": [
      "Linear mixed model fit by REML. t-tests use Satterthwaite's method [\n",
      "lmerModLmerTest]\n",
      "Formula: \n",
      "\"response_time ~ trial * cross_cluster + movement + shape + (1 + trial + cross_cluster | subject)\"\n",
      "   Data: data\n",
      "\n",
      "REML criterion at convergence: -8321.2\n",
      "\n",
      "Scaled residuals: \n",
      "    Min      1Q  Median      3Q     Max \n",
      "-4.8943 -0.5995 -0.0922  0.4530  9.2936 \n",
      "\n",
      "Random effects:\n",
      " Groups   Name              Variance Std.Dev. Corr     \n",
      " subject  (Intercept)       0.020394 0.14281           \n",
      "          trial             0.007495 0.08657  0.55     \n",
      "          cross_clusterTRUE 0.002558 0.05057  0.30 0.06\n",
      " Residual                   0.038512 0.19625           \n",
      "Number of obs: 20887, groups:  subject, 16\n",
      "\n",
      "Fixed effects:\n",
      "                          Estimate Std. Error         df t value Pr(>|t|)    \n",
      "(Intercept)              9.975e-01  3.647e-02  1.627e+01  27.356 4.90e-15 ***\n",
      "trial                   -8.722e-02  2.183e-02  1.504e+01  -3.995 0.001165 ** \n",
      "cross_clusterTRUE        2.418e-02  1.342e-02  1.506e+01   1.802 0.091623 .  \n",
      "movement[01000]         -4.409e-02  7.526e-03  2.080e+04  -5.858 4.75e-09 ***\n",
      "movement[00100]         -4.455e-02  7.582e-03  2.080e+04  -5.875 4.28e-09 ***\n",
      "movement[00010]          7.469e-04  7.769e-03  2.077e+04   0.096 0.923409    \n",
      "movement[00001]          1.309e-02  7.878e-03  2.077e+04   1.661 0.096633 .  \n",
      "movement[11000]          1.231e-01  7.813e-03  2.082e+04  15.757  < 2e-16 ***\n",
      "movement[01100]          7.818e-02  7.992e-03  2.080e+04   9.783  < 2e-16 ***\n",
      "movement[00110]          1.329e-01  7.684e-03  2.077e+04  17.296  < 2e-16 ***\n",
      "movement[00011]          1.765e-01  7.747e-03  2.079e+04  22.780  < 2e-16 ***\n",
      "movement[10100]          2.273e-01  7.804e-03  2.080e+04  29.128  < 2e-16 ***\n",
      "movement[01010]          1.827e-01  7.747e-03  2.078e+04  23.582  < 2e-16 ***\n",
      "movement[00101]          3.648e-01  8.175e-03  2.083e+04  44.620  < 2e-16 ***\n",
      "movement[10010]          2.012e-01  7.765e-03  2.081e+04  25.916  < 2e-16 ***\n",
      "movement[01001]          1.950e-01  7.843e-03  2.079e+04  24.860  < 2e-16 ***\n",
      "movement[10001]          1.498e-01  8.003e-03  2.081e+04  18.722  < 2e-16 ***\n",
      "shape2                  -4.392e-02  7.625e-03  2.082e+04  -5.760 8.53e-09 ***\n",
      "shape3                  -1.294e-02  7.605e-03  2.080e+04  -1.701 0.088921 .  \n",
      "shape4                  -1.066e-01  7.595e-03  2.074e+04 -14.040  < 2e-16 ***\n",
      "shape5                  -6.748e-02  7.632e-03  2.077e+04  -8.842  < 2e-16 ***\n",
      "shape6                  -7.689e-02  7.526e-03  2.082e+04 -10.217  < 2e-16 ***\n",
      "shape7                  -2.672e-02  7.663e-03  2.082e+04  -3.487 0.000489 ***\n",
      "shape8                  -2.777e-02  7.428e-03  2.081e+04  -3.739 0.000186 ***\n",
      "shape9                  -8.058e-02  7.504e-03  2.082e+04 -10.739  < 2e-16 ***\n",
      "shape10                 -1.260e-01  7.711e-03  2.072e+04 -16.343  < 2e-16 ***\n",
      "shape11                 -7.331e-02  7.738e-03  2.079e+04  -9.473  < 2e-16 ***\n",
      "shape12                 -4.659e-02  7.603e-03  2.078e+04  -6.128 9.06e-10 ***\n",
      "shape13                 -4.349e-02  7.757e-03  2.082e+04  -5.607 2.09e-08 ***\n",
      "shape14                 -2.300e-02  7.543e-03  2.082e+04  -3.049 0.002302 ** \n",
      "shape15                 -1.340e-01  7.669e-03  2.078e+04 -17.476  < 2e-16 ***\n",
      "trial:cross_clusterTRUE  8.439e-03  9.288e-03  2.082e+04   0.909 0.363590    \n",
      "---\n",
      "Signif. codes:  0 ‘***’ 0.001 ‘**’ 0.01 ‘*’ 0.05 ‘.’ 0.1 ‘ ’ 1\n"
     ]
    },
    {
     "name": "stderr",
     "output_type": "stream",
     "text": [
      "R[write to console]: \n",
      "Correlation matrix not shown by default, as p = 32 > 12.\n",
      "Use print(summary(result), correlation=TRUE)  or\n",
      "    vcov(summary(result))        if you need it\n",
      "\n",
      "\n"
     ]
    },
    {
     "name": "stdout",
     "output_type": "stream",
     "text": [
      "% latex table generated in R 4.3.2 by xtable 1.8-4 package\n",
      "% Mon Feb 12 11:23:04 2024\n",
      "\\begin{table}[ht]\n",
      "\\centering\n",
      "\\begin{tabular}{lrrrrrrrl}\n",
      "  \\hline\n",
      "  & Estimate & Std. Error & 95\\% Conf. Int. &   & df & t value & Pr($>$$|$t$|$) & Sig. \\\\ \n",
      "  \\hline\n",
      "(Intercept) & 0.998 & 0.036 & 0.926 & 1.069 & 16 & 27.36 & 4.9e-15 & *** \\\\ \n",
      "  trial & -0.087 & 0.022 & -0.130 & -0.044 & 15 & -3.99 & 0.0012 & ** \\\\ \n",
      "  cross\\_clusterTRUE & 0.024 & 0.013 & -0.002 & 0.050 & 15 & 1.80 & 0.092 & . \\\\ \n",
      "  movement[01000] & -0.044 & 0.008 & -0.059 & -0.029 & 20799 & -5.86 & 4.7e-09 & *** \\\\ \n",
      "  movement[00100] & -0.045 & 0.008 & -0.059 & -0.030 & 20801 & -5.88 & 4.3e-09 & *** \\\\ \n",
      "  movement[00010] & 0.001 & 0.008 & -0.014 & 0.016 & 20774 & 0.10 & 0.92 &  \\\\ \n",
      "  movement[00001] & 0.013 & 0.008 & -0.002 & 0.029 & 20770 & 1.66 & 0.097 & . \\\\ \n",
      "  movement[11000] & 0.123 & 0.008 & 0.108 & 0.138 & 20819 & 15.76 & 1.3e-55 & *** \\\\ \n",
      "  movement[01100] & 0.078 & 0.008 & 0.063 & 0.094 & 20801 & 9.78 & 1.5e-22 & *** \\\\ \n",
      "  movement[00110] & 0.133 & 0.008 & 0.118 & 0.148 & 20775 & 17.30 & 1.5e-66 & *** \\\\ \n",
      "  movement[00011] & 0.176 & 0.008 & 0.161 & 0.192 & 20788 & 22.78 & 1.8e-113 & *** \\\\ \n",
      "  movement[10100] & 0.227 & 0.008 & 0.212 & 0.243 & 20798 & 29.13 & 7.4e-183 & *** \\\\ \n",
      "  movement[01010] & 0.183 & 0.008 & 0.167 & 0.198 & 20779 & 23.58 & 2.3e-121 & *** \\\\ \n",
      "  movement[00101] & 0.365 & 0.008 & 0.349 & 0.381 & 20826 & 44.62 &   0 & *** \\\\ \n",
      "  movement[10010] & 0.201 & 0.008 & 0.186 & 0.216 & 20807 & 25.92 & 9.1e-146 & *** \\\\ \n",
      "  movement[01001] & 0.195 & 0.008 & 0.180 & 0.210 & 20794 & 24.86 & 1.9e-134 & *** \\\\ \n",
      "  movement[10001] & 0.150 & 0.008 & 0.134 & 0.166 & 20805 & 18.72 & 1.4e-77 & *** \\\\ \n",
      "  shape2 & -0.044 & 0.008 & -0.059 & -0.029 & 20816 & -5.76 & 8.5e-09 & *** \\\\ \n",
      "  shape3 & -0.013 & 0.008 & -0.028 & 0.002 & 20804 & -1.70 & 0.089 & . \\\\ \n",
      "  shape4 & -0.107 & 0.008 & -0.122 & -0.092 & 20735 & -14.04 & 1.4e-44 & *** \\\\ \n",
      "  shape5 & -0.067 & 0.008 & -0.082 & -0.053 & 20766 & -8.84 & 1e-18 & *** \\\\ \n",
      "  shape6 & -0.077 & 0.008 & -0.092 & -0.062 & 20819 & -10.22 & 1.9e-24 & *** \\\\ \n",
      "  shape7 & -0.027 & 0.008 & -0.042 & -0.012 & 20825 & -3.49 & 0.00049 & *** \\\\ \n",
      "  shape8 & -0.028 & 0.007 & -0.042 & -0.013 & 20811 & -3.74 & 0.00019 & *** \\\\ \n",
      "  shape9 & -0.081 & 0.008 & -0.095 & -0.066 & 20822 & -10.74 & 7.8e-27 & *** \\\\ \n",
      "  shape10 & -0.126 & 0.008 & -0.141 & -0.111 & 20722 & -16.34 & 1.2e-59 & *** \\\\ \n",
      "  shape11 & -0.073 & 0.008 & -0.088 & -0.058 & 20790 & -9.47 & 3e-21 & *** \\\\ \n",
      "  shape12 & -0.047 & 0.008 & -0.061 & -0.032 & 20782 & -6.13 & 9.1e-10 & *** \\\\ \n",
      "  shape13 & -0.043 & 0.008 & -0.059 & -0.028 & 20818 & -5.61 & 2.1e-08 & *** \\\\ \n",
      "  shape14 & -0.023 & 0.008 & -0.038 & -0.008 & 20821 & -3.05 & 0.0023 & ** \\\\ \n",
      "  shape15 & -0.134 & 0.008 & -0.149 & -0.119 & 20778 & -17.48 & 6.7e-68 & *** \\\\ \n",
      "  trial:cross\\_clusterTRUE & 0.008 & 0.009 & -0.010 & 0.027 & 20819 & 0.91 & 0.36 &  \\\\ \n",
      "   \\hline\n",
      "\\end{tabular}\n",
      "\\end{table}\n"
     ]
    }
   ],
   "source": [
    "import rpy2\n",
    "import rpy2.robjects as robjects\n",
    "from rpy2.robjects.packages import importr\n",
    "\n",
    "df = session_one[session_one.valid \n",
    "                 & (session_one.trial_consecutive > 30) \n",
    "                 & (session_one.graph == 'Modular')\n",
    "                ].copy()\n",
    "df['z_trial_consecutive'] = (df['trial_consecutive'] - df['trial_consecutive'].mean()) / (df['trial_consecutive'].std())\n",
    "df['log_trial_consecutive'] = np.log(df['trial_consecutive'] + 1)\n",
    "df['z_log_trial_consecutive'] = (df['log_trial_consecutive'] - df['log_trial_consecutive'].mean()) / (2 * df['log_trial_consecutive'].std())\n",
    "df['is_lattice'] = df['graph'] == 'Lattice'\n",
    "df['trial'] = df['z_log_trial_consecutive']\n",
    "df['shape'] = df['shape'].astype(int)\n",
    "df[['subject', 'movement', 'shape', 'cross_cluster', 'trial', 'response_time', 'is_lattice']].to_csv('data/session_one.csv', index=False)\n",
    "\n",
    "robjects.r(\"\"\"\n",
    "get_confint <- function(model) {\n",
    "  return(get_confint_summary(summary(model)))\n",
    "}\n",
    "\n",
    "get_confint_summary <- function(summary) {\n",
    "  coefficients <- summary$coefficients\n",
    "  \n",
    "  lb <- coefficients[,c(\"Estimate\")] - 1.96*coefficients[,c(\"Std. Error\")]\n",
    "  ub <- coefficients[,c(\"Estimate\")] + 1.96*coefficients[,c(\"Std. Error\")]\n",
    "  \n",
    "  coef.start <- coefficients[,1:2]\n",
    "  coef.end <- coefficients[,3:dim(coefficients)[[2]]]\n",
    "  \n",
    "  coef.start <- cbind(coef.start, lb)\n",
    "  colnames(coef.start)[[length(colnames(coef.start))]] <- \"95% Conf. Int.\"\n",
    "  \n",
    "  coef.start <- cbind(coef.start, ub) \n",
    "  colnames(coef.start)[[length(colnames(coef.start))]] <- \"\"\n",
    "  \n",
    "  coef.start <- cbind(coef.start, coef.end)\n",
    "  \n",
    "  \n",
    "  coef.start <- as_tibble(coef.start, rownames=\"Variable\")\n",
    "  \n",
    "  coef.start <-\n",
    "    coef.start %>%\n",
    "    mutate(Sig. = if_else(`Pr(>|t|)` < 0.1, \".\", \"\")) %>%\n",
    "    mutate(Sig. = if_else(`Pr(>|t|)` < 0.05, \"*\", Sig.)) %>%\n",
    "    mutate(Sig. = if_else(`Pr(>|t|)` < 0.01, \"**\", Sig.)) %>%\n",
    "    mutate(Sig. = if_else(`Pr(>|t|)` < 0.001, \"***\", Sig.))\n",
    "  \n",
    "  colnames(coef.start)[[1]] <- \" \"\n",
    "  colnames(coef.start)[[5]] <- \" \"\n",
    "  \n",
    "  return(coef.start)\n",
    "}\n",
    "\"\"\")\n",
    "\n",
    "rstring=\"\"\"\n",
    "    cluster_test <- function(){\n",
    "        library(lmerTest)\n",
    "        library(xtable)\n",
    "        library(readr)\n",
    "        library(tibble)\n",
    "        library(dplyr)\n",
    "        data <- read_csv('data/session_one.csv', col_types='ffflddl')\n",
    "        data$shape <- factor(data$shape, levels=c(\"1\", \"2\", \"3\", \"4\", \"5\", \"6\", \"7\", \"8\", \"9\", \"10\", \"11\", \"12\", \"13\", \"14\", \"15\"))\n",
    "        data$movement <- factor(data$movement, levels=c(\"[10000]\", \"[01000]\", \"[00100]\", \"[00010]\", \"[00001]\", \"[11000]\", \"[01100]\", \"[00110]\", \"[00011]\", \"[10100]\", \"[01010]\", \"[00101]\", \"[10010]\", \"[01001]\", \"[10001]\"))\n",
    "        result <- lmer('response_time ~ trial * cross_cluster + movement + shape + (1 + trial + cross_cluster | subject)', data=data, REML=TRUE)\n",
    "        print(summary(result))\n",
    "        print(xtable(get_confint(result), \n",
    "             digits=c(2,2,3,3,3,3,0,2,2,2), \n",
    "             display=c(\"s\",\"f\",\"f\",\"f\",\"f\",\"f\",\"f\",\"f\",\"g\",\"s\")),\n",
    "      include.rownames=FALSE)\n",
    "    }\n",
    "\"\"\"\n",
    "rfunc=robjects.r(rstring)\n",
    "\n",
    "# rdata=ts(traindf.Price.values,frequency=4)\n",
    "r_df=rfunc()"
   ]
  },
  {
   "cell_type": "markdown",
   "metadata": {},
   "source": [
    "## Surprisal effect including incorrect trials"
   ]
  },
  {
   "cell_type": "code",
   "execution_count": 63,
   "metadata": {
    "tags": []
   },
   "outputs": [
    {
     "name": "stdout",
     "output_type": "stream",
     "text": [
      "Linear mixed model fit by REML. t-tests use Satterthwaite's method [\n",
      "lmerModLmerTest]\n",
      "Formula: \n",
      "\"response_time ~ trial * cross_cluster + movement + shape + (1 + trial + cross_cluster | subject)\"\n",
      "   Data: data\n",
      "\n",
      "REML criterion at convergence: 13863\n",
      "\n",
      "Scaled residuals: \n",
      "    Min      1Q  Median      3Q     Max \n",
      "-3.0934 -0.5126 -0.1406  0.2547 11.4712 \n",
      "\n",
      "Random effects:\n",
      " Groups   Name              Variance Std.Dev. Corr     \n",
      " subject  (Intercept)       0.024470 0.15643           \n",
      "          trial             0.007043 0.08392  0.50     \n",
      "          cross_clusterTRUE 0.005606 0.07488  0.43 0.32\n",
      " Residual                   0.104507 0.32328           \n",
      "Number of obs: 23282, groups:  subject, 16\n",
      "\n",
      "Fixed effects:\n",
      "                          Estimate Std. Error         df t value Pr(>|t|)    \n",
      "(Intercept)              1.015e+00  4.080e-02  1.766e+01  24.880 3.40e-15 ***\n",
      "trial                   -9.256e-02  2.145e-02  1.512e+01  -4.315 0.000602 ***\n",
      "cross_clusterTRUE        4.300e-02  1.998e-02  1.500e+01   2.153 0.048026 *  \n",
      "movement[01000]         -5.316e-02  1.189e-02  2.315e+04  -4.470 7.84e-06 ***\n",
      "movement[00100]         -4.533e-02  1.199e-02  2.316e+04  -3.781 0.000156 ***\n",
      "movement[00010]         -9.215e-03  1.224e-02  2.313e+04  -0.753 0.451590    \n",
      "movement[00001]         -7.228e-03  1.244e-02  2.310e+04  -0.581 0.561372    \n",
      "movement[11000]          1.475e-01  1.219e-02  2.320e+04  12.100  < 2e-16 ***\n",
      "movement[01100]          9.970e-02  1.252e-02  2.316e+04   7.965 1.73e-15 ***\n",
      "movement[00110]          1.603e-01  1.202e-02  2.313e+04  13.333  < 2e-16 ***\n",
      "movement[00011]          2.517e-01  1.199e-02  2.315e+04  20.989  < 2e-16 ***\n",
      "movement[10100]          2.803e-01  1.214e-02  2.316e+04  23.093  < 2e-16 ***\n",
      "movement[01010]          2.206e-01  1.210e-02  2.313e+04  18.240  < 2e-16 ***\n",
      "movement[00101]          4.512e-01  1.263e-02  2.321e+04  35.728  < 2e-16 ***\n",
      "movement[10010]          2.290e-01  1.219e-02  2.317e+04  18.780  < 2e-16 ***\n",
      "movement[01001]          2.287e-01  1.224e-02  2.314e+04  18.682  < 2e-16 ***\n",
      "movement[10001]          1.795e-01  1.247e-02  2.317e+04  14.386  < 2e-16 ***\n",
      "shape2                  -4.720e-02  1.188e-02  2.319e+04  -3.972 7.16e-05 ***\n",
      "shape3                  -2.972e-02  1.187e-02  2.318e+04  -2.504 0.012297 *  \n",
      "shape4                  -1.267e-01  1.188e-02  2.303e+04 -10.666  < 2e-16 ***\n",
      "shape5                  -6.951e-02  1.193e-02  2.309e+04  -5.826 5.76e-09 ***\n",
      "shape6                  -7.615e-02  1.173e-02  2.320e+04  -6.490 8.78e-11 ***\n",
      "shape7                  -2.575e-02  1.192e-02  2.322e+04  -2.160 0.030752 *  \n",
      "shape8                  -2.712e-02  1.164e-02  2.319e+04  -2.330 0.019801 *  \n",
      "shape9                  -7.122e-02  1.167e-02  2.321e+04  -6.101 1.07e-09 ***\n",
      "shape10                 -1.340e-01  1.209e-02  2.304e+04 -11.083  < 2e-16 ***\n",
      "shape11                 -7.462e-02  1.202e-02  2.312e+04  -6.209 5.44e-10 ***\n",
      "shape12                 -5.839e-02  1.184e-02  2.311e+04  -4.931 8.26e-07 ***\n",
      "shape13                 -3.307e-02  1.208e-02  2.319e+04  -2.738 0.006184 ** \n",
      "shape14                 -2.861e-02  1.179e-02  2.321e+04  -2.427 0.015243 *  \n",
      "shape15                 -1.032e-01  1.187e-02  2.311e+04  -8.697  < 2e-16 ***\n",
      "trial:cross_clusterTRUE -7.993e-03  1.427e-02  2.322e+04  -0.560 0.575365    \n",
      "---\n",
      "Signif. codes:  0 ‘***’ 0.001 ‘**’ 0.01 ‘*’ 0.05 ‘.’ 0.1 ‘ ’ 1\n"
     ]
    },
    {
     "name": "stderr",
     "output_type": "stream",
     "text": [
      "R[write to console]: \n",
      "Correlation matrix not shown by default, as p = 32 > 12.\n",
      "Use print(summary(result), correlation=TRUE)  or\n",
      "    vcov(summary(result))        if you need it\n",
      "\n",
      "\n"
     ]
    },
    {
     "name": "stdout",
     "output_type": "stream",
     "text": [
      "% latex table generated in R 4.3.2 by xtable 1.8-4 package\n",
      "% Mon Feb 12 10:28:46 2024\n",
      "\\begin{table}[ht]\n",
      "\\centering\n",
      "\\begin{tabular}{lrrrrrrrl}\n",
      "  \\hline\n",
      "  & Estimate & Std. Error & 95\\% Conf. Int. &   & df & t value & Pr($>$$|$t$|$) & Sig. \\\\ \n",
      "  \\hline\n",
      "(Intercept) & 1.015 & 0.041 & 0.935 & 1.095 & 18 & 24.88 & 3.4e-15 & *** \\\\ \n",
      "  trial & -0.093 & 0.021 & -0.135 & -0.051 & 15 & -4.31 & 0.0006 & *** \\\\ \n",
      "  cross\\_clusterTRUE & 0.043 & 0.020 & 0.004 & 0.082 & 15 & 2.15 & 0.048 & * \\\\ \n",
      "  movement[01000] & -0.053 & 0.012 & -0.076 & -0.030 & 23148 & -4.47 & 7.8e-06 & *** \\\\ \n",
      "  movement[00100] & -0.045 & 0.012 & -0.069 & -0.022 & 23161 & -3.78 & 0.00016 & *** \\\\ \n",
      "  movement[00010] & -0.009 & 0.012 & -0.033 & 0.015 & 23127 & -0.75 & 0.45 &  \\\\ \n",
      "  movement[00001] & -0.007 & 0.012 & -0.032 & 0.017 & 23104 & -0.58 & 0.56 &  \\\\ \n",
      "  movement[11000] & 0.147 & 0.012 & 0.124 & 0.171 & 23202 & 12.10 & 1.3e-33 & *** \\\\ \n",
      "  movement[01100] & 0.100 & 0.013 & 0.075 & 0.124 & 23165 & 7.96 & 1.7e-15 & *** \\\\ \n",
      "  movement[00110] & 0.160 & 0.012 & 0.137 & 0.184 & 23131 & 13.33 & 2.1e-40 & *** \\\\ \n",
      "  movement[00011] & 0.252 & 0.012 & 0.228 & 0.275 & 23155 & 20.99 & 6.6e-97 & *** \\\\ \n",
      "  movement[10100] & 0.280 & 0.012 & 0.256 & 0.304 & 23162 & 23.09 & 1.1e-116 & *** \\\\ \n",
      "  movement[01010] & 0.221 & 0.012 & 0.197 & 0.244 & 23128 & 18.24 & 8.2e-74 & *** \\\\ \n",
      "  movement[00101] & 0.451 & 0.013 & 0.426 & 0.476 & 23210 & 35.73 & 3.3e-272 & *** \\\\ \n",
      "  movement[10010] & 0.229 & 0.012 & 0.205 & 0.253 & 23170 & 18.78 & 4.2e-78 & *** \\\\ \n",
      "  movement[01001] & 0.229 & 0.012 & 0.205 & 0.253 & 23138 & 18.68 & 2.6e-77 & *** \\\\ \n",
      "  movement[10001] & 0.179 & 0.012 & 0.155 & 0.204 & 23169 & 14.39 & 1e-46 & *** \\\\ \n",
      "  shape2 & -0.047 & 0.012 & -0.070 & -0.024 & 23189 & -3.97 & 7.2e-05 & *** \\\\ \n",
      "  shape3 & -0.030 & 0.012 & -0.053 & -0.006 & 23176 & -2.50 & 0.012 & * \\\\ \n",
      "  shape4 & -0.127 & 0.012 & -0.150 & -0.103 & 23026 & -10.67 & 1.7e-26 & *** \\\\ \n",
      "  shape5 & -0.070 & 0.012 & -0.093 & -0.046 & 23090 & -5.83 & 5.8e-09 & *** \\\\ \n",
      "  shape6 & -0.076 & 0.012 & -0.099 & -0.053 & 23205 & -6.49 & 8.8e-11 & *** \\\\ \n",
      "  shape7 & -0.026 & 0.012 & -0.049 & -0.002 & 23219 & -2.16 & 0.031 & * \\\\ \n",
      "  shape8 & -0.027 & 0.012 & -0.050 & -0.004 & 23188 & -2.33 & 0.02 & * \\\\ \n",
      "  shape9 & -0.071 & 0.012 & -0.094 & -0.048 & 23207 & -6.10 & 1.1e-09 & *** \\\\ \n",
      "  shape10 & -0.134 & 0.012 & -0.158 & -0.110 & 23037 & -11.08 & 1.8e-28 & *** \\\\ \n",
      "  shape11 & -0.075 & 0.012 & -0.098 & -0.051 & 23122 & -6.21 & 5.4e-10 & *** \\\\ \n",
      "  shape12 & -0.058 & 0.012 & -0.082 & -0.035 & 23114 & -4.93 & 8.3e-07 & *** \\\\ \n",
      "  shape13 & -0.033 & 0.012 & -0.057 & -0.009 & 23193 & -2.74 & 0.0062 & ** \\\\ \n",
      "  shape14 & -0.029 & 0.012 & -0.052 & -0.006 & 23210 & -2.43 & 0.015 & * \\\\ \n",
      "  shape15 & -0.103 & 0.012 & -0.126 & -0.080 & 23110 & -8.70 & 3.6e-18 & *** \\\\ \n",
      "  trial:cross\\_clusterTRUE & -0.008 & 0.014 & -0.036 & 0.020 & 23219 & -0.56 & 0.58 &  \\\\ \n",
      "   \\hline\n",
      "\\end{tabular}\n",
      "\\end{table}\n"
     ]
    }
   ],
   "source": [
    "import rpy2\n",
    "import rpy2.robjects as robjects\n",
    "from rpy2.robjects.packages import importr\n",
    "\n",
    "df = session_one[session_one.rt_only_valid \n",
    "                 & (session_one.trial_consecutive > 30) \n",
    "                 & (session_one.graph == 'Modular')\n",
    "                ].copy()\n",
    "df['z_trial_consecutive'] = (df['trial_consecutive'] - df['trial_consecutive'].mean()) / (df['trial_consecutive'].std())\n",
    "df['log_trial_consecutive'] = np.log(df['trial_consecutive'] + 1)\n",
    "df['z_log_trial_consecutive'] = (df['log_trial_consecutive'] - df['log_trial_consecutive'].mean()) / (2 * df['log_trial_consecutive'].std())\n",
    "df['is_lattice'] = df['graph'] == 'Lattice'\n",
    "df['trial'] = df['z_log_trial_consecutive']\n",
    "df['shape'] = df['shape'].astype(int)\n",
    "df[['subject', 'movement', 'shape', 'cross_cluster', 'trial', 'response_time', 'is_lattice']].to_csv('data/session_one_inc_incorrect.csv', index=False)\n",
    "\n",
    "robjects.r(\"\"\"\n",
    "get_confint <- function(model) {\n",
    "  return(get_confint_summary(summary(model)))\n",
    "}\n",
    "\n",
    "get_confint_summary <- function(summary) {\n",
    "  coefficients <- summary$coefficients\n",
    "  \n",
    "  lb <- coefficients[,c(\"Estimate\")] - 1.96*coefficients[,c(\"Std. Error\")]\n",
    "  ub <- coefficients[,c(\"Estimate\")] + 1.96*coefficients[,c(\"Std. Error\")]\n",
    "  \n",
    "  coef.start <- coefficients[,1:2]\n",
    "  coef.end <- coefficients[,3:dim(coefficients)[[2]]]\n",
    "  \n",
    "  coef.start <- cbind(coef.start, lb)\n",
    "  colnames(coef.start)[[length(colnames(coef.start))]] <- \"95% Conf. Int.\"\n",
    "  \n",
    "  coef.start <- cbind(coef.start, ub) \n",
    "  colnames(coef.start)[[length(colnames(coef.start))]] <- \"\"\n",
    "  \n",
    "  coef.start <- cbind(coef.start, coef.end)\n",
    "  \n",
    "  \n",
    "  coef.start <- as_tibble(coef.start, rownames=\"Variable\")\n",
    "  \n",
    "  coef.start <-\n",
    "    coef.start %>%\n",
    "    mutate(Sig. = if_else(`Pr(>|t|)` < 0.1, \".\", \"\")) %>%\n",
    "    mutate(Sig. = if_else(`Pr(>|t|)` < 0.05, \"*\", Sig.)) %>%\n",
    "    mutate(Sig. = if_else(`Pr(>|t|)` < 0.01, \"**\", Sig.)) %>%\n",
    "    mutate(Sig. = if_else(`Pr(>|t|)` < 0.001, \"***\", Sig.))\n",
    "  \n",
    "  colnames(coef.start)[[1]] <- \" \"\n",
    "  colnames(coef.start)[[5]] <- \" \"\n",
    "  \n",
    "  return(coef.start)\n",
    "}\n",
    "\"\"\")\n",
    "\n",
    "rstring=\"\"\"\n",
    "    cluster_test <- function(){\n",
    "        library(lmerTest)\n",
    "        library(xtable)\n",
    "        library(readr)\n",
    "        library(tibble)\n",
    "        library(dplyr)\n",
    "        data <- read_csv('data/session_one_inc_incorrect.csv', col_types='ffflddl')\n",
    "        data$shape <- factor(data$shape, levels=c(\"1\", \"2\", \"3\", \"4\", \"5\", \"6\", \"7\", \"8\", \"9\", \"10\", \"11\", \"12\", \"13\", \"14\", \"15\"))\n",
    "        data$movement <- factor(data$movement, levels=c(\"[10000]\", \"[01000]\", \"[00100]\", \"[00010]\", \"[00001]\", \"[11000]\", \"[01100]\", \"[00110]\", \"[00011]\", \"[10100]\", \"[01010]\", \"[00101]\", \"[10010]\", \"[01001]\", \"[10001]\"))\n",
    "        result <- lmer('response_time ~ trial * cross_cluster + movement + shape + (1 + trial + cross_cluster | subject)', data=data, REML=TRUE)\n",
    "        print(summary(result))\n",
    "        print(xtable(get_confint(result), \n",
    "             digits=c(2,2,3,3,3,3,0,2,2,2), \n",
    "             display=c(\"s\",\"f\",\"f\",\"f\",\"f\",\"f\",\"f\",\"f\",\"g\",\"s\")),\n",
    "      include.rownames=FALSE)\n",
    "    }\n",
    "\"\"\"\n",
    "rfunc=robjects.r(rstring)\n",
    "\n",
    "# rdata=ts(traindf.Price.values,frequency=4)\n",
    "r_df=rfunc()"
   ]
  },
  {
   "cell_type": "markdown",
   "metadata": {},
   "source": [
    "# Check for Graph Behavioral Differences"
   ]
  },
  {
   "cell_type": "code",
   "execution_count": 81,
   "metadata": {},
   "outputs": [
    {
     "name": "stdout",
     "output_type": "stream",
     "text": [
      "Linear mixed model fit by REML. t-tests use Satterthwaite's method [\n",
      "lmerModLmerTest]\n",
      "Formula: \n",
      "\"response_time ~ trial * is_lattice + movement + shape + (1 + trial + is_lattice | subject)\"\n",
      "   Data: data\n",
      "\n",
      "REML criterion at convergence: -10258.4\n",
      "\n",
      "Scaled residuals: \n",
      "    Min      1Q  Median      3Q     Max \n",
      "-4.4889 -0.5767 -0.0851  0.4348  9.8679 \n",
      "\n",
      "Random effects:\n",
      " Groups   Name           Variance Std.Dev. Corr       \n",
      " subject  (Intercept)    0.021801 0.14765             \n",
      "          trial          0.008622 0.09286   0.57      \n",
      "          is_latticeTRUE 0.066354 0.25759  -0.55 -0.91\n",
      " Residual                0.044714 0.21146             \n",
      "Number of obs: 40140, groups:  subject, 31\n",
      "\n",
      "Fixed effects:\n",
      "                       Estimate Std. Error         df t value Pr(>|t|)    \n",
      "(Intercept)           9.630e-01  3.736e-02  1.540e+01  25.776 4.35e-14 ***\n",
      "trial                -8.652e-02  2.340e-02  2.899e+01  -3.698 0.000903 ***\n",
      "is_latticeTRUE        3.682e-02  6.658e-02  2.726e+01   0.553 0.584745    \n",
      "movement[01000]      -2.538e-02  5.739e-03  4.005e+04  -4.423 9.75e-06 ***\n",
      "movement[00100]      -2.158e-02  5.747e-03  4.005e+04  -3.756 0.000173 ***\n",
      "movement[00010]       1.399e-02  5.791e-03  4.005e+04   2.416 0.015713 *  \n",
      "movement[00001]       5.146e-04  5.909e-03  4.005e+04   0.087 0.930604    \n",
      "movement[11000]       1.321e-01  5.951e-03  4.005e+04  22.193  < 2e-16 ***\n",
      "movement[01100]       9.795e-02  5.906e-03  4.005e+04  16.584  < 2e-16 ***\n",
      "movement[00110]       1.417e-01  5.819e-03  4.005e+04  24.358  < 2e-16 ***\n",
      "movement[00011]       1.857e-01  5.940e-03  4.005e+04  31.266  < 2e-16 ***\n",
      "movement[10100]       2.532e-01  5.903e-03  4.005e+04  42.893  < 2e-16 ***\n",
      "movement[01010]       2.238e-01  5.898e-03  4.005e+04  37.939  < 2e-16 ***\n",
      "movement[00101]       3.896e-01  6.116e-03  4.005e+04  63.705  < 2e-16 ***\n",
      "movement[10010]       2.198e-01  5.875e-03  4.005e+04  37.416  < 2e-16 ***\n",
      "movement[01001]       2.097e-01  5.962e-03  4.005e+04  35.178  < 2e-16 ***\n",
      "movement[10001]       1.445e-01  5.963e-03  4.005e+04  24.227  < 2e-16 ***\n",
      "shape2               -1.862e-02  5.790e-03  4.005e+04  -3.215 0.001304 ** \n",
      "shape3               -3.336e-03  5.823e-03  4.005e+04  -0.573 0.566689    \n",
      "shape4               -9.635e-02  5.840e-03  4.005e+04 -16.498  < 2e-16 ***\n",
      "shape5               -3.608e-02  5.817e-03  4.005e+04  -6.203 5.59e-10 ***\n",
      "shape6               -4.921e-02  5.792e-03  4.005e+04  -8.496  < 2e-16 ***\n",
      "shape7               -1.045e-02  5.818e-03  4.005e+04  -1.796 0.072521 .  \n",
      "shape8               -1.677e-02  5.766e-03  4.005e+04  -2.907 0.003646 ** \n",
      "shape9               -6.239e-02  5.788e-03  4.005e+04 -10.781  < 2e-16 ***\n",
      "shape10              -7.512e-02  5.777e-03  4.005e+04 -13.002  < 2e-16 ***\n",
      "shape11              -3.862e-02  5.877e-03  4.005e+04  -6.573 5.01e-11 ***\n",
      "shape12              -1.694e-02  5.827e-03  4.005e+04  -2.907 0.003649 ** \n",
      "shape13              -1.530e-02  5.906e-03  4.005e+04  -2.590 0.009602 ** \n",
      "shape14              -1.280e-02  5.799e-03  4.005e+04  -2.207 0.027347 *  \n",
      "shape15              -9.334e-02  5.813e-03  4.005e+04 -16.056  < 2e-16 ***\n",
      "trial:is_latticeTRUE -4.626e-02  3.364e-02  2.899e+01  -1.375 0.179582    \n",
      "---\n",
      "Signif. codes:  0 ‘***’ 0.001 ‘**’ 0.01 ‘*’ 0.05 ‘.’ 0.1 ‘ ’ 1\n"
     ]
    },
    {
     "name": "stderr",
     "output_type": "stream",
     "text": [
      "R[write to console]: \n",
      "Correlation matrix not shown by default, as p = 32 > 12.\n",
      "Use print(summary(result), correlation=TRUE)  or\n",
      "    vcov(summary(result))        if you need it\n",
      "\n",
      "\n"
     ]
    },
    {
     "name": "stdout",
     "output_type": "stream",
     "text": [
      "optimizer (nloptwrap) convergence code: 0 (OK)\n",
      "unable to evaluate scaled gradient\n",
      "Model failed to converge: degenerate  Hessian with 1 negative eigenvalues\n",
      "\n",
      "% latex table generated in R 4.3.2 by xtable 1.8-4 package\n",
      "% Mon Feb 12 11:23:26 2024\n",
      "\\begin{table}[ht]\n",
      "\\centering\n",
      "\\begin{tabular}{lrrrrrrrl}\n",
      "  \\hline\n",
      "  & Estimate & Std. Error & 95\\% Conf. Int. &   & df & t value & Pr($>$$|$t$|$) & Sig. \\\\ \n",
      "  \\hline\n",
      "(Intercept) & 0.963 & 0.037 & 0.890 & 1.036 & 15 & 25.78 & 4.3e-14 & *** \\\\ \n",
      "  trial & -0.087 & 0.023 & -0.132 & -0.041 & 29 & -3.70 & 0.0009 & *** \\\\ \n",
      "  is\\_latticeTRUE & 0.037 & 0.067 & -0.094 & 0.167 & 27 & 0.55 & 0.58 &  \\\\ \n",
      "  movement[01000] & -0.025 & 0.006 & -0.037 & -0.014 & 40053 & -4.42 & 9.8e-06 & *** \\\\ \n",
      "  movement[00100] & -0.022 & 0.006 & -0.033 & -0.010 & 40052 & -3.76 & 0.00017 & *** \\\\ \n",
      "  movement[00010] & 0.014 & 0.006 & 0.003 & 0.025 & 40053 & 2.42 & 0.016 & * \\\\ \n",
      "  movement[00001] & 0.001 & 0.006 & -0.011 & 0.012 & 40053 & 0.09 & 0.93 &  \\\\ \n",
      "  movement[11000] & 0.132 & 0.006 & 0.120 & 0.144 & 40053 & 22.19 & 1.8e-108 & *** \\\\ \n",
      "  movement[01100] & 0.098 & 0.006 & 0.086 & 0.110 & 40054 & 16.58 & 1.5e-61 & *** \\\\ \n",
      "  movement[00110] & 0.142 & 0.006 & 0.130 & 0.153 & 40054 & 24.36 & 4.2e-130 & *** \\\\ \n",
      "  movement[00011] & 0.186 & 0.006 & 0.174 & 0.197 & 40052 & 31.27 & 4.8e-212 & *** \\\\ \n",
      "  movement[10100] & 0.253 & 0.006 & 0.242 & 0.265 & 40052 & 42.89 &   0 & *** \\\\ \n",
      "  movement[01010] & 0.224 & 0.006 & 0.212 & 0.235 & 40053 & 37.94 & 1.8e-309 & *** \\\\ \n",
      "  movement[00101] & 0.390 & 0.006 & 0.378 & 0.402 & 40054 & 63.71 &   0 & *** \\\\ \n",
      "  movement[10010] & 0.220 & 0.006 & 0.208 & 0.231 & 40053 & 37.42 & 3.3e-301 & *** \\\\ \n",
      "  movement[01001] & 0.210 & 0.006 & 0.198 & 0.221 & 40053 & 35.18 & 5.1e-267 & *** \\\\ \n",
      "  movement[10001] & 0.144 & 0.006 & 0.133 & 0.156 & 40053 & 24.23 & 9.7e-129 & *** \\\\ \n",
      "  shape2 & -0.019 & 0.006 & -0.030 & -0.007 & 40053 & -3.22 & 0.0013 & ** \\\\ \n",
      "  shape3 & -0.003 & 0.006 & -0.015 & 0.008 & 40053 & -0.57 & 0.57 &  \\\\ \n",
      "  shape4 & -0.096 & 0.006 & -0.108 & -0.085 & 40053 & -16.50 & 6e-61 & *** \\\\ \n",
      "  shape5 & -0.036 & 0.006 & -0.047 & -0.025 & 40053 & -6.20 & 5.6e-10 & *** \\\\ \n",
      "  shape6 & -0.049 & 0.006 & -0.061 & -0.038 & 40053 & -8.50 & 2e-17 & *** \\\\ \n",
      "  shape7 & -0.010 & 0.006 & -0.022 & 0.001 & 40053 & -1.80 & 0.073 & . \\\\ \n",
      "  shape8 & -0.017 & 0.006 & -0.028 & -0.005 & 40052 & -2.91 & 0.0036 & ** \\\\ \n",
      "  shape9 & -0.062 & 0.006 & -0.074 & -0.051 & 40053 & -10.78 & 4.6e-27 & *** \\\\ \n",
      "  shape10 & -0.075 & 0.006 & -0.086 & -0.064 & 40053 & -13.00 & 1.4e-38 & *** \\\\ \n",
      "  shape11 & -0.039 & 0.006 & -0.050 & -0.027 & 40053 & -6.57 & 5e-11 & *** \\\\ \n",
      "  shape12 & -0.017 & 0.006 & -0.028 & -0.006 & 40053 & -2.91 & 0.0036 & ** \\\\ \n",
      "  shape13 & -0.015 & 0.006 & -0.027 & -0.004 & 40053 & -2.59 & 0.0096 & ** \\\\ \n",
      "  shape14 & -0.013 & 0.006 & -0.024 & -0.001 & 40053 & -2.21 & 0.027 & * \\\\ \n",
      "  shape15 & -0.093 & 0.006 & -0.105 & -0.082 & 40053 & -16.06 & 7.8e-58 & *** \\\\ \n",
      "  trial:is\\_latticeTRUE & -0.046 & 0.034 & -0.112 & 0.020 & 29 & -1.38 & 0.18 &  \\\\ \n",
      "   \\hline\n",
      "\\end{tabular}\n",
      "\\end{table}\n"
     ]
    }
   ],
   "source": [
    "import rpy2\n",
    "import rpy2.robjects as robjects\n",
    "from rpy2.robjects.packages import importr\n",
    "\n",
    "df = session_one[session_one.valid \n",
    "                 & (session_one.trial_consecutive > 30) \n",
    "                ].copy()\n",
    "df['z_trial_consecutive'] = (df['trial_consecutive'] - df['trial_consecutive'].mean()) / (df['trial_consecutive'].std())\n",
    "df['log_trial_consecutive'] = np.log(df['trial_consecutive'] + 1)\n",
    "df['z_log_trial_consecutive'] = (df['log_trial_consecutive'] - df['log_trial_consecutive'].mean()) / (2 * df['log_trial_consecutive'].std())\n",
    "df['is_lattice'] = df['graph'] == 'Lattice'\n",
    "df['trial'] = df['z_log_trial_consecutive']\n",
    "df['shape'] = df['shape'].astype(int)\n",
    "df[['subject', 'movement', 'shape', 'cross_cluster', 'trial', 'response_time', 'is_lattice']].to_csv('data/session_one.csv', index=False)\n",
    "\n",
    "robjects.r(\"\"\"\n",
    "get_confint <- function(model) {\n",
    "  return(get_confint_summary(summary(model)))\n",
    "}\n",
    "\n",
    "get_confint_summary <- function(summary) {\n",
    "  coefficients <- summary$coefficients\n",
    "  \n",
    "  lb <- coefficients[,c(\"Estimate\")] - 1.96*coefficients[,c(\"Std. Error\")]\n",
    "  ub <- coefficients[,c(\"Estimate\")] + 1.96*coefficients[,c(\"Std. Error\")]\n",
    "  \n",
    "  coef.start <- coefficients[,1:2]\n",
    "  coef.end <- coefficients[,3:dim(coefficients)[[2]]]\n",
    "  \n",
    "  coef.start <- cbind(coef.start, lb)\n",
    "  colnames(coef.start)[[length(colnames(coef.start))]] <- \"95% Conf. Int.\"\n",
    "  \n",
    "  coef.start <- cbind(coef.start, ub) \n",
    "  colnames(coef.start)[[length(colnames(coef.start))]] <- \"\"\n",
    "  \n",
    "  coef.start <- cbind(coef.start, coef.end)\n",
    "  \n",
    "  \n",
    "  coef.start <- as_tibble(coef.start, rownames=\"Variable\")\n",
    "  \n",
    "  coef.start <-\n",
    "    coef.start %>%\n",
    "    mutate(Sig. = if_else(`Pr(>|t|)` < 0.1, \".\", \"\")) %>%\n",
    "    mutate(Sig. = if_else(`Pr(>|t|)` < 0.05, \"*\", Sig.)) %>%\n",
    "    mutate(Sig. = if_else(`Pr(>|t|)` < 0.01, \"**\", Sig.)) %>%\n",
    "    mutate(Sig. = if_else(`Pr(>|t|)` < 0.001, \"***\", Sig.))\n",
    "  \n",
    "  colnames(coef.start)[[1]] <- \" \"\n",
    "  colnames(coef.start)[[5]] <- \" \"\n",
    "  \n",
    "  return(coef.start)\n",
    "}\n",
    "\"\"\")\n",
    "\n",
    "rstring=\"\"\"\n",
    "    cluster_test <- function(){\n",
    "        library(lmerTest)\n",
    "        library(xtable)\n",
    "        library(readr)\n",
    "        library(tibble)\n",
    "        library(dplyr)\n",
    "        data <- read_csv('data/session_one.csv', col_types='ffflddl')\n",
    "        data$shape <- factor(data$shape, levels=c(\"1\", \"2\", \"3\", \"4\", \"5\", \"6\", \"7\", \"8\", \"9\", \"10\", \"11\", \"12\", \"13\", \"14\", \"15\"))\n",
    "        data$movement <- factor(data$movement, levels=c(\"[10000]\", \"[01000]\", \"[00100]\", \"[00010]\", \"[00001]\", \"[11000]\", \"[01100]\", \"[00110]\", \"[00011]\", \"[10100]\", \"[01010]\", \"[00101]\", \"[10010]\", \"[01001]\", \"[10001]\"))\n",
    "        result <- lmer('response_time ~ trial * is_lattice + movement + shape + (1 + trial + is_lattice | subject)', data=data, REML=TRUE)\n",
    "        print(summary(result))\n",
    "        print(xtable(get_confint(result), \n",
    "             digits=c(2,2,3,3,3,3,0,2,2,2), \n",
    "             display=c(\"s\",\"f\",\"f\",\"f\",\"f\",\"f\",\"f\",\"f\",\"g\",\"s\")),\n",
    "      include.rownames=FALSE)\n",
    "    }\n",
    "\"\"\"\n",
    "rfunc=robjects.r(rstring)\n",
    "\n",
    "# rdata=ts(traindf.Price.values,frequency=4)\n",
    "r_df=rfunc()"
   ]
  },
  {
   "cell_type": "code",
   "execution_count": 65,
   "metadata": {},
   "outputs": [],
   "source": [
    "rts_lattice = df[(df[\"graph\"] == \"Lattice\")].groupby(\"subject\")[\"log_response_time\"].mean()\n",
    "rts_modular = df[(df[\"graph\"] == \"Modular\")].groupby(\"subject\")[\"log_response_time\"].mean()"
   ]
  },
  {
   "cell_type": "code",
   "execution_count": 66,
   "metadata": {},
   "outputs": [],
   "source": [
    "rts_lattice = session_one[(session_one[\"graph\"] == \"Lattice\") & (session_one[\"trial_consecutive\"] > 1200)].groupby(\"subject\")[\"response_time\"].mean()\n",
    "rts_modular = session_one[(session_one[\"graph\"] == \"Modular\") & (session_one[\"trial_consecutive\"] > 300)].groupby(\"subject\")[\"response_time\"].mean()"
   ]
  },
  {
   "cell_type": "code",
   "execution_count": 67,
   "metadata": {},
   "outputs": [
    {
     "data": {
      "text/plain": [
       "TtestResult(statistic=-0.4470457878421426, pvalue=0.6581630681768181, df=29.0)"
      ]
     },
     "execution_count": 67,
     "metadata": {},
     "output_type": "execute_result"
    }
   ],
   "source": [
    "ttest_ind(rts_lattice, rts_modular)"
   ]
  },
  {
   "cell_type": "markdown",
   "metadata": {},
   "source": [
    "# Hamiltonian Effects"
   ]
  },
  {
   "cell_type": "code",
   "execution_count": 71,
   "metadata": {},
   "outputs": [
    {
     "name": "stderr",
     "output_type": "stream",
     "text": [
      "R[write to console]: boundary (singular) fit: see help('isSingular')\n",
      "\n"
     ]
    },
    {
     "name": "stdout",
     "output_type": "stream",
     "text": [
      "Linear mixed model fit by REML. t-tests use Satterthwaite's method [\n",
      "lmerModLmerTest]\n",
      "Formula: \n",
      "\"response_time ~ trial * is_hamiltonian + movement + shape + (1 + trial * is_hamiltonian | subject)\"\n",
      "   Data: data\n",
      "\n",
      "REML criterion at convergence: -2888.3\n",
      "\n",
      "Scaled residuals: \n",
      "    Min      1Q  Median      3Q     Max \n",
      "-3.4037 -0.6317 -0.1453  0.4373  5.8027 \n",
      "\n",
      "Random effects:\n",
      " Groups   Name                     Variance  Std.Dev. Corr             \n",
      " subject  (Intercept)              0.0179086 0.13382                   \n",
      "          trial                    0.0017415 0.04173  -0.01            \n",
      "          is_hamiltonianTRUE       0.0001829 0.01353   0.75  0.15      \n",
      "          trial:is_hamiltonianTRUE 0.0004136 0.02034  -0.66 -0.51 -0.93\n",
      " Residual                          0.0356936 0.18893                   \n",
      "Number of obs: 6476, groups:  subject, 16\n",
      "\n",
      "Fixed effects:\n",
      "                           Estimate Std. Error         df t value Pr(>|t|)    \n",
      "(Intercept)               1.010e+00  3.617e-02  2.020e+01  27.937  < 2e-16 ***\n",
      "trial                    -4.043e-02  1.196e-02  1.506e+01  -3.379  0.00411 ** \n",
      "is_hamiltonianTRUE        5.512e-02  6.357e-03  2.067e+01   8.670 2.52e-08 ***\n",
      "movement[01000]          -6.044e-02  1.269e-02  6.408e+03  -4.763 1.95e-06 ***\n",
      "movement[00100]          -7.938e-02  1.280e-02  6.415e+03  -6.200 5.99e-10 ***\n",
      "movement[00010]          -1.081e-02  1.337e-02  6.411e+03  -0.809  0.41869    \n",
      "movement[00001]          -2.607e-02  1.310e-02  6.408e+03  -1.989  0.04670 *  \n",
      "movement[11000]           1.365e-01  1.317e-02  6.415e+03  10.365  < 2e-16 ***\n",
      "movement[01100]           1.030e-01  1.384e-02  6.409e+03   7.440 1.14e-13 ***\n",
      "movement[00110]           1.430e-01  1.278e-02  6.413e+03  11.195  < 2e-16 ***\n",
      "movement[00011]           1.580e-01  1.270e-02  6.410e+03  12.438  < 2e-16 ***\n",
      "movement[10100]           1.942e-01  1.331e-02  6.413e+03  14.600  < 2e-16 ***\n",
      "movement[01010]           2.336e-01  1.371e-02  6.414e+03  17.042  < 2e-16 ***\n",
      "movement[00101]           3.117e-01  1.404e-02  6.414e+03  22.195  < 2e-16 ***\n",
      "movement[10010]           1.752e-01  1.338e-02  6.414e+03  13.092  < 2e-16 ***\n",
      "movement[01001]           1.799e-01  1.341e-02  6.412e+03  13.414  < 2e-16 ***\n",
      "movement[10001]           1.053e-01  1.318e-02  6.412e+03   7.987 1.62e-15 ***\n",
      "shape2                   -1.605e-01  1.404e-02  6.413e+03 -11.429  < 2e-16 ***\n",
      "shape3                   -1.488e-01  1.388e-02  6.408e+03 -10.723  < 2e-16 ***\n",
      "shape4                   -2.990e-01  1.341e-02  6.416e+03 -22.294  < 2e-16 ***\n",
      "shape5                   -2.358e-01  1.362e-02  6.410e+03 -17.317  < 2e-16 ***\n",
      "shape6                   -2.418e-01  1.358e-02  6.413e+03 -17.802  < 2e-16 ***\n",
      "shape7                   -1.147e-01  1.404e-02  6.415e+03  -8.171 3.67e-16 ***\n",
      "shape8                   -2.071e-01  1.366e-02  6.409e+03 -15.159  < 2e-16 ***\n",
      "shape9                   -2.209e-01  1.374e-02  6.411e+03 -16.078  < 2e-16 ***\n",
      "shape10                  -2.903e-01  1.381e-02  6.411e+03 -21.014  < 2e-16 ***\n",
      "shape11                  -2.298e-01  1.412e-02  6.411e+03 -16.279  < 2e-16 ***\n",
      "shape12                  -1.082e-01  1.389e-02  6.415e+03  -7.790 7.75e-15 ***\n",
      "shape13                  -1.633e-01  1.409e-02  6.413e+03 -11.588  < 2e-16 ***\n",
      "shape14                  -2.222e-01  1.364e-02  6.409e+03 -16.298  < 2e-16 ***\n",
      "shape15                  -1.950e-01  1.377e-02  6.408e+03 -14.165  < 2e-16 ***\n",
      "trial:is_hamiltonianTRUE -2.836e-02  1.115e-02  2.821e+01  -2.543  0.01675 *  \n",
      "---\n",
      "Signif. codes:  0 ‘***’ 0.001 ‘**’ 0.01 ‘*’ 0.05 ‘.’ 0.1 ‘ ’ 1\n"
     ]
    },
    {
     "name": "stderr",
     "output_type": "stream",
     "text": [
      "R[write to console]: \n",
      "Correlation matrix not shown by default, as p = 32 > 12.\n",
      "Use print(summary(result), correlation=TRUE)  or\n",
      "    vcov(summary(result))        if you need it\n",
      "\n",
      "\n"
     ]
    },
    {
     "name": "stdout",
     "output_type": "stream",
     "text": [
      "optimizer (nloptwrap) convergence code: 0 (OK)\n",
      "boundary (singular) fit: see help('isSingular')\n",
      "\n",
      "% latex table generated in R 4.3.2 by xtable 1.8-4 package\n",
      "% Mon Feb 12 10:42:03 2024\n",
      "\\begin{table}[ht]\n",
      "\\centering\n",
      "\\begin{tabular}{lrrrrrrrl}\n",
      "  \\hline\n",
      "  & Estimate & Std. Error & 95\\% Conf. Int. &   & df & t value & Pr($>$$|$t$|$) & Sig. \\\\ \n",
      "  \\hline\n",
      "(Intercept) & 1.010 & 0.036 & 0.940 & 1.081 & 20 & 27.94 & 1.3e-17 & *** \\\\ \n",
      "  trial & -0.040 & 0.012 & -0.064 & -0.017 & 15 & -3.38 & 0.0041 & ** \\\\ \n",
      "  is\\_hamiltonianTRUE & 0.055 & 0.006 & 0.043 & 0.068 & 21 & 8.67 & 2.5e-08 & *** \\\\ \n",
      "  movement[01000] & -0.060 & 0.013 & -0.085 & -0.036 & 6408 & -4.76 & 1.9e-06 & *** \\\\ \n",
      "  movement[00100] & -0.079 & 0.013 & -0.104 & -0.054 & 6415 & -6.20 & 6e-10 & *** \\\\ \n",
      "  movement[00010] & -0.011 & 0.013 & -0.037 & 0.015 & 6411 & -0.81 & 0.42 &  \\\\ \n",
      "  movement[00001] & -0.026 & 0.013 & -0.052 & -0.000 & 6408 & -1.99 & 0.047 & * \\\\ \n",
      "  movement[11000] & 0.136 & 0.013 & 0.111 & 0.162 & 6415 & 10.36 & 5.6e-25 & *** \\\\ \n",
      "  movement[01100] & 0.103 & 0.014 & 0.076 & 0.130 & 6409 & 7.44 & 1.1e-13 & *** \\\\ \n",
      "  movement[00110] & 0.143 & 0.013 & 0.118 & 0.168 & 6413 & 11.20 & 7.9e-29 & *** \\\\ \n",
      "  movement[00011] & 0.158 & 0.013 & 0.133 & 0.183 & 6410 & 12.44 & 4.1e-35 & *** \\\\ \n",
      "  movement[10100] & 0.194 & 0.013 & 0.168 & 0.220 & 6413 & 14.60 & 1.6e-47 & *** \\\\ \n",
      "  movement[01010] & 0.234 & 0.014 & 0.207 & 0.260 & 6414 & 17.04 & 9.9e-64 & *** \\\\ \n",
      "  movement[00101] & 0.312 & 0.014 & 0.284 & 0.339 & 6414 & 22.20 & 3.2e-105 & *** \\\\ \n",
      "  movement[10010] & 0.175 & 0.013 & 0.149 & 0.201 & 6414 & 13.09 & 1.1e-38 & *** \\\\ \n",
      "  movement[01001] & 0.180 & 0.013 & 0.154 & 0.206 & 6412 & 13.41 & 1.8e-40 & *** \\\\ \n",
      "  movement[10001] & 0.105 & 0.013 & 0.079 & 0.131 & 6412 & 7.99 & 1.6e-15 & *** \\\\ \n",
      "  shape2 & -0.161 & 0.014 & -0.188 & -0.133 & 6413 & -11.43 & 5.8e-30 & *** \\\\ \n",
      "  shape3 & -0.149 & 0.014 & -0.176 & -0.122 & 6408 & -10.72 & 1.3e-26 & *** \\\\ \n",
      "  shape4 & -0.299 & 0.013 & -0.325 & -0.273 & 6416 & -22.29 & 4.1e-106 & *** \\\\ \n",
      "  shape5 & -0.236 & 0.014 & -0.262 & -0.209 & 6410 & -17.32 & 1.1e-65 & *** \\\\ \n",
      "  shape6 & -0.242 & 0.014 & -0.268 & -0.215 & 6413 & -17.80 & 3.1e-69 & *** \\\\ \n",
      "  shape7 & -0.115 & 0.014 & -0.142 & -0.087 & 6415 & -8.17 & 3.7e-16 & *** \\\\ \n",
      "  shape8 & -0.207 & 0.014 & -0.234 & -0.180 & 6409 & -15.16 & 5e-51 & *** \\\\ \n",
      "  shape9 & -0.221 & 0.014 & -0.248 & -0.194 & 6411 & -16.08 & 4.7e-57 & *** \\\\ \n",
      "  shape10 & -0.290 & 0.014 & -0.317 & -0.263 & 6411 & -21.01 & 7.3e-95 & *** \\\\ \n",
      "  shape11 & -0.230 & 0.014 & -0.257 & -0.202 & 6411 & -16.28 & 2e-58 & *** \\\\ \n",
      "  shape12 & -0.108 & 0.014 & -0.135 & -0.081 & 6415 & -7.79 & 7.7e-15 & *** \\\\ \n",
      "  shape13 & -0.163 & 0.014 & -0.191 & -0.136 & 6413 & -11.59 & 9.6e-31 & *** \\\\ \n",
      "  shape14 & -0.222 & 0.014 & -0.249 & -0.196 & 6409 & -16.30 & 1.5e-58 & *** \\\\ \n",
      "  shape15 & -0.195 & 0.014 & -0.222 & -0.168 & 6408 & -14.16 & 7.2e-45 & *** \\\\ \n",
      "  trial:is\\_hamiltonianTRUE & -0.028 & 0.011 & -0.050 & -0.007 & 28 & -2.54 & 0.017 & * \\\\ \n",
      "   \\hline\n",
      "\\end{tabular}\n",
      "\\end{table}\n"
     ]
    }
   ],
   "source": [
    "import rpy2\n",
    "import rpy2.robjects as robjects\n",
    "from rpy2.robjects.packages import importr\n",
    "\n",
    "df = session_two[session_two.valid \n",
    "                 & (session_two.trial_consecutive > 30) \n",
    "                 & (session_two.graph == 'Modular')\n",
    "                ].copy()\n",
    "df['z_trial_consecutive'] = (df['trial_consecutive'] - df['trial_consecutive'].mean()) / (df['trial_consecutive'].std())\n",
    "df['log_trial_consecutive'] = np.log(df['trial_consecutive'] + 1)\n",
    "df['z_log_trial_consecutive'] = (df['log_trial_consecutive'] - df['log_trial_consecutive'].mean()) / (2 * df['log_trial_consecutive'].std())\n",
    "df['is_lattice'] = df['graph'] == 'Lattice'\n",
    "df['trial'] = df['z_log_trial_consecutive']\n",
    "df['shape'] = df['shape'].astype(int)\n",
    "df[['subject', 'movement', 'shape', 'is_hamiltonian', 'trial', 'response_time', 'is_lattice']].to_csv('data/session_two.csv', index=False)\n",
    "\n",
    "robjects.r(\"\"\"\n",
    "get_confint <- function(model) {\n",
    "  return(get_confint_summary(summary(model)))\n",
    "}\n",
    "\n",
    "get_confint_summary <- function(summary) {\n",
    "  coefficients <- summary$coefficients\n",
    "  \n",
    "  lb <- coefficients[,c(\"Estimate\")] - 1.96*coefficients[,c(\"Std. Error\")]\n",
    "  ub <- coefficients[,c(\"Estimate\")] + 1.96*coefficients[,c(\"Std. Error\")]\n",
    "  \n",
    "  coef.start <- coefficients[,1:2]\n",
    "  coef.end <- coefficients[,3:dim(coefficients)[[2]]]\n",
    "  \n",
    "  coef.start <- cbind(coef.start, lb)\n",
    "  colnames(coef.start)[[length(colnames(coef.start))]] <- \"95% Conf. Int.\"\n",
    "  \n",
    "  coef.start <- cbind(coef.start, ub) \n",
    "  colnames(coef.start)[[length(colnames(coef.start))]] <- \"\"\n",
    "  \n",
    "  coef.start <- cbind(coef.start, coef.end)\n",
    "  \n",
    "  \n",
    "  coef.start <- as_tibble(coef.start, rownames=\"Variable\")\n",
    "  \n",
    "  coef.start <-\n",
    "    coef.start %>%\n",
    "    mutate(Sig. = if_else(`Pr(>|t|)` < 0.1, \".\", \"\")) %>%\n",
    "    mutate(Sig. = if_else(`Pr(>|t|)` < 0.05, \"*\", Sig.)) %>%\n",
    "    mutate(Sig. = if_else(`Pr(>|t|)` < 0.01, \"**\", Sig.)) %>%\n",
    "    mutate(Sig. = if_else(`Pr(>|t|)` < 0.001, \"***\", Sig.))\n",
    "  \n",
    "  colnames(coef.start)[[1]] <- \" \"\n",
    "  colnames(coef.start)[[5]] <- \" \"\n",
    "  \n",
    "  return(coef.start)\n",
    "}\n",
    "\"\"\")\n",
    "\n",
    "rstring=\"\"\"\n",
    "    cluster_test <- function(){\n",
    "        library(lmerTest)\n",
    "        library(xtable)\n",
    "        library(readr)\n",
    "        library(tibble)\n",
    "        library(dplyr)\n",
    "        data <- read_csv('data/session_two.csv', col_types='ffflddl')\n",
    "        data$shape <- factor(data$shape, levels=c(\"1\", \"2\", \"3\", \"4\", \"5\", \"6\", \"7\", \"8\", \"9\", \"10\", \"11\", \"12\", \"13\", \"14\", \"15\"))\n",
    "        data$movement <- factor(data$movement, levels=c(\"[10000]\", \"[01000]\", \"[00100]\", \"[00010]\", \"[00001]\", \"[11000]\", \"[01100]\", \"[00110]\", \"[00011]\", \"[10100]\", \"[01010]\", \"[00101]\", \"[10010]\", \"[01001]\", \"[10001]\"))\n",
    "        result <- lmer('response_time ~ trial * is_hamiltonian + movement + shape + (1 + trial * is_hamiltonian | subject)', data=data, REML=TRUE)\n",
    "        print(summary(result))\n",
    "        print(xtable(get_confint(result), \n",
    "             digits=c(2,2,3,3,3,3,0,2,2,2), \n",
    "             display=c(\"s\",\"f\",\"f\",\"f\",\"f\",\"f\",\"f\",\"f\",\"g\",\"s\")),\n",
    "      include.rownames=FALSE)\n",
    "    }\n",
    "\"\"\"\n",
    "rfunc=robjects.r(rstring)\n",
    "\n",
    "# rdata=ts(traindf.Price.values,frequency=4)\n",
    "r_df=rfunc()"
   ]
  },
  {
   "cell_type": "code",
   "execution_count": null,
   "metadata": {},
   "outputs": [],
   "source": []
  }
 ],
 "metadata": {
  "kernelspec": {
   "display_name": "Python 3 (ipykernel)",
   "language": "python",
   "name": "python3"
  },
  "language_info": {
   "codemirror_mode": {
    "name": "ipython",
    "version": 3
   },
   "file_extension": ".py",
   "mimetype": "text/x-python",
   "name": "python",
   "nbconvert_exporter": "python",
   "pygments_lexer": "ipython3",
   "version": "3.11.7"
  },
  "toc-autonumbering": true,
  "toc-showcode": false,
  "toc-showmarkdowntxt": false,
  "toc-showtags": false
 },
 "nbformat": 4,
 "nbformat_minor": 4
}
